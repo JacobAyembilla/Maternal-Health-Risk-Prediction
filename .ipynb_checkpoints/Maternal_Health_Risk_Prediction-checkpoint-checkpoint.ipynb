{
 "cells": [
  {
   "cell_type": "markdown",
   "id": "52ff211d",
   "metadata": {},
   "source": [
    "### Maternal Risk Prediction Model Training By Group 4"
   ]
  },
  {
   "cell_type": "markdown",
   "id": "babca93e",
   "metadata": {},
   "source": [
    "### Libraries"
   ]
  },
  {
   "cell_type": "code",
   "execution_count": 1,
   "id": "0bc0f12b",
   "metadata": {},
   "outputs": [],
   "source": [
    "#Importing Relevant Libraries\n",
    "import pandas as pd #to load in the dataset\n",
    "import numpy as np #to load in the dataset\n",
    "from sklearn import linear_model #for the model training\n",
    "from sklearn.model_selection import train_test_split #for train-test splitting\n",
    "import matplotlib.pyplot as plt\n",
    "import seaborn as sns\n",
    "import scipy.stats as stats\n",
    "from sklearn.datasets import make_classification\n",
    "from sklearn.model_selection import train_test_split\n",
    "from sklearn.datasets import make_classification\n",
    "from sklearn.linear_model import LogisticRegression\n",
    "from sklearn.metrics import accuracy_score\n",
    "from imblearn.over_sampling import SMOTE"
   ]
  },
  {
   "cell_type": "markdown",
   "id": "98be0467",
   "metadata": {},
   "source": [
    "#### Exploratory Data Analysis "
   ]
  },
  {
   "cell_type": "code",
   "execution_count": 2,
   "id": "ddb990fb",
   "metadata": {
    "scrolled": false
   },
   "outputs": [
    {
     "data": {
      "text/html": [
       "<div>\n",
       "<style scoped>\n",
       "    .dataframe tbody tr th:only-of-type {\n",
       "        vertical-align: middle;\n",
       "    }\n",
       "\n",
       "    .dataframe tbody tr th {\n",
       "        vertical-align: top;\n",
       "    }\n",
       "\n",
       "    .dataframe thead th {\n",
       "        text-align: right;\n",
       "    }\n",
       "</style>\n",
       "<table border=\"1\" class=\"dataframe\">\n",
       "  <thead>\n",
       "    <tr style=\"text-align: right;\">\n",
       "      <th></th>\n",
       "      <th>Age</th>\n",
       "      <th>SystolicBP</th>\n",
       "      <th>DiastolicBP</th>\n",
       "      <th>BS</th>\n",
       "      <th>BodyTemp</th>\n",
       "      <th>HeartRate</th>\n",
       "      <th>RiskLevel</th>\n",
       "    </tr>\n",
       "  </thead>\n",
       "  <tbody>\n",
       "    <tr>\n",
       "      <th>0</th>\n",
       "      <td>26</td>\n",
       "      <td>120</td>\n",
       "      <td>59</td>\n",
       "      <td>7.10</td>\n",
       "      <td>98.0</td>\n",
       "      <td>65</td>\n",
       "      <td>mid risk</td>\n",
       "    </tr>\n",
       "    <tr>\n",
       "      <th>1</th>\n",
       "      <td>14</td>\n",
       "      <td>131</td>\n",
       "      <td>79</td>\n",
       "      <td>6.84</td>\n",
       "      <td>98.0</td>\n",
       "      <td>70</td>\n",
       "      <td>mid risk</td>\n",
       "    </tr>\n",
       "    <tr>\n",
       "      <th>2</th>\n",
       "      <td>28</td>\n",
       "      <td>121</td>\n",
       "      <td>89</td>\n",
       "      <td>6.04</td>\n",
       "      <td>98.0</td>\n",
       "      <td>77</td>\n",
       "      <td>mid risk</td>\n",
       "    </tr>\n",
       "    <tr>\n",
       "      <th>3</th>\n",
       "      <td>24</td>\n",
       "      <td>91</td>\n",
       "      <td>100</td>\n",
       "      <td>7.75</td>\n",
       "      <td>98.0</td>\n",
       "      <td>79</td>\n",
       "      <td>high risk</td>\n",
       "    </tr>\n",
       "    <tr>\n",
       "      <th>4</th>\n",
       "      <td>23</td>\n",
       "      <td>120</td>\n",
       "      <td>66</td>\n",
       "      <td>6.98</td>\n",
       "      <td>98.0</td>\n",
       "      <td>84</td>\n",
       "      <td>mid risk</td>\n",
       "    </tr>\n",
       "    <tr>\n",
       "      <th>...</th>\n",
       "      <td>...</td>\n",
       "      <td>...</td>\n",
       "      <td>...</td>\n",
       "      <td>...</td>\n",
       "      <td>...</td>\n",
       "      <td>...</td>\n",
       "      <td>...</td>\n",
       "    </tr>\n",
       "    <tr>\n",
       "      <th>3995</th>\n",
       "      <td>37</td>\n",
       "      <td>98</td>\n",
       "      <td>51</td>\n",
       "      <td>7.23</td>\n",
       "      <td>98.0</td>\n",
       "      <td>78</td>\n",
       "      <td>low risk</td>\n",
       "    </tr>\n",
       "    <tr>\n",
       "      <th>3996</th>\n",
       "      <td>25</td>\n",
       "      <td>101</td>\n",
       "      <td>79</td>\n",
       "      <td>7.21</td>\n",
       "      <td>98.0</td>\n",
       "      <td>70</td>\n",
       "      <td>low risk</td>\n",
       "    </tr>\n",
       "    <tr>\n",
       "      <th>3997</th>\n",
       "      <td>42</td>\n",
       "      <td>120</td>\n",
       "      <td>85</td>\n",
       "      <td>6.11</td>\n",
       "      <td>98.0</td>\n",
       "      <td>78</td>\n",
       "      <td>mid risk</td>\n",
       "    </tr>\n",
       "    <tr>\n",
       "      <th>3998</th>\n",
       "      <td>34</td>\n",
       "      <td>119</td>\n",
       "      <td>79</td>\n",
       "      <td>6.83</td>\n",
       "      <td>98.0</td>\n",
       "      <td>76</td>\n",
       "      <td>high risk</td>\n",
       "    </tr>\n",
       "    <tr>\n",
       "      <th>3999</th>\n",
       "      <td>12</td>\n",
       "      <td>120</td>\n",
       "      <td>86</td>\n",
       "      <td>15.05</td>\n",
       "      <td>98.0</td>\n",
       "      <td>67</td>\n",
       "      <td>low risk</td>\n",
       "    </tr>\n",
       "  </tbody>\n",
       "</table>\n",
       "<p>4000 rows × 7 columns</p>\n",
       "</div>"
      ],
      "text/plain": [
       "      Age  SystolicBP  DiastolicBP     BS  BodyTemp  HeartRate  RiskLevel\n",
       "0      26         120           59   7.10      98.0         65   mid risk\n",
       "1      14         131           79   6.84      98.0         70   mid risk\n",
       "2      28         121           89   6.04      98.0         77   mid risk\n",
       "3      24          91          100   7.75      98.0         79  high risk\n",
       "4      23         120           66   6.98      98.0         84   mid risk\n",
       "...   ...         ...          ...    ...       ...        ...        ...\n",
       "3995   37          98           51   7.23      98.0         78   low risk\n",
       "3996   25         101           79   7.21      98.0         70   low risk\n",
       "3997   42         120           85   6.11      98.0         78   mid risk\n",
       "3998   34         119           79   6.83      98.0         76  high risk\n",
       "3999   12         120           86  15.05      98.0         67   low risk\n",
       "\n",
       "[4000 rows x 7 columns]"
      ]
     },
     "execution_count": 2,
     "metadata": {},
     "output_type": "execute_result"
    }
   ],
   "source": [
    "#Loading the training dataset\n",
    "data_train = pd.read_csv('train.csv')\n",
    "data_train"
   ]
  },
  {
   "cell_type": "code",
   "execution_count": 3,
   "id": "4d6494dc",
   "metadata": {},
   "outputs": [
    {
     "data": {
      "text/html": [
       "<div>\n",
       "<style scoped>\n",
       "    .dataframe tbody tr th:only-of-type {\n",
       "        vertical-align: middle;\n",
       "    }\n",
       "\n",
       "    .dataframe tbody tr th {\n",
       "        vertical-align: top;\n",
       "    }\n",
       "\n",
       "    .dataframe thead th {\n",
       "        text-align: right;\n",
       "    }\n",
       "</style>\n",
       "<table border=\"1\" class=\"dataframe\">\n",
       "  <thead>\n",
       "    <tr style=\"text-align: right;\">\n",
       "      <th></th>\n",
       "      <th>Age</th>\n",
       "      <th>SystolicBP</th>\n",
       "      <th>DiastolicBP</th>\n",
       "      <th>BS</th>\n",
       "      <th>BodyTemp</th>\n",
       "      <th>HeartRate</th>\n",
       "    </tr>\n",
       "  </thead>\n",
       "  <tbody>\n",
       "    <tr>\n",
       "      <th>0</th>\n",
       "      <td>30</td>\n",
       "      <td>87</td>\n",
       "      <td>81</td>\n",
       "      <td>7.13</td>\n",
       "      <td>98.0</td>\n",
       "      <td>78</td>\n",
       "    </tr>\n",
       "    <tr>\n",
       "      <th>1</th>\n",
       "      <td>33</td>\n",
       "      <td>119</td>\n",
       "      <td>89</td>\n",
       "      <td>7.01</td>\n",
       "      <td>98.0</td>\n",
       "      <td>65</td>\n",
       "    </tr>\n",
       "    <tr>\n",
       "      <th>2</th>\n",
       "      <td>35</td>\n",
       "      <td>128</td>\n",
       "      <td>84</td>\n",
       "      <td>6.69</td>\n",
       "      <td>98.0</td>\n",
       "      <td>56</td>\n",
       "    </tr>\n",
       "    <tr>\n",
       "      <th>3</th>\n",
       "      <td>36</td>\n",
       "      <td>119</td>\n",
       "      <td>62</td>\n",
       "      <td>6.25</td>\n",
       "      <td>100.7</td>\n",
       "      <td>64</td>\n",
       "    </tr>\n",
       "    <tr>\n",
       "      <th>4</th>\n",
       "      <td>23</td>\n",
       "      <td>150</td>\n",
       "      <td>69</td>\n",
       "      <td>7.21</td>\n",
       "      <td>98.0</td>\n",
       "      <td>86</td>\n",
       "    </tr>\n",
       "    <tr>\n",
       "      <th>...</th>\n",
       "      <td>...</td>\n",
       "      <td>...</td>\n",
       "      <td>...</td>\n",
       "      <td>...</td>\n",
       "      <td>...</td>\n",
       "      <td>...</td>\n",
       "    </tr>\n",
       "    <tr>\n",
       "      <th>995</th>\n",
       "      <td>29</td>\n",
       "      <td>121</td>\n",
       "      <td>68</td>\n",
       "      <td>7.53</td>\n",
       "      <td>98.0</td>\n",
       "      <td>86</td>\n",
       "    </tr>\n",
       "    <tr>\n",
       "      <th>996</th>\n",
       "      <td>25</td>\n",
       "      <td>119</td>\n",
       "      <td>79</td>\n",
       "      <td>6.28</td>\n",
       "      <td>98.0</td>\n",
       "      <td>70</td>\n",
       "    </tr>\n",
       "    <tr>\n",
       "      <th>997</th>\n",
       "      <td>15</td>\n",
       "      <td>120</td>\n",
       "      <td>79</td>\n",
       "      <td>6.50</td>\n",
       "      <td>98.0</td>\n",
       "      <td>78</td>\n",
       "    </tr>\n",
       "    <tr>\n",
       "      <th>998</th>\n",
       "      <td>35</td>\n",
       "      <td>93</td>\n",
       "      <td>68</td>\n",
       "      <td>10.96</td>\n",
       "      <td>98.0</td>\n",
       "      <td>70</td>\n",
       "    </tr>\n",
       "    <tr>\n",
       "      <th>999</th>\n",
       "      <td>54</td>\n",
       "      <td>99</td>\n",
       "      <td>79</td>\n",
       "      <td>9.86</td>\n",
       "      <td>98.0</td>\n",
       "      <td>80</td>\n",
       "    </tr>\n",
       "  </tbody>\n",
       "</table>\n",
       "<p>1000 rows × 6 columns</p>\n",
       "</div>"
      ],
      "text/plain": [
       "     Age  SystolicBP  DiastolicBP     BS  BodyTemp  HeartRate\n",
       "0     30          87           81   7.13      98.0         78\n",
       "1     33         119           89   7.01      98.0         65\n",
       "2     35         128           84   6.69      98.0         56\n",
       "3     36         119           62   6.25     100.7         64\n",
       "4     23         150           69   7.21      98.0         86\n",
       "..   ...         ...          ...    ...       ...        ...\n",
       "995   29         121           68   7.53      98.0         86\n",
       "996   25         119           79   6.28      98.0         70\n",
       "997   15         120           79   6.50      98.0         78\n",
       "998   35          93           68  10.96      98.0         70\n",
       "999   54          99           79   9.86      98.0         80\n",
       "\n",
       "[1000 rows x 6 columns]"
      ]
     },
     "execution_count": 3,
     "metadata": {},
     "output_type": "execute_result"
    }
   ],
   "source": [
    "data_test = pd.read_csv(\"test.csv\")\n",
    "data_test"
   ]
  },
  {
   "cell_type": "code",
   "execution_count": 4,
   "id": "0516003b",
   "metadata": {
    "scrolled": false
   },
   "outputs": [
    {
     "data": {
      "text/plain": [
       "Age            0\n",
       "SystolicBP     0\n",
       "DiastolicBP    0\n",
       "BS             0\n",
       "BodyTemp       0\n",
       "HeartRate      0\n",
       "RiskLevel      0\n",
       "dtype: int64"
      ]
     },
     "execution_count": 4,
     "metadata": {},
     "output_type": "execute_result"
    }
   ],
   "source": [
    "#Checking for null values in the data set\n",
    "data_train.isnull().sum()"
   ]
  },
  {
   "cell_type": "code",
   "execution_count": 5,
   "id": "066992ec",
   "metadata": {
    "scrolled": true
   },
   "outputs": [
    {
     "data": {
      "text/plain": [
       "3"
      ]
     },
     "execution_count": 5,
     "metadata": {},
     "output_type": "execute_result"
    }
   ],
   "source": [
    "data_train['RiskLevel'].nunique()"
   ]
  },
  {
   "cell_type": "code",
   "execution_count": 6,
   "id": "ad04a6d5",
   "metadata": {},
   "outputs": [
    {
     "data": {
      "text/plain": [
       "low risk     1596\n",
       "mid risk     1317\n",
       "high risk    1087\n",
       "Name: RiskLevel, dtype: int64"
      ]
     },
     "execution_count": 6,
     "metadata": {},
     "output_type": "execute_result"
    }
   ],
   "source": [
    "data_train['RiskLevel'].value_counts()"
   ]
  },
  {
   "cell_type": "code",
   "execution_count": 7,
   "id": "8a5fab27",
   "metadata": {
    "scrolled": true
   },
   "outputs": [
    {
     "data": {
      "text/plain": [
       "Age              int64\n",
       "SystolicBP       int64\n",
       "DiastolicBP      int64\n",
       "BS             float64\n",
       "BodyTemp       float64\n",
       "HeartRate        int64\n",
       "RiskLevel       object\n",
       "dtype: object"
      ]
     },
     "execution_count": 7,
     "metadata": {},
     "output_type": "execute_result"
    }
   ],
   "source": [
    "#Checking for data type\n",
    "data_train.dtypes"
   ]
  },
  {
   "cell_type": "code",
   "execution_count": 8,
   "id": "65c21d7d",
   "metadata": {
    "scrolled": true
   },
   "outputs": [
    {
     "data": {
      "text/plain": [
       "Text(0.5, 1.0, 'Distribution of HeartRate')"
      ]
     },
     "execution_count": 8,
     "metadata": {},
     "output_type": "execute_result"
    },
    {
     "data": {
      "image/png": "iVBORw0KGgoAAAANSUhEUgAABTkAAANsCAYAAACQ5KweAAAAOXRFWHRTb2Z0d2FyZQBNYXRwbG90bGliIHZlcnNpb24zLjUuMSwgaHR0cHM6Ly9tYXRwbG90bGliLm9yZy/YYfK9AAAACXBIWXMAAAsTAAALEwEAmpwYAAEAAElEQVR4nOzdd3jc1ZX/8fdRs2RLslwkWc3d2LiCMaaEEGpCS3ASEkwoTtmQQpJNyCYb0skuu/mlsNlslhASEiBkAYdQQw8ldIh7N67YsrpcJTeV8/tjvoLBSLZkzcx3Rvq8nmeeGd1vuWeE8fWcufcec3dEREREREREREREUlVa2AGIiIiIiIiIiIiI9IaSnCIiIiIiIiIiIpLSlOQUERERERERERGRlKYkp4iIiIiIiIiIiKQ0JTlFREREREREREQkpSnJKSIiIiIiIiIiIilNSU7pM8zsZjP7XozuNdLMmswsPfj5OTP7p1jcO7jfY2Y2L1b360G//25mDWZWk+i+RUQkNjTedavfpB7vzOwMM6uM+nmlmZ0RXkQiIn2Txsxu9dvrMTP4vYyNZVzd6POt37+ZXW5mTyayf0lOSnJKSjCzzWa2z8z2mNlOM3vZzD5vZm/9GXb3z7v7v3XzXucc7hx33+Luue7eFoPYf2hmdx5y//Pd/fbe3ruHcVQAXwcmu/uIw5w3xszazeymxEUnIiKg8S4WujPemdm3zWxT8KGs0szu6WWf70ha9pS7T3H357rRj5tZcxB3g5ndZWYFUcefM7P9UcfvM7OSo41LRCSZaczsvSONmcH41h6MKx1j5nwzOzH6vOD3srGXsRx10tjd/+Tu7+9GHz80s5ao97PazD4adTz6/e4xs7Vm9qmjiUnCoSSnpJIPunseMAr4MfCvwK2x7sTMMmJ9zyQxCmh097ojnHcVsAOYa2YD4h+WiIgcQuNd7xx2vAtmyVwJnOPuucAs4OkExtdbM4K4xwJDgB8ecvxLwfFjgALgvxIanYhIYmnM7J3ufEasCsaVPOBkYA3wgpmdnYgA4+CeICmbC3wVuNPMiqOOd7zffCJ/nn5rZpNDiFOOgpKcknLcfZe7PwRcCswzs6kAZnabmf178Hq4mf01+EZvu5m9YGZpZvZHYCTwcPDtzDfNbHQwM+IzZrYFeCaqLXowG2dmr5vZLjN70MyGBn29a/ZGxzeBZnYe8G3g0qC/pcHx6Kn1aWb2XTN708zqzOwOMxscHOuIY56ZbQlmZXynq9+NmQ0Orq8P7vfd4P7nAE8BpUEctx3mV3wV8F2gBfjgIfd/f/Bt1i4zu8nM/h79bZuZfTr4NmyHmT1hZqMO04+IiByGxru4jXcnAk+4+4bg91zj7rcE9/2YmS08pK+vm9kDwesLzGyVRWZ3bDOzfzGzQcBjUX02mVmpmQ0ws1+YWVXw+IV18eWhRc0gMrN0i8w03RD0s9AiM23ewd13Aw8BnX7wcvftwF+AqV39HkVE+gqNmXH/jIhHVLr794HfAf8vqg83s/HB6wvNbLGZ7TazrWb2w6jzss3sTjNrDP47/MPMis3sBuC9wK+CWH4VnH9qcM6u4PnULt7jJ83sxaifp5jZU8F/51oz+3YX7+kJYA8wrov3+wCRCUBKcqYIJTklZbn760Alkb8MD/X14FghUExkEHF3vxLYQuQbv1x3/0nUNe8DjgU+0EWXVwGfBkqBVuCX3YjxceA/ePvbohmdnPbJ4HEmkVkZucCvDjnnNGAicDbwfTM7tosu/wcYHNznfUHMn3L3vwHnE3wr5e6f7OxiM3svUA7cDcwPru84Nhy4F7gOGAasBU6NOj6HyO/5I0R+7y8Ad3URp4iIdJPGu071Zrx7FbjKzL5hZrMs2Fst8BAw5pB+rwD+GLy+FfhcMGtoKvCMuzcf0meuu1cB3yEy4+U4YAYwm8iXiEdyLXAZcAGRWSSfBvYeepKZDQHmBO/nXYJx+6PA4m70KSLSJ2jM7FSvPiN24T5gZvBF36Gagz4KgAuBLwSfFQHmBbFUEPlM+Xlgn7t/h8jnxy8FsXwpSBg/QuR3Ogy4EXjEzIYdLjAzywP+BjxO5L/LeDpZsWERFwJZwKpOjqeZ2YeD97H8cH1K8lCSU1JdFTC0k/YWoAQY5e4t7v6Cu/sR7vVDd292931dHP+ju68IPsx8D/j4IR+MjtblwI3uvtHdm4gkEece8g3h9e6+z92XAkuJfFh6hyCWS4Hr3H2Pu28Gfk5kSV53zQMec/cdwP8B55tZUXDsAmClu9/n7h0DePTm1J8D/tPdVwfH/wM4zjSbU0QkFjTeBXo73rn7ncCXiXxg/TtQZ2bfCo4dAO4hktjEzKYAo4G/Bpe3AJPNLN/dd7j7oiO83x+5e5271wPXdzPGfwK+6+5rg1kkS929Mer4IjPbCTQQmXn0m0Ou/2VwfClQTSRpKiLSn2jMDMToM2JnqgAjkgB8B3d/zt2Xu3u7uy8jMvHlfcHhFiIJy/Hu3ubuC4OVCZ25EFjn7n9091Z3v4vIUvkPdnF+h4uAGnf/ubvvD973a1HHPx6Mk81Evtz8D3ffGXW8NGqc/QFwpbuvPUKfkiSU5JRUVwZs76T9p8B64Ekz29jx4eUItvbg+JtAJjC8W1EeXmlwv+h7ZxD5drFDdDJxL5Fv8g41nMi3UIfeq6w7QZhZDvAx4E8A7v4KkW80PxEV51u/g+AfBNFLMEYB/x0sO9hJ5L+Ldbd/ERE5LI13b+vVeAdvFSg4h8iHs88DPzKzjlk6twOfMDMj8iFwfpD8hMjMyAuANy2yZcsph+mms/db2o3wKoANhzk+090LgGzg10T2RcuOOv4Vdy9w9zJ3vzxIsIqI9CcaM9/W6zGzC2WAAzsPPWBmJ5nZs8Hy+F1ExtmO38kfgSeAuy2ylctPzCyziz4O/R10N/YjjaPzg3FyIJFl6leZ2eeijlcFx4e6+3HufvcR+pMkoiSnpCyLVHQrA1489Fjwbc3X3X0skW96rrW3N0bu6tu6I32LF70f1kgi30I1EPkGaGBUXOlElkB0975VRBKE0fduBWqPcN2hGoKYDr3Xtm5e/2Eiy+JuMrMaM6sh8vvtWLJeTWQpOxCZ3h/9M5EB/nPBgNDxyHH3l3v4PkREJIrGu3fp7Xj3lmAmz5+BZQR7V7r7q8BBIksdP8HbS9Vx93+4+8VAEfAAka1doPP33tn7repGWFvpZG+wzmInsifaGLTvpogIoDGzEzEbMw/xYWBRMIP1UP9HZIZkhbsPBm4mMvmlY9y93t0nE9n67CLe/rx56O/k0N9Bd2Pv1jgaxLOZyL7aR5odKilCSU5JOWaWb2YXEdk38k53f9f+GGZ2kZmNDxJxu4G24AGRgWHsUXR9hZlNNrOBwI+Ae929DXgDyA42WM4kst9WdGGBWmC0mXX1/9tdwNfMbIyZ5fL2/iytPQkuiGU+cIOZ5QXLxK8F7uzmLeYBvwemEdk/7DjgPUSWnE8jsh/KNDObEyyTuAYYEXX9zcB1wdK+jg2uP9aT9yAiIm/TeNe53o53FilOcGFwbZqZnQ9MAaKXst1BZO+zVnd/Mbguy8wuN7PBQYKx4/fd8d6HWVAUIur9ftfMCoP9Mb/fzRh/B/ybmU0I9gub3tn+Y8EH5k8B+4CN3XnvIiJ9lcbMzsXgM+JbgjGpzMx+QGRrlU6L+RCpwr7d3feb2WzeXhmImZ1pZtOCMWw3kQRsV/8NHgWOMbNPmFmGmV1KpADQXzm8vwIjzOyrFikCmGdmJ3XxnsqB84CVR7inpAglOSWVPGxme4h8M/MdIhsPf6qLcycQ2Wy4CXgFuMndnwuO/SeRDx07zexfetD/H4HbiCwLyAa+ApFKfsAXiXwo2UbkW7voZdx/Dp4bzayzvbt+H9z7eWATsJ/IXmFH48tB/xuJfHv5f8H9D8vMyohsWP0Lj1SZ7XgsJLJh8zx3byCynP0nQCORAWYBcADA3e8nUmHvbjPbDawgspG1iIj0jMa7Izuq8S6wm8gHsy1Eltn9BPhCRzIz8EcisyP/eMi1VwKbg3Hu8wR7d7r7GiIfSDcGv+9S4N+JjJPLiBQsWBS0HcmNRD6QPhnEeiuQE3V8qZk1Ean2Og/4sEcqqYuI9EcaM4+sN2MmBNXXifze/kFkUswZ7v5kF+d/kcg2MHuIfME3P+rYCCLFbHcDq4nsjd2RcP1v4BIz22Fmvwz2o76ISMGoRuCbwEXB59Iuufse4FwiszNrgHVECjh16Khq3/F+XiKyb7b0AXbkfXZFRN4t+NaxErjc3Z8NOx4REZFYscg+1XVE9r9cF3Y8IiIiInJkmskpIt1mZh8wswIzG0BkFowBr4YcloiISKx9AfiHEpwiIiIiqSMj7ABEJKWcQmR5QxawCpjj7vvCDUlERCR2zGwzkS/x5oQbiYiIiIj0hJari4iIiIiIiIiISErTcnURERERERERERFJaSm9XH348OE+evTosMMQERFg4cKFDe5eGHYccmQaP0VEkoPGztShsVNEJHl0NX6mdJJz9OjRLFiwIOwwREQEMLM3w45Bukfjp4hIctDYmTo0doqIJI+uxk8tVxcREREREREREZGUpiSniIiIiIiIiIiIpDQlOUVERERERERERCSlKckpIiIiIiIiIiIiKU1JThEREREREREREUlpSnKKiIiIiIiIiIhISlOSU0RERERERERERFKakpwiIiIiIiIiIiKS0pTkFBERERERERERkZSmJKeIiIiIiIiIiIikNCU5RUREREREREREJKUpySkiIiIiIiIiIiIpTUlOERERERERERERSWlKcoqIiIiIiIiIiEhKU5JTREQkwczs92ZWZ2YrotruMbMlwWOzmS0J2keb2b6oYzdHXXOCmS03s/Vm9kszsxDejoiIiIiISOgywg5A+o5JkydRVVV12HNKS0tZs2pNgiISEUlatwG/Au7oaHD3Sztem9nPgV1R529w9+M6uc+vgauBV4FHgfOAx2Ifrkjfc+5pp1FfU9Pl8cIRI3jqxRcTGJGIiEjqGVk+kq3bth7xvIqyCrZUbklARNKfKckpMVNVVcW1D1x72HNunHNjgqIREUle7v68mY3u7FgwG/PjwFmHu4eZlQD57v5K8PMdwByU5BTplvqaGpZccUWXx4+7884ERiMiIpKatm7byrM/ePaI5515/ZkJiEb6Oy1XFxERSS7vBWrdfV1U2xgzW2xmfzez9wZtZUBl1DmVQVunzOxqM1tgZgvq6+tjH7WIiIiIiEiIlOQUERFJLpcBd0X9XA2MdPfjgWuB/zOzfKCz/Te9q5u6+y3uPsvdZxUWFsY0YBERERERkbBpubqIiEiSMLMM4CPACR1t7n4AOBC8XmhmG4BjiMzcLI+6vBw4/MbIIiIiIiIifZRmcoqIiCSPc4A17v7WMnQzKzSz9OD1WGACsNHdq4E9ZnZysI/nVcCDYQQtIiKSCGb2ezOrM7MVUW0/NbM1ZrbMzO43s4KoY9eZ2XozW2tmH4hqP8HMlgfHfhmMoyIikuKU5BQREUkwM7sLeAWYaGaVZvaZ4NBc3rlUHeB0YJmZLQXuBT7v7tuDY18AfgesBzagokMiItK33Qacd0jbU8BUd58OvAFcB2Bmk4mMq1OCa27q+NIQ+DVwNZEvDid0ck8REUlBWq4uIiKSYO5+WRftn+yk7S/AX7o4fwEwNabBiYiIJCl3f97MRh/S9mTUj68ClwSvLwbuDrZ92WRm64HZZrYZyHf3VwDM7A5gDvqiUEQk5Wkmp4iIiIiIiPQFn+btZGUZsDXqWGXQVha8PrT9XczsajNbYGYL6uvr4xCuiIjEkpKcIiIiIiIiktLM7DtAK/CnjqZOTvPDtL+70f0Wd5/l7rMKCwtjE6iIiMSNlquLiIiIiIhIyjKzecBFwNnu3pGwrAQqok4rB6qC9vJO2kVEJMVpJqeIiIiIiIikJDM7D/hX4EPuvjfq0EPAXDMbYGZjiBQYet3dq4E9ZnZyUFX9KuDBhAcuIiIxp5mcIiIiIiIikvTM7C7gDGC4mVUCPyBSTX0A8FQkZ8mr7v55d19pZvOBVUSWsV/j7m3Brb5ApFJ7DpE9PFV0SESkD1CSU0RERERERJKeu1/WSfOthzn/BuCGTtoXAFNjGJqIiCQBLVcXERERERERERGRlKYkp4iIiIiIiIiIiKQ0JTlFREREREREREQkpSnJKSIiIiIiIiIiIilNSU4RERERERERERFJaUpyioiIiIiIiIiISEpTklNERERERERERERSmpKcIiIiIiIiIiIiktKU5BQREREREREREZGUpiSniIiIiIiIiIiIpDQlOUVERERERERERCSlKckpIiIiIiIiIiIiKU1JThEREREREREREUlpSnKKiIiIiIiIiIhISlOSU0RERERERERERFKakpwiIiIiIiIiIiKS0pTkFBERERERERERkZSWEXYAIoeaNHkSVVVVRzyvtLSUNavWJCAiERERERERERFJZnFPcppZOrAA2ObuF5nZUOAeYDSwGfi4u+8Izr0O+AzQBnzF3Z+Id3ySfKqqqrj2gWuPeN6Nc25MQDQiIiIiIiIiIpLsErFc/Z+B1VE/fwt42t0nAE8HP2Nmk4G5wBTgPOCmIEEqIiIiIiIiIiIi0qW4JjnNrBy4EPhdVPPFwO3B69uBOVHtd7v7AXffBKwHZsczPhEREREREREREUl98Z7J+Qvgm0B7VFuxu1cDBM9FQXsZsDXqvMqg7R3M7GozW2BmC+rr6+MStIiIiIiIiIiIiKSOuCU5zewioM7dF3b3kk7a/F0N7re4+yx3n1VYWNirGEVERERERERERCT1xbPw0HuAD5nZBUA2kG9mdwK1Zlbi7tVmVgLUBedXAhVR15cDRy6xLSIiIiIiIiIiIv1a3GZyuvt17l7u7qOJFBR6xt2vAB4C5gWnzQMeDF4/BMw1swFmNgaYALwer/hERERERERERESkb4jnTM6u/BiYb2afAbYAHwNw95VmNh9YBbQC17h7WwjxiYiIiIiIiIiISApJSJLT3Z8DngteNwJnd3HeDcANiYhJRERERERERERE+oZ4V1cXERERERERERERiSslOUVERERERERERCSlKckpIiIiIiIiIiIiKU1JThEREREREREREUlpSnKKiIiIiIiIiIhISlOSU0RERERERERERFKakpwiIiIJZma/N7M6M1sR1fZDM9tmZkuCxwVRx64zs/VmttbMPhDVfoKZLQ+O/dLMLNHvRUREREREJBkoySkiIpJ4twHnddL+X+5+XPB4FMDMJgNzgSnBNTeZWXpw/q+Bq4EJwaOze4qIiIiIiPR5SnKKiIgkmLs/D2zv5ukXA3e7+wF33wSsB2abWQmQ7+6vuLsDdwBz4hKwiIiIiIhIklOSU0REJHl8ycyWBcvZhwRtZcDWqHMqg7ay4PWh7Z0ys6vNbIGZLaivr4913CIiIiIiIqFSklNERCQ5/BoYBxwHVAM/D9o722fTD9PeKXe/xd1nufuswsLCXoYqIiIiIiKSXJTkFBERSQLuXuvube7eDvwWmB0cqgQqok4tB6qC9vJO2kVERERERPodJTlFRESSQLDHZocPAx2V1x8C5prZADMbQ6TA0OvuXg3sMbOTg6rqVwEPJjRoERERERGRJJERdgAiIiL9jZndBZwBDDezSuAHwBlmdhyRJeebgc8BuPtKM5sPrAJagWvcvS241ReIVGrPAR4LHiIiIiIiIv2OkpwiIiIJ5u6XddJ862HOvwG4oZP2BcDUGIYmIiIiIiKSkrRcXURERERERERERFKakpwiIiIiIiIiIiKS0pTkFBERERERERERkZSmJKeIiIiIiIiIiIikNCU5RUREREREJOmZ2e/NrM7MVkS1DTWzp8xsXfA8JOrYdWa23szWmtkHotpPMLPlwbFfmpkl+r2IiEjsKckpIiIiIiIiqeA24LxD2r4FPO3uE4Cng58xs8nAXGBKcM1NZpYeXPNr4GpgQvA49J4iIpKClOQUERERERGRpOfuzwPbD2m+GLg9eH07MCeq/W53P+Dum4D1wGwzKwHy3f0Vd3fgjqhrREQkhSnJKSIiIiIiIqmq2N2rAYLnoqC9DNgadV5l0FYWvD60/V3M7GozW2BmC+rr62MeuIiIxJaSnCIiIiIiItLXdLbPph+m/d2N7re4+yx3n1VYWBjT4EREJPaU5BQREREREZFUVRssQSd4rgvaK4GKqPPKgaqgvbyTdhERSXFKcoqIiIiIiEiqegiYF7yeBzwY1T7XzAaY2RgiBYZeD5a07zGzk4Oq6ldFXSMiIiksI+wARERERERERI7EzO4CzgCGm1kl8APgx8B8M/sMsAX4GIC7rzSz+cAqoBW4xt3bglt9gUil9hzgseAhIiIpTklOERERERERSXruflkXh87u4vwbgBs6aV8ATI1haCIikgS0XF1ERERERERERERSmpKcIiIiIiIiIiIiktKU5BQREREREREREZGUpiSnJNy+ln38cekfufTeS/nNgt9woPVA2CGJiIiIiIiIiEgKU+EhSSjPcE79/aksqVlCQXYB81fO52ev/IxXPvMKwwcODzs8ERERERERERFJQZrJKQnj7uw/Zz9La5Zy90fvpvGbjfz1sr+ydddWrrjvCtq9PewQRUREREREREQkBSnJKQmzon4Frce28qMzf8SlUy8lzdK48JgL+eX5v+SJDU/ws5d/FnaIIiIiIiIiIiKSgpTklIRwd17c8iJpDWl8+73ffsexz878LBcdcxE/fvHH7DmwJ6QIRUREREREREQkVSnJKQmxfvt66prryFqQRZq984+dmfG907/Hjv07uHnBzSFFKCIiIiIiIiIiqUqFhyQhXtr6EvkD8mlf2/m+m7PLZnPO2HP4+Ss/x9M9wdGJiIiIiIiIiEgq00xOibvGvY28uetNZpfNxtqty/OuO+06aptraZ3QmsDoREREREREREQk1SnJKXG3qmEVAFMLpx72vDNGn8GowaNomdSSiLBERERERERERKSPUJJT4m5V/SrK88oZnD34sOelWRqXT7uctlFtNB1sSlB0IiIiIiIiIiKS6pTklLjavm87NU01TC6c3K3zL59+OaTByrqVcY5MRERERERERET6CiU5Ja5W1UeWqh9beGy3zp9cOJm02jSW1y2PZ1giIiIiIiIiItKHKMkpcbVu+zpKcksoyC7o9jUZ6zLYtmcbew7siV9gIiIiIiIiIiLSZyjJKXFzsO0glbsrGTtkbI+uy9iUAcD67evjEZaIiIiIiIiIiPQxSnJK3GzZtYV2b2dMwZgeXZfWkEZeVh7rtq+LU2QiIiIiIiIiItKXKMkpcbNpxybSLZ2Rg0f26DrDmDBsAht2bKCtvS1O0YmIiIiIiIiISF+hJKfEzaadmyjPLyczPbPH104YOoGDbQfZsmtLHCITEREREREREZG+RElOiYt9Lfuobqru8VL1DmOHjCXN0rQvp4iIiIiIiIiIHJGSnBIXb+56E4DRBaOP6vqs9CzK88vZvGtz7IISEREREREREZE+SUlOiYvK3ZWkWRqleaVHfY/Rg0dTvaeaA60HYhiZiIiIiIiIiIj0NUpySlxs272NEbkjjmo/zg6jC0bjuPblFBERERERERGRw1KSU2Ku3dvZtmcb5fnlvbpPeX456ZbO5p2bYxOYiIiIiIiIiIj0SUpySszVNdfR0t5CeV7vkpyZ6Znal1NERERERERERI5ISU6JuW27twH0eiYnwKiCUVTvqWZ/6/5e30tEJFmY2e/NrM7MVkS1/dTM1pjZMjO738wKgvbRZrbPzJYEj5ujrjnBzJab2Xoz+6WZWQhvR0REREREJHRKckrMVe6pZGDmQAqyC3p9r1GDR+H4W4lTEZE+4jbgvEPangKmuvt04A3guqhjG9z9uODx+aj2XwNXAxOCx6H3FBERERER6ReU5JSYq9xdSXleObGYUFSWV4ZhbN29NQaRiYgkB3d/Hth+SNuT7t4a/PgqcNjp8GZWAuS7+yvu7sAdwJw4hCsiIiIiIpL0lOSUmDrYdpCGvQ2U5pXG5H4DMgZQNKiIyt2VMbmfiEiK+DTwWNTPY8xssZn93czeG7SVAdF/OVYGbZ0ys6vNbIGZLaivr499xCIiIiIiIiFSklNiqrapFoARuSNids/y/HIqd1cSmagkItK3mdl3gFbgT0FTNTDS3Y8HrgX+z8zygc6my3f5F6W73+Lus9x9VmFhYazDFhERERERCZWSnBJT1U3VAJTklcTsnhWDKzjQdoD6vZp5JCJ9m5nNAy4CLg+WoOPuB9y9MXi9ENgAHENk5mb0kvZyoCqxEYuIiIiIiCQHJTklpmqaahiYOZC8rLyY3bMivwKArbu0L6eI9F1mdh7wr8CH3H1vVHuhmaUHr8cSKTC00d2rgT1mdnJQVf0q4MEQQhcREREREQldRtgB9BWTJk+iqurwE2hKS0tZs2pNgiIKR01TDSMGjYhJ0aEOQ7KHMDBzIJW7Kzmh9ISY3VdEJCxmdhdwBjDczCqBHxCppj4AeCr4O/TVoJL66cCPzKwVaAM+7+4dRYu+QKRSew6RPTyj9/EUERERERHpN5TkjJGqqiqufeDaw55z45wbExRNODzNqWuu46Syk2J6XzOL7Mu5R8WHRKRvcPfLOmm+tYtz/wL8pYtjC4CpMQxNREREREQkJWm5usRM+9B22ryNEXmxKzrUoSS3hIa9DRxsOxjze4uIiIiIiIiISGpTklNipr2oHYgkJGOtNK8UiCyHFxERERERERERiaYkp8RMW2EbGWkZDM0ZGvN7dyQ5q/aocLCIiIiIiIiIiLyTkpwSM+3D2ikcWEiaxf6PVW5WLnlZeVTvqY75vUVEREREREREJLXFLclpZtlm9rqZLTWzlWZ2fdA+1MyeMrN1wfOQqGuuM7P1ZrbWzD4Qr9gkPtqHtVM0qChu9y/JK6GqSTM5RURERERERETkneI5k/MAcJa7zwCOA84zs5OBbwFPu/sE4OngZ8xsMjAXmAKcB9xkZulxjE9iaOf+nXiuUziwMG59qPiQiIiIiIiIiIh0Jm5JTo9oCn7MDB4OXAzcHrTfDswJXl8M3O3uB9x9E7AemB2v+CS2VtatBKBwUPySnB37cmrJuoiIiIiIiIiIRIvrnpxmlm5mS4A64Cl3fw0odvdqgOC5Y31zGbA16vLKoO3Qe15tZgvMbEF9fX08w5ceWFkfSXLGc7n6W0nOJiU5RURERERERETkbXFNcrp7m7sfB5QDs81s6mFOt85u0ck9b3H3We4+q7AwfrMGpWdW1q2EgzB4wOC49aHiQyIiIiIiIiIi0pmEVFd3953Ac0T22qw1sxKA4LkuOK0SqIi6rBxQlZkUsbJ+JWnb0zDrLFcdOyo+JCIiIiIiIiIih4pndfVCMysIXucA5wBrgIeAecFp84AHg9cPAXPNbICZjQEmAK/HKz6JrZX1K0lrjH/OvDS3lIa9DRxoPRD3vkREREREREREJDXEMytVAjxrZsuAfxDZk/OvwI+Bc81sHXBu8DPuvhKYD6wCHgeucfe2OMYnMbJ933ZqmmpIb0yPe18leSUA1DTVxL0vERERERFJDWb2NTNbaWYrzOwuM8s2s6Fm9pSZrQueh0Sdf52ZrTeztWb2gTBjFxGR2MiI143dfRlwfCftjcDZXVxzA3BDvGKS+FhVvwogMTM5VXxIRERERESimFkZ8BVgsrvvM7P5wFxgMvC0u//YzL4FfAv4VzObHByfApQCfzOzYzTJRkQktSVkT07p21bWRSqrJyLJqeJDIiIiIiLSiQwgx8wygIFE6jtcDNweHL8dmBO8vhi4290PuPsmYD0wO7HhiohIrCnJKb22sn4luVm52J74Fh3qoOJDIiIiIiLSwd23AT8DtgDVwC53fxIodvfq4JxqoCi4pAzYGnWLyqDtHczsajNbYGYL6uvr4/kWREQkBuK2XF36lkmTJ1FV1Xlice9H9+KZDs2JiaUkt4Q3Gt8gNzM3MR2KiIiIiEjSCvbavBgYA+wE/mxmVxzukk7a/F0N7rcAtwDMmjXrXcdFRCS5KMkp3VJVVcW1D1zb6bGfvfwzJgybwBJfkpBYRuSOAKB9WHtC+hMRERERkaR2DrDJ3esBzOw+4FSg1sxK3L3azEqAuuD8SqAi6vpyIsvbRUQkhWm5uvTK3pa9NLc0UziwMGF9diQ52wq1L7iIiIiIiLAFONnMBpqZESl0uxp4CJgXnDMPeDB4/RAw18wGmNkYYALweoJjFhGRGNNMTumV+ubI3jSJTHIOHjCYAekDaC/UTE4RERERkf7O3V8zs3uBRUArsJjIMvNcYL6ZfYZIIvRjwfkrgwrsq4Lzr1FldRGR1Kckp/RK/d5IkrNoUNERzowdM6M4t5jKwsqE9SkiIiIiIsnL3X8A/OCQ5gNEZnV2dv4NwA3xjktERBJHy9WlV+qa68hKzyJ/QH5C+y0eVEz78HbaXbM5RURERERERET6OyU5pVfq99ZTOLCQyNY3iVOcWwxZsGnHpoT2KyIiIiIiIiIiyUfL1aVXGvY2MH7I+IT3O2JQpPjQ1HOnkrkhs8vzSktLWbNqTaLCEhERERERERGRECjJKUftQOsBmg42MWzgsIT3XTSoCNrhpC+fxBmjz+jyvBvn3Ji4oEREREREREREJBRari5HrXFfI0AoSc7M9EzYDrVNtQnvW0REREREREREkouSnHLUGvY2ADA8Z3g4AdRCTXNNOH2LiIiIiIiIiEjS0HL1bpg0eRJVVVWHPae5uTlB0SSPhr0NGMaQnCHhBFALO/fv5EDrAQZkDAgnBhERERERERERCZ2SnN1QVVXFtQ9ce9hzrj/n+gRFkzwa9zUyJGcIGWkh/TGqizzVNtcycvDIcGIQEREREREREZHQabm6HLXGvY0My0n8fpxvCbbjrGnSknURERERERERkf5MSU45Ku5O477GUIoOvWU3ZGdkU9us4kMiIiIiIiIiIv2ZkpxyVHYd2EVreyvDB4ZUdCgwYtAIVVgXEREREREREennlOSUoxJ6ZfVAcW4xdc11tHt7qHGIiIiIiIiIiEh4lOSUo9K4txEg3OXqRJKcLe0t7Ni3I9Q4REREREREREQkPEpyylFp2NfAgPQBDMocFGocxYOKAahpVvEhEREREREREZH+SklOOSqNexsZPnA4ZhZqHIUDCzGMuqa6UOMQEREREREREZHwKMkpR6Vhb0PoRYcAMtMzGTZwmCqsi4iIiIiIiIj0Y0pySo8dbDvInoN7GJYT7n6cHYoHFSvJKSIiIiIiIiLSjynJKT2WLEWHOhQNKmLn/p0caD0QdigiIiIiIiIiIhICJTmlxxr2NgAkxXJ1eLv4UF2z9uUUEREREREREemPlOSUHmvYF0lyDs0ZGnIkEcW5kSSnlqyLSKows9+bWZ2ZrYhqG2pmT5nZuuB5SNSx68xsvZmtNbMPRLWfYGbLg2O/tLCrwYmIiIiIiIRESU7psca9jQzJHkJGWkbYoQAweMBgBqQPUJJTRFLJbcB5h7R9C3ja3ScATwc/Y2aTgbnAlOCam8wsPbjm18DVwITgceg9RURERERE+gUlOaXHGvc1Js1+nABmRtGgIuqatFxdRFKDuz8PbD+k+WLg9uD17cCcqPa73f2Au28C1gOzzawEyHf3V9zdgTuirhEREREREelXlOSUHnF3GvY2JE1l9Q7FuZEK65HP+SIiKanY3asBgueioL0M2Bp1XmXQVha8PrS9U2Z2tZktMLMF9fX1MQ1cREREREQkbEpySo/sPrCb1vbWpCk61KF4UDEH2g6w+8DusEMREYm1zvbZ9MO0d8rdb3H3We4+q7CwMGbBiYiIiIiIJINuJTnN7D3daZO+L9kqq3foqLCufTlFJNFiOEbWBkvQCZ479uCoBCqizisHqoL28k7aRUREkpo+X4qISDx0dybn/3SzTfq4xn2NAEm3XL1oUGRVZ22TkpwiknCxGiMfAuYFr+cBD0a1zzWzAWY2hkiBodeDJe17zOzkoKr6VVHXiIiIJDN9vhQRkZg7bHlsMzsFOBUoNLNrow7lA+mdXyV9WcPeBrLSs8jNyg07lHcYkDGAguwCzeQUkYTpzRhpZncBZwDDzawS+AHwY2C+mX0G2AJ8DMDdV5rZfGAV0Apc4+5twa2+QKRSew7wWPAQERFJSvp8KSIi8XTYJCeQBeQG5+VFte8GLolXUJK8Gvc2MnzgcCKThpJL8aBi6ppVYV1EEuaox0h3v6yLQ2d3cf4NwA2dtC8ApnYnWBERkSSgz5ciIhI3h01yuvvfgb+b2W3u/maCYpIk1rCvgVGDR4UdRqeKBhXxRuMbtLa3kpF2pPy9iEjvaIwUERHpGY2dIiIST93NBA0ws1uA0dHXuPtZ8QhKktPBtoPsPrA76YoOdSjOLcZx6pvrKckrCTscEek/NEaKiIj0jMZOERGJue4mOf8M3Az8Dmg7wrn9mrvz5q43Wbd9HRlpGVTkVzBuyLikXN7dU417g6JDA5Or6FCH6ArrSnKKSAJpjBQREekZjZ0iIhJz3U1ytrr7r+MaSR/QdLCJP6/8M1t2byHN0mj3dgAq8iuYM2lOuMHFQEdl9eE5yTmTc2jOUDLSMlR8SEQSTWOkiIhIz2jsFBGRmOtukvNhM/sicD9woKPR3bfHJapUNAhuX3o7O/fv5IIJF3Bc8XGkWRqLaxbzzKZnuG3JbbQNSe0vKRv2NgCRZGIySrM0CgcWUtek4kMiklAaI0VERHpGY6eIiMRcd5Oc84Lnb0S1OTA2tuGkpnZvh4/Brv27uHza5YwuGP3WsVmlsxg5eCR3LL2DfZfso7apluLc4vCC7YXGfY0MHjCYzPTMsEPpUnFuMesa14Udhoj0LxojRUREekZjp4iIxFy3kpzuPibegYRl0uRJVFVVHfac5ubmwx5/fdvrUAEXHXPROxKcHYoGFXHl9Cu5+bWbmffAPB69/FHSLK03YYeiYW8DhQMLww7jsIoHFbOkZglNB5vIzcoNOxwR6Qf68hgpIiISDxo7RUQkHrqV5DSzqzprd/c7YhtO4lVVVXHtA9ce9pzrz7m+y2M79+/kmU3PwBsw7fRpXZ5XnFvMgL8P4ImMJ/jvV/+br53ytaOOOQyO07C3gdElo8MO5bA6ig/VNdcpySkiCdGXx0gREZF40NgpIiLx0N3l6idGvc4GzgYWAf1+EHphywuR5eqPgX328BXUM5dlcs7nz+H7z32fuVPnplQFcM93WttbGT4oOYsOdSgaVARAbVMtY4dotYuIJITGSBERkZ7R2CkiIjHX3eXqX47+2cwGA3+MS0QpZNf+XSypWcLMkpks2L3giOcbxi/O+wVTbprCdU9fx21zbot/kDHSPjRSKT7Zl6sPyhpEblauKqyLSMJojBQREekZjZ0iIhIPR7sx5F5gQiwDSUUvV74MwHsq3tPta8YPHc/XTv4aty+9nYVVCzs9Z9LkSeQX5B/2MWnypJi8h+7qSHIOH5jcMzkhsmS9rlkV1kUkNBojRUREekZjp4iI9Fp39+R8mEi1O4B04FhgfryCSgX7W/ezqHoR04umU5Bd0KNrv/3eb3PLwlu4/u/X89BlD73reHf2Cb1xzo096rO32oe2MzBzIAMzBya036NRNKiI17e9HtlGQEQkzjRGioiI9IzGThERiYfu7sn5s6jXrcCb7l4Zh3hSxsq6lbS2tzKrdFaPr80fkM+1p1zL9579HgurFnJC6QlxiDC22oa1UTqwNOwwuqU4t5g2b6Nxb2PYoYhI/6AxUkREpGc0doqISMx1a7m6u/8dWAPkAUOAg/EMKhUsrllM0aAiSvOOLvH35dlfpiC7gB89/6MYRxZ77k770PaUWKoOb1dY176cIpIIGiNFRER6RmOniIjEQ7eSnGb2ceB14GPAx4HXzOySeAaWzOqa69i2ZxvHjTgOs8NXVO/K4OzBfGX2V3ho7UOsbVgb4whjq665DrJTYz9OiMRpmJKcIpIQGiNFRER6RmOniIjEQ3cLD30HONHd57n7VcBs4HvxCyu5La1dSpqlMb1oeq/u88UTv0hWehb//dp/xyiy+FjdsBpI/srqHTLSMhg+cLiKD4lIomiMFBER6RmNnSIiEnPdTXKmuXt0xqixB9f2Ke7O6vrVjB0ylkFZg3p1r+LcYq6YdgW3LbmN7fu2xyjC2FvTsAZInZmcEPnd1jZpJqeIJITGSBERkZ7R2CkiIjHX3YHkcTN7wsw+aWafBB4BHo1fWMmrrrmOHft3MGn4pJjc72unfI19rfv47cLfxuR+8bC6fjUcjBRMShXFg4rZdWAXnuVHPllEpHc0RoqIiPSMxk4REYm5w1ZXN7PxQLG7f8PMPgKcBhjwCvCnBMSXdDqWbk8aFpsk59SiqZw+6nR+u+i3fOM93yDNku8LzNUNq0nbnnbU+49Ga9rbRH7B4ZOlzc3Nve6no/hQ2/C2Xt9LRKQzGiNFRER6Jp5jp5kVAL8DpgIOfBpYC9wDjAY2Ax939x3B+dcBnwHagK+4+xO96V9ERMJ32CQn8Avg2wDufh9wH4CZzQqOfTCOsSWl1Q2rGTV4VK+Xqkf77MzPcuX9V/Lc5uc4a8xZMbtvrHQkOWPB251rH7j2sOdcf871ve6naFARAO3D23t9LxGRLvwCjZEiIiI98QviN3b+N/C4u19iZlnAwKCvp939x2b2LeBbwL+a2WRgLjAFKAX+ZmbHuLtmSIiIpLAjZa5Gu/uyQxvdfQGRb8P6le37tlPXXBezpeodPnrsRynILuC3i5JvyfqeA3uo3F0ZsyRnouQPyCc7I1tJThGJJ42RIiIiPROXsdPM8oHTgVuD+x10953AxcDtwWm3A3OC1xcDd7v7AXffBKwnUvxIRERS2JEyV9mHOZYTy0BSwfrt6wGYMHRCTO+bk5nDldOv5L7V99GwtyGm9+6tjqJDqZbkNDOKBxXTVqgvY0UkbjRGioiI9Ey8xs6xQD3wBzNbbGa/M7NBRJbGVwMEz0XB+WXA1qjrK4O2dzCzq81sgZktqK+v70V4IiKSCEfKXP3DzD57aKOZfQZYGJ+QktfGHRspyC5gaM7QmN/7szM/y8G2g/xx6R9jfu/e6NiDNH17esiR9FzRoCLah7XT7prNKSJxoTFSRESkZ+I1dmYAM4Ffu/vxQDORpeld6azYwLsqlrr7Le4+y91nFRYW9iI8ERFJhCPtyflV4H4zu5y3B51ZQBbw4TjGlXTa2tvYtHMT04qmxaQAz6GmFU/j5PKT+e2i3+LvHl9Ds7p+NZlpmdjO2L/neCvOLYYB8ObONxkzZEzY4YhI3/NVNEaKiIj0xFeJz9hZCVS6+2vBz/cSSXLWmlmJu1ebWQlQF3V+RdT15UBVL/oXEZEkcNiZnO5e6+6nAtcTqUa3Gbje3U9x95r4h5c8KndXcrDtIOOGjotbH5+d+VlWN6ymrTR5llivbljNhGETME/BJGdQYX1Z7bu2/RER6TWNkSIiIj0Tr7EzuHarmU0Mms4GVgEPAfOCtnnAg8Hrh4C5ZjbAzMYAE4DXj7Z/ERFJDkeayQmAuz8LPBvnWJLahh0bMIwxBfGbEXjplEv56uNfZd+0fXHro6dWN6xmWtE0tr5jy5rU0FFhfVntMi6edHHI0YhIX6UxUkREpGfiNHZ+GfhTUFl9I/ApIpN65gfL4bcAHwv6X2lm84kkQluBa1RZXUQk9aVWNZkQbdyxkfL8crIzDrdXdu8MyhrEpVMupXV8KwfbDsatn+7a37qfDds3MLlwctihHJWs9Cxsp7G8bnnYoYiIiIiISBy5+5Jg/8zp7j7H3Xe4e6O7n+3uE4Ln7VHn3+Du49x9ors/FmbsIiISG0pydkcWVO2pYnTB6Lh3deWMKyEL1jasjXtfR7K6fjVt3sa0omlhh3LU0uvTtVxdRERERERERKSPU5KzO8rBcUYNHhX3rk4beRq225IiMdcxA3JaceomOdMa0li3fR17W/aGHYqIiIiIiIiIiMSJkpzdMRIMo2JwxZHP7aU0SyNzTSYbdmyg6WBT3Ps7nOW1yxmQPoDxQ8eHGkdvpDWk0e7trKpfFXYoIiIiIiIiIiISJ0pydsdIKMkrISs9KyHdZazOwHFW1K1ISH9dWV63nMmFk8lI61Z9qqSU3pAOqMK6iIiIiIiIiEhfFrckp5lVmNmzZrbazFaa2T8H7UPN7CkzWxc8D4m65jozW29ma83sA/GKrSda21uhjIQsVe+Qvj2dktyS0AvmLK9bntJL1QFslzEwcyDLa1V8SERERERERESkr4rnTM5W4OvufixwMnCNmU0GvgU87e4TgKeDnwmOzQWmAOcBN5lZehzj65Ztu7dBRmKTnBDZB7NqTxUNexsS2m+Hxr2NVO2pSumiQwDmxtSiqSyr00xOEREREREREZG+Km5JTnevdvdFwes9wGqgDLgYuD047XZgTvD6YuBudz/g7puA9cDseMXXXVt2bwFIyH6c0aYVTcMIrwDRW0WHUjzJCTC9aDpLa5bi7mGHIiIiIiIiIiIicZCQPTnNbDRwPPAaUOzu1RBJhAJFwWllwNaoyyqDtlBt270NGmBg5sCE9publcvYIWNZXrc8lORcx/LuVF+uDjC9eDqN+xqpaaoJOxQREREREREREYmDuCc5zSwX+AvwVXfffbhTO2l7V3bPzK42swVmtqC+vj5WYXbK3ancXQnb4tpNl6YXT2fn/p1s2bUl4X0vq13G0JyhlOSWJLzvWJtePB1Q8SERERERERERkb4qrklOM8skkuD8k7vfFzTXmllJcLwEqAvaK4HoNeHlQNWh93T3W9x9lrvPKiwsjF/wwK4Du2huaQ4tyTlp+CQy0zJD2U9ycc1ijh9xPGad5Z5TS8ds1LALOYmIiIiIiIiISHzEs7q6AbcCq939xqhDDwHzgtfzgAej2uea2QAzGwNMAF6PV3zdUbm7MvIipCRnVnoWxw4/llX1qyJV3hOkpa2F5XXLmVkyM2F9xtPQnKGU5ZVpJqeIiIiIiIiISB8Vz5mc7wGuBM4ysyXB4wLgx8C5ZrYOODf4GXdfCcwHVgGPA9e4e1sc4zuiyt2VZKRlQG14MUwrnsb+1v2sa1yXsD5X1a/iYNtBjh9xfML6jLfpxdOV5BQRERERERER6aMy4nVjd3+RzvfZBDi7i2tuAG6IV0w9tW33NkrzStniid8Ts8PYIWPJzcplWe0yji08NiF9LqpeBNBnZnJCJMn5t41/o6Wthcz0zLDDERHplJlNBO6JahoLfB8oAD4LdGxG/W13fzS45jrgM0Ab8BV3fyJhAYuIiIiIiCSJuCU5U11bexvVTdXMLpvNFsJLcqZZGlMLp/J61evsa9lHTmYOAE17m8gvyD/staWlpaxZtabHfS6uWUxuVi4Thk04qpiT0fTi6bS0t7C2cS1Ti6aGHY6ISKfcfS1wHICZpRPZMOV+4FPAf7n7z6LPN7PJwFxgClAK/M3Mjgl7JYSIiIiIiEiiKcnZhdrmWtq8jbK8srBDYXrxdF7d9ior61cyq3QWAN7uXPvAtYe97sY5Nx72eFcWVS9iRvEM0iyudakSqqPC+vLa5UpyikiqOBvY4O5vHqYI3MXA3e5+ANhkZuuB2cArCYpRREREREQkKfSdLFaMVTdVA1CSVxJyJDAidwSFAwsTsqdku7ezpGZJn1qqDjBx2MRIpXrtyykiqWMucFfUz18ys2Vm9nszGxK0lQFbo86pDNrexcyuNrMFZragvr6+s1NERERERERSlpKcXajeU012RjZDsocc+eQ4MzOmF09n6+6tbN+3Pa59rWtcR3NLc58qOgSQmZ7JsYXHsqxOSU4RSX5mlgV8CPhz0PRrYByRpezVwM87Tu3kcu/snu5+i7vPcvdZhYWFsQ1YREREREQkZEpydqG6qZqS3BIOs0QwoTqWW8d7JuJr214DYHbZ7Lj2EwZVWBeRFHI+sMjdawHcvdbd29y9HfgtkSXpEJm5WRF1XTlQldBIRUREREREkoCSnJ1oa2+jtqmWEbkjwg7lLfkD8hlTMIZltctw73SSTky8Wvkq+QPyE1bJPZGmF02ncndl3GfDiojEwGVELVU3s+i9Uz4MrAhePwTMNbMBZjYGmAC8nrAoRUREREREkoSSnJ2o31tPm7dRmlcadijvMK14Gjv276Byd2Xc+nil8hVml83uU0WHOkQXHxIRSVZmNhA4F7gvqvknZrbczJYBZwJfA3D3lcB8YBXwOHCNKquLiIiIiEh/1PcyWTFQvScoOpQbftGhaJOHTyYjLSNu+0o2H2xmWe0yTi47OS73D9u04mkALK9TklNEkpe773X3Ye6+K6rtSnef5u7T3f1D7l4ddewGdx/n7hPd/bFwohZJPRnusGULrFwJ+/aFHY6IiIiI9FJG2AEko6qmKrLSsxiaMzTsUN5hQMYAJg2bxMq6lXFJTy+oWkC7t3Nyed9McpbkljAsZxhLa5aGHYqIiIiE7N/r6uAPf4j8MGkSXHppuAGJiIiISK9oJmcnOvbjTJaiQ9GmF09nX+u+yK5rMfZq5asAfTbJaWYcN+I4ltQuCTsUERERCdPixZzX1AQnnginngpr1sCmTWFHJSIiIiK9oCTnIdyd2uZaigcVhx1Kp8YNHcegzEEwLfb3fnXbq0wYOoFhA4fF/uZJ4vgRx7O8djktbS1hhyIiIiJh+eEP2Z2WBmedBWecAYMHw5NPQnt72JGJiIiIyFFSkvMQuw7s4mDbQYoGFYUdSqfSLI2pRVNhAuxrid3+Ue3ezotbXuSUilNids9kNLNkJgfaDrC6YXXYoYiIiEgYli+Hhx7ijoICyM6GzMxIorOmBirjV9xRREREROJLSc5D1DbVAiTtTE4IqoRnwMr6lTG754q6FTTsbeCs0WfF7J7JaGbJTAAWVS8KORIREREJxcMPA3BfXt7bbZMmgRmsXx9SUCIiIiLSW0pyHqK2OZLkTNaZnBBUfa+DxTWLY3bPZzY9A8CZY86M2T2T0YRhE8jNylWSU0REpL966imYMYPtGVH1N7OzoaJCSU4REZEY2bd9H0vvWMqCmxew5cUtZKjutSSAkpyHqGuuoyC7gAEZA8IOpUtmBouhak8VNU01Mbnns5ufZfzQ8YwcPDIm90tWaZbGcSOOU5JTRESkP2puhpdegve//93Hxo+H6mpoakp8XCIiIn3Irq27WPibheyp2kNaZhqbnt7EhVwYdljSDyjJeYi65rqkXqr+luWQbukxSda1trfy3Obn+vxS9Q4zR8xkSc0S2trbwg5FREREEun556GlBc49993Hxo+PPG/YkNiYRERE+hBvd9Y9so6MnAxmfWEWMz8zk5HvHcnxHM/KP8duyz2RzijJGaW1vZWGvQ1JvVT9Lfvg2MJjWV7X+0rhi6sXs/vAbs4a00+SnCUzaW5pZt32dWGHIiIiIon01FMwYACcdtq7j40YAYMGacm6iIhIL9QsraG5tpmx54wle3A2AKPeN4pKKnnk849wsPlgyBFKX6YkZ5SGvQ04nhozOYETSk5gf+t+VtSt6NV9ntr4FABnjD4jBlElPxUfEhER6af+9jd473shJ+fdx8xg9GjYujXhYYmIiPQF7W3tbH5mM3nleRROKXyrPS09jSd4gn3b97H8T8tDjFD6OiU5o3RUVk+JmZzAqMGjKBpUxOtVr+PuR32f+9fcz+yy2RTnpkZyt7eOLTyW7IxsFlfHrnCTiIiIJLnmZlixAt7znq7PKSmBXbtg797ExSUiItJHbF+3nYNNBxl1+qhILZEoW9nKiONH8Pqvepe/EDkcJTmj1DbXkm7pDBs4LOxQusXMOLH0RGqaati6++hmHWzdtZUFVQv48KQPxzi65JWRlsG0omksqtFMThERkX5j2TJwh5kzuz6ntDTyXF2dmJhERET6kNrltWQOymTouKGdHp/9pdnULa9jywtbEhyZ9BdKckapa66jcFAhaZY6v5bpxdPJzsjmtW2vHdX1D659EKBfJTkhsmR9UfUifYMkIiLSXywKvtw8/viuzxkxIvJcVRX/eERERPqQ1v2tNK5tpGhKEZZmnZ4z9bKpZA/JZuEtCxMcnfQXqZPNS4Da5tqU2Y+zQ1Z6FjNLZrK6fjWNext7fP39a+7n2OHHMnH4xDhEl7xmlsxk5/6dbN65OexQREREJBEWL4bhw6G8vOtzcnJgyBCoqUlcXCIiIn1A/ap6vM0pmt719n+ZOZlMungSb/z1Ddpa2hIYnfQXSnIG9rbspelgU8rsxxntlPJTSLM0Xtr6Uo+uq2uu4++b/97vZnGCig+JiIj0O4sWRWZxWuezS95SUqKZnCIiIj1Uv7qenKE55JXmHfa8iXMmcmDXAd78+5sJikz6EyU5Ax1Fh1JtJidAblYuM0tmsrR2KbsP7O72dbcuupU2b+OqGVfFMbrkNLVoKhlpGUpyioiI9AcHD0aKDh1uP84OJSWwcyf5bZphIiIi0h3tre3s2ryLoeOHvqvg0KHGnTuOjJwM1jy4JkHRSX+iJGegrrkOSJ3K6oc6teJUAJ7b/Fy3zm9rb+PmhTdz9piz+91SdYDsjGymFE5R8SEREZH+YNUqaGk5/H6cHUpKADj2wIE4ByUiItI37Nq6i/bWdoaMG3LEczMHZjL+A+NZ+8Ba1ciQmFOSM1DbXMvAzIHkZuWGHcpRKcguYHbZbBbXLKam6cj7SD267lG27NrC6jtXk1+Qf8RHc3NzAt5FYs0smcnCqoX6i1VERKSv6yg61N2ZnMCEgwfjGJCIiEjfsWPDDizNKBhd0K3zJ86ZyO7K3dQs1h7YElsZYQeQLOqa6ygaVHTEqdXJ7H2j3sfSmqU8seEJrpre9RJ0d+enL/+U0rxSdi/Yzdcf+PoR7339OdfHMtSkMKt0Fn9Y8ge27t7KyMEjww5HRERE4mXZMhg0CMaNO/K5AwfCwIGMVZJTRESkW3Zs3EF+RT7pWendOn/c+yPj8canN1IysySeoUk/o5mcRJJ+HUnOVJadkc1ZY85i887N/KPqH12ed8/Ke3hhywt87/TvYe2pm9TtrdllswF4fdvrIUciIiIicbV6NUyaBGnd/Kfv8OGMaWmJb0wiIiJ9wEAG0lTdxJCxR16q3iGvJI/hxw5n87Ob4xeY9EtKcgK7Duyipb2FwoGFYYfSayeUnMCEoRN4csOTtBW+e8P8PQf28PUnv87Mkpl8duZnQ4gweUwvnk5WehavVb4WdigiIiIST2vWRJKc3TV8OGMOHgRtaSMiInJYoxkN0KMkJ8CYs8bw5vNv0taiQn8SO0pyAvXN9QB9IslpZlw88WIGZg5k30f2vWOW4p4De/jgXR+kek81vzr/V6SndW8qeV+VlZ7F8SOO5/UqzeQUERHps5qaYMsWOPbY7l9TWEhBezvU18cvLhERkT6gggrSMtLILelZfZPRZ46mpbmFqn9UxSky6Y+U5AQa9jYAUDgo9ZOcAIOyBnHVjKugBc647Qw++9BnueH5Gzj51pN5ccuL/Okjf+KUilPCDjMpzC6bzYKqBbS2t4YdioiIiMTDG29Enns4kxOILHMXERGRLlVQQV5ZHmnpPUsvjT5jNACbnt0Uh6ikv1KSE6jfW8/AzIEMzBwYdigxM3zgcAbePZCPTv4od6+8m+8++12y0rO4/9L7uWzaZWGHlzRml81mb8teVtfrQ4yIiEif1JGo7OFMzndcKyIiIu/Ssq+FEkrIL8/v8bUDhw1kxHEj2PS0kpwSO6quTmQm5/CBw8MOI+bS9qbxxw//kX0t+2huae6T77G3Tio7CYgUH5pWPC3kaERERCTm1qyB9HQYP7771+Tns9eMgUpyioiIdKl6YTXppJNf0fMkJ8Co941i4S0LaWtpIz2zf2+nJ7HR72dyOk793vo+nQDMyczp0++vN8YPHU9BdoEqrIuIiPRVq1fDuHGQldX9a8zYlJWlmZwiKcbM0s1ssZn9Nfh5qJk9ZWbrguchUedeZ2brzWytmX0gvKhFUtfWV7YCHNVMToCK91TQuq+V2qW1sQxL+jElOQc6+1v394miQ9JzZsbsstkqPiQiItJXrV7ds/04A5syM5XkFEk9/wxE/4/7LeBpd58APB38jJlNBuYCU4DzgJvMTNPIRHqo8uVKGmkka1APvkiMUnFKBQBbX94ay7CkH+v3Sc72oe1A36isLkdndulsltcuZ2/L3rBDERERkVhqbYV163q2H2dgc1YWVFZGqrOLSNIzs3LgQuB3Uc0XA7cHr28H5kS13+3uB9x9E7AemJ2gUEX6BHdn6ytbqaTyqO+RX57P4JGDleSUmFGSM0hyajl3//WH//gDbd7G8BnDyS/I7/QxaXLPZ4CIiIhIyDZtgpYWmDixx5duycyMvNi4McZBiUic/AL4JtAe1Vbs7tUAwXNR0F4GRGdVKoO2dzCzq81sgZktqK+vj0vQIqlqz7Y9NNc2s41tvbpPxakVSnJKzPT7wkPtQ9vJSs8if8DR7SEhqW/nqp3wXnjvt9/LKeWndHrOjXNuTGxQIiIi0ivnnnYax2zYwP8Cn/zud1lyww3vOF617fAfyiozgn8mb9gA06fHKUoRiQUzuwioc/eFZnZGdy7ppM3f1eB+C3ALwKxZs951XKQ/q15UHXmmulf3KT+lnBV3r2DX1l0Mrhgci9CkH1OSc1g7xQOLMetsnJP+IG1vGoMHDKZqd1XYoYiIiEiM1NfU8NTxx8Njj3Hb3LmQl/eO48MOSXoeamvHTM4NG+IVoojEznuAD5nZBUA2kG9mdwK1Zlbi7tVmVgLUBedXAhVR15cD+jAg0gNVC6uwNKOmvaZX96k4NfK/YuUrlUpySq9pufrQdu3HKZTllbFtT++m2YuIiEiS2b4dMjMhN7fHl+5JT4chQ5TkFEkB7n6du5e7+2giBYWecfcrgIeAecFp84AHg9cPAXPNbICZjQEmAKpEKtID1QurGX7scFpo6dV9imcUk5GToSXrEhP9Osm5a/8uPNe1H6dQml/Kjv07aD7YHHYoIiIiEis7dkQSlUe7YmfcOCU5RVLbj4FzzWwdcG7wM+6+EpgPrAIeB65x97bQohRJQdULqymZWdLr+6RnplN6QinbXtekI+m9fp3kXN2wGlDRIYHyvHIAzeYUERHpS7Zvh6FDj/56JTlFUo67P+fuFwWvG939bHefEDxvjzrvBncf5+4T3f2x8CIWST17qvfQVNNEyQm9T3IClM4upXpRNW0t+q5Beqd/JznrI0lOLVeX0rxS0iyNLbu2hB2KiIiIxIC5vz2T82iNHw9vvhmp0C4iIiJAZBYnQOkJpTG5X/lJ5bQdaKN2WW1M7if9V/9OcjashlYYktOLf/xKn5CZnklpXqmSnCIiIn1EYVsbtLX1fiZnWxts0b8PREREOlQvqgaDEceNiMn9ymaXAWjJuvRav09ypu1MI8369a9BAiPzR1K1p4rW9tawQxEREZFeGtkx+7I3MznHjYs8r1/f+4BERET6iNqltQybMIys3KyY3G/wqMEMKhrEtteU5JTe6dfZvVX1q0jb3q9/BRJl5OCRtHkbVXuqwg5FREREeqm8I8nZ25mcoH05RUREotQuq6V4enHM7mdmlM0u00xO6bWMsAMIy76WfWzasYnM7ZkJ67NpbxP5BflHPK+5WRW+w1AxuAKALbu2MHLwyJCjERERkd6oaGmBtDQYPPjob1JSAtnZSnKKiIgEDjYfZPuG7Uy/anpM71t2UhlvPPIG+3ftJ3twdkzvLf1Hv01yvtH4Bo6T1pi4mZze7lz7wLVHPO/6c65PQDRyqIGZAxk+cLj25RSRUJnZZmAP0Aa0uvssMxsK3AOMBjYDH3f3HcH51wGfCc7/irs/EULYIkmnvKUFCgoiic6jlZYGY8cqySkiIhKoX1kPDsXTYjeTE4J9OR2qFlQx9uyxMb239B/9dq32oKxBfHn2l0mvTQ87FEkiIwePZOvurbh72KGISP92prsf5+6zgp+/BTzt7hOAp4OfMbPJwFxgCnAecJOZaWATIZjJ2Zv9ODuMG6ckp4iISKCjAnosl6sDlJ4YqdSufTmlN/ptknP80PH88vxfkrar3/4KpBMj80eyv3U/9Xvrww5FRCTaxcDtwevbgTlR7Xe7+wF33wSsB2YnPjyRJONORWtr7JKcGzeCvgAVERGhdlktWblZFIwuiOl9c4bkMOyYYdqXU3pFGT6RKB17cWrJuoiEyIEnzWyhmV0dtBW7ezVA8FwUtJcBW6OurQza3sXMrjazBWa2oL5eX+RIH7d9O3nt7b0rOtRh3DjYuxdqanp/LxERkRRXu6yWoqlFWJrF/N5lJ5Wx7bVtWlkpR01JTpEoBdkF5GblKskpImF6j7vPBM4HrjGz0w9zbmf/uuz0X4Xufou7z3L3WYWFhbGIUyR5rV8feY5VkhO0ZF1ERPo9d6dueR1F04uOfPJRKJtdRlNNE7srd8fl/tL3KckpEsXMGDl4pJKcIhIad68KnuuA+4ksP681sxKA4LkuOL0SqIi6vByoSly0IkmqIyEZi+Xq48e/854iIiL91J6qPezbvi/m+3F2KDspsiBJ+3LK0VKSU+QQI/NHsuvALnbt3xV2KCLSz5jZIDPL63gNvB9YATwEzAtOmwc8GLx+CJhrZgPMbAwwAXg9sVGLJKFYJjlHjYpUWe+YHSoiItJPvVV0KMaV1TsUTy8mPStd+3LKUcsIOwCRZPPWvpy7tzAte1rI0YhIP1MM3G9mEBmj/8/dHzezfwDzzewzwBbgYwDuvtLM5gOrgFbgGndvCyd0kSSyYQO16ekUZ2b2/l5ZWTBypGZyiohIv1e3PLKYqGhafJarZwzIYMTxIzSTU46akpwihyjOLWZA+gDe3Pkm04qU5BSRxHH3jcCMTtobgbO7uOYG4IY4hyaSWtavZ2tmJjGbZzJunJKcIiLS79UuqyW/Ip+cITlx66NsdhmLb11Me2s7aRlafCw9oz8xIodIszRGFYxi085NYYciIiIiR2PDBipjMYuzg5KcIiIi1C6rPeql6oZhduTHT+78CS17W6hfVR/j6KU/0ExOkU6MKRjDG41vsGv/LgZnDw47HBEREemu5maoqaEyFpXVO4wbB42NsGsXDNa/C0REpP9pO9hGw5oGJlw44aiud5xnf/DsEc/76PUf5QzOYNvr2+JW4Ej6Ls3kFOnEmIIxAJrNKSIikmqCGZdbYj2TM+reIiIi/U3D2gbaW9rjnnjcznayh2RT+VplXPuRvklJTpFOFA0qYmDmQDbv3Bx2KCIiItITQSKyMiOGC5aU5BQRkX4u3pXVo5XNLqPq9aq49yN9j5arS5/WtLeJ/IL8w57T3Nz8rjYzY3TBaDbt3IS7xys8ERERibUgEbk1ljM5x46NPG/cGLt7ioiIpJC65XWkZaYxbOKwuPdVdlIZL/z7CxxsOkhWblbc+5O+Q0lO6dO83bn2gWsPe87151zfafuYgjGsql9F477GeIQmIiIi8bBhAwwZwp709NjdMz8fhg/XTE4REem3apfVUji5kPTMGI6vXSibXYa3O9WLqhl1+qi49yd9h5ari3Rh3JDI0rT129eHHImIiIh02/r1MH587O87bpxmcoqISL/Vm8rqPVU2uwxA+3JKjynJKdKFITlDGJYzjA07NGtDREQkZWzY8PYemrE0bpxmcoqISL+0b/s+9mzbQ9H0ooT0N6hwEAVjCrQvp/SYkpwihzFu6Dg279yMp2tfThERkaTX0gJbtsQnyTl2bOTeBw/G/t4iIiJJrHZ5UHQozpXVo5WfVK6ZnNJjSnKKHMb4IeNpbW+lrawt7FBERETkSN58E9ra4jeTs709kugUEZE+YWT5SMzsiI+R5SPDDjVUiays3qF0dim7t+5mT/WehPUpqU+Fh0QOY1TBKNItndbRrWGHIiIiIkfSsZw8XjM5O/qIx56fIiKScFu3beXZHzx7xPPOuv4szOyI51WUVbClsu99GVa3vI6cYTnkluQmrM/yk8oB2Pb6NiZdPClh/Upqi1uS08x+D1wE1Ln71KBtKHAPMBrYDHzc3XcEx64DPgO0AV9x9yfiFZtId2WlZzGqYBSbR28OOxQRERE5ko4kZ7wKD4GKD4mI9EOOdysZeub1ZyYgmsSrXVZL8fTibiV6Y2XE8SNIy0hj22tKckr3xXO5+m3AeYe0fQt42t0nAE8HP2Nmk4G5wJTgmpvMLD2OsYl02zHDjqF9WDtvNL4RdigiIiJyOOvXQ04OlJTE/t4lJTBggIoPiYhIv+LtTt2KOoqmJaboUIfMnEyKpxez7fVtCe1XUlvckpzu/jyw/ZDmi4Hbg9e3A3Oi2u929wPuvglYD8yOV2wiPTFx2EQAHl77cMiRiIiIyGFt2BBZVh6PmSZpaZF7ayaniIj0Izs27aCluSWhRYc6lM4upeofVXi7CgFL9yS68FCxu1cDBM8dXwWUAVujzqsM2t7FzK42swVmtqC+vj6uwYoAFGQXkFafxsNvKMkpIiKS1DZsiM9+nB3GjdNMThER6VfeKjoUQpKz/KRyDuw+QMPahoT3LakpWaqrd/Z1e6epene/xd1nufuswsLCOIclEpGxMYMXt7xI497GsEMRERGRzrhHZlnGsyhQx0xO14wSERHpH2qX1oJB4eTE51/KZkfmvm17TUvWpXsSneSsNbMSgOC5LmivBCqizisHqhIcm0iXMjZk0OZtPLLukbBDERERkc5UV8O+ffGfydnUBFpNJCIi/UTtslqGTRhG1qCshPc9fNJwsvKytC+ndFuik5wPAfOC1/OAB6Pa55rZADMbA0wAXk9wbCJdSqtNoyK/gntX3Rt2KCIiItKZ9esjz/FMco4dG3nWknUREeknapfWUjwj8UvVASzNKDuxTDM5pdviluQ0s7uAV4CJZlZpZp8Bfgyca2brgHODn3H3lcB8YBXwOHCNu7fFKzaRnjKMSyZfwhMbnmDX/l1hhyMiIiKH6kg8xnsmJ6j4kIiI9AsHdh9gx8YdoSU5AcpOKqN2WS0t+1pCi0FSRzyrq1/m7iXununu5e5+q7s3uvvZ7j4heN4edf4N7j7O3Se6+2PxikvkaF0y+RIOth1UASIREZFktGEDpKfDqFHx62PMmLf7EhER6eNql0eKDo2YMSK0GMpml9He2k7N4prQYpDUkSyFh0SS3snlJ1OWV8afV/057FBERETkUBs2RBKcmZnx6yM7G8rKNJNTRET6hdqlQWX1kGdyAtqXU7pFSU6RbkqzND42+WM8vv5xduzbEXY4IiIiEm3DhvguVe8wbpxmcoqISL9Qs7SG7IJs8svzQ4shrySP/Ip8Kl+pDC0GSR1Kcor0wOXTL+dg20HN5hQREUk269cnJsk5dqxmcoqISL9Qt6yO4hnFmFmocYw6fRSbn9uMu4cahyQ/JTlFeuCEkhM4dvix3LH0jrBDERERkQ47dkQeiZrJWVUF+/bFvy8REZGQeLtTuzy8yurRxpw1hua6ZupX1YcdiiQ5JTlFesDMuGrGVby09SU2bNdSNRERkaSQiMrqHcaOjTxv2hT/vkREREKyfcN2WppbQi061GH0maMB2Pzs5lDjkOSnJKdID10+7XIM44/L/hh2KCIiIgJvJznHj49/Xx2JVO3LKSIifVgyFB3qMGTMEAaPGqwkpxyRkpwi3dC0t4n8gnzyC/KZMmoKaZvT+NFff0TekLy32vML8pk0eVLYoYqIiPQ/HQnHjlmW8aQkp4iI9AM1S2uwdKNoSlHYoQCRJeubn9uMt2tfTulaRtgBiKQCb3eufeDat35e3bCa+Svnc9FvL2Li8Ilvtd8458YwwhMREenf1q+HESNg0KD49zVsGOTnR/oUERHpo2qX1jJ84nAyspMjbTT6zNEs+cMSapfVMuK48JfQS3LSTE6Ro3DM0GPIy8pjQfWCsEMRERGRN96AY45JTF9mkb7WrUtMfyIiIiGoXVZL8fTwl6p3GHtOZLXG+sf1JaN0TUlOkaOQnpbO8SXHs377enbs2xF2OCIiIv3b2rUwceKRz4uVY46J9CkiItIH7d+5n11v7kqK/Tg75JXkMeL4Eax7VF8ySteU5BQ5SieUnECapfHqtlfDDkVERKT/2r4dGhoSm+ScOBG2bIF9+xLXp4iISILULkueokPRJlw4ga0vb2XfjtiPvyPLR2JmR3yMLB8Z874ldpJjcwWRFJQ/IJ9pRdNYXL2YM0adQU5mTtghiYiI9D8dMyoTPZPTPVJ8aOrUxPUrIiKSADVLawAYMSO59r6ccMEEXvj3F9jw5AamXhrb8Xfrtq08+4Nnj3jemdefGdN+JbY0k1OkF04pP4WW9hbtzSkiIhKWNWsiz4lOckJkL1ARCZ2ZVZjZs2a22sxWmtk/B+1DzewpM1sXPA+JuuY6M1tvZmvN7APhRS+SfGqX1jJw+EByS3LDDuUdymaXkTMsh/WPal9O6Zxmcor0QnFuMeOGjOO1ytc4qeyksMMRERHpf9auhcxMGDMmcX1OmPB23yKSDFqBr7v7IjPLAxaa2VPAJ4Gn3f3HZvYt4FvAv5rZZGAuMAUoBf5mZse4e1tI8UsSadnXQuOaRhrXN7KvYR8t+1r4Ml9m+f8tJ78in6KpReQM6dur+GoW1zDiuBGYWdihvENaehrjzxvPG4+8QXtrO2kZmrcn76Q/ESK9dPqo02luaeYfVf8IOxQREZH+Z+1aGD8eMhL43X1eHpSWaianSJJw92p3XxS83gOsBsqAi4Hbg9NuB+YEry8G7nb3A+6+CVgPzE5o0JJ0Wva1sOGpDbz6X6+y9qG17KncQ3ZBNkPHDaWaavbv3M/mZzbz+i9fZ8XdK2iubw475Lho3d9K7fJaSmaVhB1KpyZfMpl9jfvY9MymsEORJKSZnCK9NHLwSMYNGcdLW14iPTM97HBERET6l0RXVu9wzDFKcookITMbDRwPvAYUu3s1RBKhZlYUnFYGRFcPrQzaDr3X1cDVACNHqthIX9awpoE3/voGLXtbKJpaRPnJ5eSW5L41k/HzSz7PNV+8hv279lOzqIbK1ypZ8OsFjDxtJKPeN4q09L4zf6x2eS3tLe2UzioNO5ROjT9vPAPyB7Di7hWMe/+4sMORJKMkp0gMnDn6TH63+HdknZAVdigiIpIA5552GvU1NV0eLxwxgqdefDGBEfVTra2wfj186EOJ7/uYY+C++xLfr4h0ycxygb8AX3X33YdZatvZAX9Xg/stwC0As2bNetdxSX2GseGpDVS+XEnuiFymXzGd3BFd70OZPTib0WeOpnR2KRv/tpEtL2xhx6YdTPn4FAbkDUhg5PFTvbAaIGmTnBnZGUyaM4k196/hwl9fSMYApbXkbfrTIBIDZfllTCmcwspZK9m6aysVgyvCDklEROKovqaGJVdc0eXx4+68M4HR9GObN0NLS3gzORsaYPt2GDo08f2LyDuYWSaRBOef3L3jG4haMysJZnGWAHVBeyUQ/Q/2cqAqcdFKMmjd38qlXErly5WUzipl3Hnjuj0jM2tQFpMunsTQ8UNZ++BaFt+6mGmfmBbniBOjakEVOcNyGDxycNihdGnK3CksvWMpG57cwMQPhvBvAElafWdOtUjIzhl7Dhj869/+NexQRERE+ofVqyPPYSQ5O/rsqO4uIqGxyJTNW4HV7n5j1KGHgHnB63nAg1Htc81sgJmNASYArycqXglfy94W7vrQXUxiEuPPH8+ECycc1ZLzoilFHPep4/A2Z8ltSyimOA7RJlbVgipKZ5UmXdGhaGPPGcvA4QNZ8oclYYciSUZJTpEYKcguIGtBFnetuIu/bfxb2OGISAoyswoze9bMVpvZSjP756D9h2a2zcyWBI8Loq65zszWm9laM/tAeNGLhGDlysjzlCmJ77ujz44YRCRM7wGuBM46ZKz8MXCuma0Dzg1+xt1XAvOBVcDjwDWqrN5/tLe2c+/ce9n09Cbu537KZr9rO9YeySvJ47hPHUd6ZjrzmEfdirojX5SkWva1UL+yPmmXqndIz0zn+M8cz9oH17Jr666ww5EkoiSnSAxlvZ7FMcOO4Z8e+if2HNgTdjgiknpaga+7+7HAycA1ZjY5OPZf7n5c8HgUIDg2F5gCnAfcZGaqgCb9x4oVUFEBg0NYUjdqFAwcqCSnSBJw9xfd3dx9evRY6e6N7n62u08InrdHXXODu49z94nu/liY8UviuDuPfulR3nj4Dc7/1fksZWlM7pszNIcZn5xBK63ced6d7NqSmom32mW1tLe2U3JCclZWjzbr87Nwdxb+ZmHYoUgSUZJTJIaszfjDxX9gy64tfOOpb4QdjoikGHevdvdFwes9wGo6qfYa5WLgbnc/4O6bgPXA7PhHKpIkVqyAqVPD6TstDSZPVpJTRCSFvPAfL7DwNwt5z7few4lfODGm984ZksOd3MnBPQf50/l/4sCeAzG9fyJse20bAGUn9m52ayIUjC7gmIuOYdFvF9F6oDXscCRJKMnZhzXtbSK/IP+wj+bm5rDD7HNOrTiVfzn1X/jNwt9wz4p7wg5HRFKUmY0GjgdeC5q+ZGbLzOz3ZjYkaCsDtkZdVkkXSVEzu9rMFpjZgvr6+niFLZI4ra2RPTnDSnJCJMm5alV4/YuISLctu3MZz373WaZfMZ2z/+PsuPRRRx2X3n8pDWsbePCTD+LuceknXipfqSS/PJ/88vywQ+mWk75yEs11zSz67aKwQ5EkoerqfZi3O9c+cO1hz7n+nOsTFE3/csNZN/DS1pf4p4f/ienF0zm28NiwQxKRFGJmuUQqxH7V3Xeb2a+BfwM8eP458Gmgsx3hO/3XtLvfAtwCMGvWrNT6F7dIZ9avh4MHw01yTpkCd9wBO3dCQUF4cYiIyGHVLKnh4c8+zOgzRvOhWz8U16I6Y84aw7k/OZcnv/4kL/2/lzjtW6fFra9Y2/rKVspPKQ87jG4bc/YYRp8xmuf//XmO++RxZOVmhR2ShEwzOUXiIDM9k3suuYdBmYM4/0/nU9NUE3ZIIpIizCyTSILzT+5+H4C717p7m7u3A7/l7SXplUBF1OXlQFUi4xUJzYoVkeewk5ygJesiIkls/879zL9kPjlDc7jknktIz4r/9uUnf+1kps6dyjPfeYYNT26Ie3+xsKd6D7ve3JVSSU4z4+z/PJvm2mZe/cWrYYcjSUBJTpEYit4iYPLIyez57R7erH+Tsm+WkVecR35BPpMmTwo7TBFJUhaZVnArsNrdb4xqj979/cNAkN3hIWCumQ0wszHABOD1RMUrEqoVK8AMjg1xtYSSnCIiSc3defBTD7LrzV1cMv8SBhUNSki/ZsYHf/dBCqcU8pfL/pIShYgqX6kEoPzk1ElyQiTeYz96LC/c8AL1q7QlU3+nJKdIDHVsEdDx+MZvvsHlJ1yOjTAGfWMQn5v/OaqqNMlKRLr0HuBK4CwzWxI8LgB+YmbLzWwZcCbwNQB3XwnMB1YBjwPXuHtbSLGLJNaKFTB+POTkhBfDyJEwaJCSnCIiSerln73MmgfWcM5PzmHke0YmtO+sQVlcev+ltLW0cf+V99Pe1p7Q/ntq6ytbSc9Kp2Rm8ldWP9QF/3sBWXlZ3Hf5fbQd1D+F+zMlOUXibPzQ8Vw29TIa9zVy6+JbaRt25L90J02edMSiUZoRKtL3uPuL7m7uPt3djwsej7r7le4+LWj/kLtXR11zg7uPc/eJ7v5YmPGLJNTy5eEuVYdIhfVjj1WSU0QkCb35/Js8fd3TTL5kMid/9eRQYhg6bigX/O8FvPn8m7z0/14KJYbuqnylkpKZJWQMSL3SLbnFuXzo1g9Rs6SGBz75AO2tyZ1QlvhJvT+9Iilo3NBxXDX9Kuavms/eS/dyx9I7uHL6lV1ueF1VVXXEolE3zrnxsMdFRET6rD17YN06+MQnwo4EZsyABx8E98jyeRERCd2e6j3ce+m9DB03NO6Fho5k+hXTWf/oep77wXOMPWcsZbPLQoulK60HWqlaUMWJXzwx7FCO2sQPTuTsH5/N0996Gm9zPnTrh1SIqB/STE6RBKkYXMFnZ36W9Pp05j0wj4vvvpj129cf9f2i9//UjE8REelXliyJJBVPOCHsSGDmTGhogMrKsCMRERGgvbWdv8z9C/t37edj936MAfkDQo3HzLjw1xeSV5rHfZffx8Gmg6HG05nKVytpO9DG6DNGhx1Kr5z2r6dxzv87h5V/XslNU29i+V3LadnX0um5bS1t7Nqyi60vb2Xl/JXMZjaVr1ZStaCK+tX1NNc34+2e4HcgvaWZnCIJlD8gn5x7c7j+0ev5wXM/YPL/TubTx3+afzn1Xxg/dHyP7tWx/+eRaManiIj0OQsXRp6TJckJsGgRVFSEG4uIiPD0d57mzeffZM4dcyieVhx2OABkF2Tz4T9+mNvPvJ0nrn2CD97ywbBDeofNz20Gg5HvTey+pfHwnm++h4pTK3j4sw9z3yfuIys3i8IpheSV5uHtTnNdM7u27KKpuukdScwLuIANT2x4x73Ss9IZMm4IRVOLGDZxGGnpmieY7JTkFEkwc+PaU67lE9M+wQ+f+yF/WPIHfrPwN5w28jTmTpnLJZMvCTtEERGR5LZgAZSWQkkSFEeYPj2yN+eiRXDxxWFHIyLSr62+fzUv/+RlTvjcCcy4ckbY4bzDqNNHccq/nMLLP3mZSXMmMeGCCWGH9JY3n3uTkuNLyBkSYjG/HhpZPpKt27Z2edwwRjOaE/1ELhx0IdvXbQeDQYWDGHfuOPJH5pNfns/gisHkleUxbvo47v/m/bS3tnOw6SB76/aya8suGt9opGF1A1m5WVS8p4IMpdGSmv7riIRkRO4Ibr7oZn54xg/5/eLfc9eKu/jSY1/iK49/BT4Bj69/nFGDR1ExuILcrNywwxUREUkeCxfCrFlhRxExcCBMmhRJcoqISGga1jTwwFUPUDa7jPP++7yww+nUmT86k/WPruehf3qIL674IjlDw08qtu5vZesrWznxmtTaj3Prtq08+4Nnj3jemdefyT1P33PE85ppJjMnE4ABeQPIK8mjeEYx3u5sX7+dylcq2fDEBr7El1j78FomfnBir9+DxJ7m2oqEbETuCL793m+z/AvLWf6F5Xzv9O9hB42F1QuZv2o+P3/l5/zXq//F/JXzeXHLi2zcsZH9rfvDDltERCQce/bA2rXJsVS9w8yZSnKKiITowO4D3D3nbjJyMvjYvR9L2grhGQMymHPHHHZX7+bKYZFCtId7jCyP//Lxjv04x5w5Ju59pSJLM4YdM4wZ82Yw/crpHOQgd3/obu674j4O7DkQdnhyiOT8P1+kn5paNJWpRVO5cc6NfOW+r1C9p5rKPZVU7a5i255trG5Y/fbJX4T7Vt9HaV4pZXlljMgdQWZ6ZnjBi4iIJMLixclTdKjDzJlw551QUwMjRoQdjYhIv+LtzgPzHmD7+u1c9berGFwxOOyQDqvk+BKe4znO4iw+fsnHKZpS1OW5Z15/Ztzj2fTsJizN+sR+nPE2ZOwQbuZmnrn+Gf5+/d/Z9to2LrnnEkpmJsH2OQIoySmStDLSMqgYXEHF4LeLGOxr2UfVnkjC89m1z7Jp5yaW1y0HIM3SKB5UzPih45kwdAJl+WWkmSZri4hIH5NMRYc6dBQfWrwYzj8/3FhERPqZZ3/wLGseWMP7b3x/ylQHf5EXubjsYtY9so7BIwczIC+8CvAbHt9A2ewysgdnhxZDKmmnnfd9/32MPnM0f7nsL9x6yq184Bcf4MQvpNZy/75KGRCRFJKTmcO4oeM4fdTpMB++fsrX+drJX+PSKZdyasWpZKZl8uKWF/n9kt/zs5d/xn2r76NlYgtNB5vCDl1ERCQ2XnkFRo5MrhmTxx8PZvDaa2FHIiLSryy4eQEv/PsLHP+Z4zn5qyeHHU63tdPOpDmTaG9p542H38Ddj3xRHDTXNbPtH9uYcGHyFEFKFaPeO4rPL/08Y88dy6NffJRHv/wo7a3tYYfV72kmp0iKyx+QT/6AfCYNnwREZntu3LGRddvXsX77evZfsJ+inxZx4TEXMnfKXC6YcAE5meFvcC0iItJj7vD883DOOWFH8k75+ZEq6y+9FHYkIiL9xpoH1vDoNY8y4cIJXHTzRZhZ2CH1yMDhAxlz9hg2PLGBmsU1oSx5XvfYOnCSqtJ7Khk4bCBzH5zL3/71b7zy81fYsX4Hl9xzCQPyw5uZ299pJqdIH5OTmcOUoinMmTSHr5/ydXLuyeHTx3+a5998nkv+fAlFPyviqvuv4m8b/0Zbe1vY4YqIiHTf+vVQWwunnx52JO922mmRWaatrWFHIiLS5215aQt/uewvlM4q5ZJ7LiEt452pjZHlI49Y1CcZkqJlJ5VRMLqADU9sYN+OfQnvf90j68gtyWXE8Um0OiLFpKWn8f6fvZ+LbrmIjX/byK2n3squLbvCDqvf0kxOkT7MzMioyuBXF/yKX5z3C/6++e/cteIu7l11L39c9kfK88u5YtoV3P2du2lc23jYe5WWlrJm1ZoERS4iItKJF16IPCdrkvN//xeWLk2u/UJFREIysnwkW7dtPeJ5FWUVbKnc0u37bnlxC386/0/kV+Rz2V8vI2tQ1rvO2bptK8/+4Nkj3isRhX0Ox8yYePFEFvx6AWsfXMuMeTMSlnxta2ljw5MbmHzJ5KRI+Ka6Ez57AkPGDmH+R+fzu5N+xyce+YQKEoVASU6RfiIjLYOzx57N2WPP5n/O/x8efuNh7lh6Bz99+ae0XdBG6aWlTC+ezrSiaQzMHPiu62+cc2MIUYuIJDl32LcP2tshOxsy9E+ruHr+eSgshIkTw47k3U47LfL84otKcoqIEJ9E4/rH1zP/o/PJr8hn3jPzGFQ4qDchJoXsgmzGnTeONx56g22vbqP8lPKE9Pvm829yYNcBLVWPobFnj+XTL32a/7vg//jD6X/gY/M/pt9vgulf4iL9UE5mDh+f8nE+PuXj1DbVMuqDo2i/qJ3H1z/OkxueZMLQCcwonsGEYRPISNNfEyIi79Dezil798Kf/wybN8PevZH2tDQoKoJjj6VQS5bj44UX4L3vjRT5STbl5TBqVCTJ+c//HHY0IiJ9iruz8DcLefRLj1I8rZjLH7uc3BG5YYcVMyOOG0HDmgY2Pr2RIeOHJCR5u+KuFWTlZjH+/PFx76s/KZpSxGde/Qx3XXQXd33wLi743wuY9flZYYfVbyh7IdLPFecWk7U4i8/94HPUNtWytHYpy+uWs7ZxLTkZkf09ZxTPYM/ePeQX5B/xflrWLiJ92j/+AV/4Ar+urobdu+GYYyKJzYyMyM9bt8Kzz/IIwDe/Cd/5DgweHHbUfUNlJWzcCF/+ctiRdO200+DppyMzfJMxESsioenu0m3o+fLtvu5g80Ee/eKjLL1jKePPHx8p7JLXtwq7mBkTPziRf9z0D9Y+sJbjPn0caenxK6HSeqCV1X9ZzaQPTyIzJzNu/fRXeSV5fPLvn+TeuffyyBceYcemHZzzn+dgafq3QbwpySkibynOLeb9ue/nnLHnsHHHRpbWLmVJzRIWVC2Az8GJs05kevF0Bmd3/YH9R+//0RGToUqEikjKaWuDf/s3+NGPYMQIvldYyL9dfXXny9O3b+fx227jQz/9Kdx9N9xxB5xxRsJD7nMeeyzynGyV1aO9733wpz/BqlUwZUrY0YhIEunu0m0If5/IZLLpmU08/NmH2bFpB+/74fs4/bunxzX511vG0Rc0ysrN4pgLj2HVvavY8uIWRr9vdGyDi7LhiQ3s37mfqZdNjVsfyaI3/016Iys3i7kPzOWxrzzGyz95mV2bdzHn9jlkZCsNF0/67YrIu6RZGuOHjmf80PHsb93PqvpVPPzmwzyz+Rme2fwMowtGM6N4BscOP5YBGe/8FtXbnWsfuPaw99f+niKSUpqa4OMfjyTZrroK/ud/eHjmTP6tq/03hw7l+0VFfOipp+DKK+Gss+A//zMys1Oz+47eX/8Ko0cnd/LwvPMiz48+mtxxiogkuYa1DTzz7WdYfd9qho4fyrxn53H65aez9Yfdmw0bFsd7tQ9p4ZRCitYUseX5LQwdNzTW4b1lxV0ryBmWw9hzxsatj2TR2/8mvZGWkcYF/3sBQ8YO4alvPMX2Ddv5+L0fp2B0Qcz7kgglOUXksLIzsplZMpOH73iYrzz8FZbVLmNp7VIeXPsgj657lGOHH8uMETMYXTCaNEveb1VFRI5KfT1ccAEsXgw33wxXX939ROVJJ8GiRfBP/wTf+hasXg2/+Q0M6FtL7BJi3z7429/g059O7kRxRQVMnw6PPALf+EbY0YiIxEVPlt73RHtrOxuf3siiWxax+v7VZA7M5Izrz+DUfzmVzIGZ/WY27PgLxrO7cjer/ryKgby7IGxvNdc3s/r+1cz8p5mkZ6bH/P59XU9mhnZsPXHqv5zKsGOGcf9V9/Obmb/hw3/8MMdceEycI+2flOQUkW4bkjOE941+H6ePOp3K3ZUsqV3CyrqVLKtbRl5WHtOLp8PwsKMUEYmR+no488zIPpAPPAAXXdTze+Tmwl13waRJcP31sGED3HdfpEJ4L5x72mnU19R0ebxwxAieevHFXvWRVJ59NlLg6Wj+GyTahRfCT34Cu3ZpP1YR6ZNiWTW9vbWdUYzisX9+jJV3r6S5rpnsIdm899vvZfaXZ5Nb3HeKC3VXZk4mkz82mcW/X8xH+Ajtbe0xXaK/6LeLaDvQxonXnBize/Yn3Z0ZCu/8f2DihyZy9cKr+fMlf+aui+7i1G+cyhnXn6E9UWNMSU4R6TEzo2JwBRWDKzh//PmsbVzLspplvLz1ZfgC/HbRb5lePJ2phVMZlBX/yoAiIjG3fTucfXYkwfnII5FkZw9UbtvGcePfWa30A0VFXP/SS9SVlvL96dO5beHCow6vvqaGJVdc0eXx4+6886jvnZT++lcYNCiy52Wyu/DCyPYETz4JH/tY2NGIiCQVd6eppokdG3ewc9NOdr25i0/xKRbevJBjLjqGaZdPY8IFE/r9voV5pXmMP388/lfn+X97njN+eEZM7tvW0sY/bvoHY88dS+GxvfvCVY6ss1mfGWRwHufBT+Hhnz7MQzxEe1l7TIuNdXe2dV8scta//+YQkV7LSMtgSuEUphROoelgEz//4c9p/2g7j69/nCc3PMmEoROYUTyDCcMmkJGmv3JEJAV0zBh8442jSnACeGtr50nIrVsZeddd3LhkCbzyCpxySu/j7etaW+H+++H974fs7LCjObKTToIhQ+Dhh5XkFBEhUh19+7rtNK5rZOemnbTuawVg4PCBlMws4Wev/4wldUvIHpwCf8cnUMnMEv781z/Dj6BsdhkTLpjQ63uu/stq9mzbw0U3p8DKiD7gcLM+d2zcwRt/fYNP7fgUC7ctZPe23eSXHb6Ab3fFcrZ1qlHGQURiJjcrF16Hz/3H56htqmVp7VKW1y1nbeNasjOymVo0lRnFM3A87FBFRDrX0gIf/zhtr7zCN4qLeeZzn+v0tKpt247u/hUV8JnP0HTzzQw966xIJe6PfKQXAXeus5mk0VJqOfvjj0NNTaToUyrIyICPfjSyTcFNN0W2LBAR6WcONh/kJE5i0a2L2FO5B4CsvCyGTRzGkDFDKBhTwIC8yB7Va19fqwRnJ8yMR3iE82acx72X3sunXvwUI2aMOOr7tbW08ez3n6VwciHjz+/63wiSGEPGDmHWF2ax+dnNtL3Sxi/H/pKZV8/ktG+dFrNkZ3+kJKdIH9e0t4n8gsP/Jdnc3Bzzfotzi3l/7vs5Z+w5bNyxkWW1y1hSs4QFVQuwecYNz9/AFdOvYFTBqJj3LSJyVNzhs5+FRx7hP4YP58bPf77LU4fdcMPR9zNsGPPKy3l2xIhIMuz734cf/ADSYrffVpczSQMptZz9D3+I7GF64YVhR9J9n/wk/O538Je/wLx5YUcjIpIQ7s6OjTuoXlhN49pGzud8vNUZdcYohh0zjNwRud0u2CIRLbRw2V8v43cn/Y7/u/D/+PRLn6ZgVMFR3WvhLQvZvm47l/31spju8SlHLz0znXHvH8c3XvkGpx08jYO/Osgrv3qFtaxlKUtZz3raaX/r/L64vDzWlOQUSbBEJx293bn2gWsPe87151wfs/4OlWZpjB86nvFDx3Og9QCr6lfxyNOP8N1nv8t3n/0uZ44+k6tmXMVHj/0oeQPy4haHiMgRXXcd3H47XH89f7njDr4Xx652pKdHiul8/vPwox/Byy9H+i4tjWOvKaihIbLs+0tfgswU2pj/1FNh/Hi47TYlOUWkz3N3Gtc0suXFLeyp2kPmwExKZ5fynVe/wz2fuyfs8FJeflk+lz96Obe97zbuOOsOPvXCp8gr7dnnpr2Ne/n79X9n9BmjY7LsXWJrBzu49gfXsm/HPra9uo2cFTlM2TuFzIGZDB0/lMGjBjN41GAu/FUKfeEbEiU5RRIs7KRjmAZkDOD4kuN59t5nWbppKXcuu5M7lt3Bpx78FNc8eg0fOfYjXDX9Ks4acxbpaelhhysi/cl//Rf8v/8HX/wifO97cMcd8e8zOzsyS/HUU+FrX4MpU+Df/x0+97nIkueeamuLFEzasYO57e2waFHkPvn5MHx4ai6b/sMfIlsIfOpTYUfSM2aR2Zzf/W6keNXYsWFH1KlzTzuN+pqaLo+n1LYGIhKK7eu3s/GpjW9VRT/momMonlFMWkYada/WhR1en1E8vZjLH7+cP57zR257321c8cQVDBk7pFvXujsPfvJBDuw6wAf+6wOaTZvEcobkMP788Yx9/1i2r99O3Yo6tq/fTu2yWgC+yTe59dRbGT5xOEPGDyF3RC65xbkMKh701nPGgP6d5uvf715EQjNmyBi+977v8d3Tv8urla9y+9LbuWflPdy57E7K88vZ++peDrx2gLSdXS+lKC0tZc2qNQmMWkT6pNtvh2uvhUsugV/+MpKgShQzuPrqSNXwL3whMmPxF7+Af/5nuPTSyDLtzi5zjyQ0q6qgsjLyqK6G9siSpv+FyAzIaEOGwDHHwLRpkaX5yW7vXvjZz+CccyIxp5p58+D66yPv4aabwo6mU/U1NX1nWwMRSajmumY2PLWBHet3kD0km0kfmUTRlCIsTQm0eCk/qZwrnryCuy66i1tPvZW5D8yl/OTyI1738k9f5o2/vsF5/30eI447+j09JXHS0tMYPnE4wycOx93Z27CXXW/u4q5H7mLygMmsf3w9TTVNnV47IH8AX+bLLP79YrIGZZE5KJPMQZlkF2STMySHnKE5ZOVl9dlkt5KcIhIqM+OUilM4peIUfnHeL3h47cPctvQ2Hp30KEyGivwKZoyYwZTCKWRnvHND8hvn3BhS1CLSZ9x3H3z603DuuXDnnZAe0izyiRPh6afhwQfhxz+GL385kug8/vjIDM/hwyN7djY2wvr1vLBpE/zP/0SuzciAsjI4+WQoLoYhQzjh9ttZ+OUvRyqT79oFtbWweTMsWACvvfb/2bvzOLvq8vDjn2fWbGSfhGwkLAkQtoARRXAFBVeorRV/PxWtFaXYutUi2kX9Na21rVrbaouKolURrQriiggqimKAEEggJOxZyEISyD6Tmef3xzkDQ5hMJsncuXNnPm9e93Xu/Z7tOXcu+d77nO/CV5ubi2v/gz/o36Tu/vjv/4Z164rxSmvR9OnFZ+sLXyiGQpgxo9oRSdJBa93Wykt5KQv/ayH1TfUc8bIjmHbqNMd47CczTpvBW296K19/5df50vO/xIs+9iKe9/7nUd/0zO8vmcmv/uFX3PDXNzD3j+Zy6p+fWoWIdbAigpEtIxnZMpJrf3At37+huIndtqONbWu3sXXt1qctt63fxq2fuZUj649k+2PbaXu4jbbtbU87Zn1TPaMOHcXLeTl3fOUODnv+YYydNXZQJD5NckoaMIY1DON1x72O1x33OkZNG8VpHz+NRY8u4tp7r+XHK37MsROPZd6h85g1dhZ14RcpSQfpuuvgDW8okoPf/S40N1c3ngg47zw491y4/Xa45hq46Sb4+c9h06aiO/qECXDYYfzgkEN4/QtfCFOmwKRJz0jOPhgBY8YULyZMKLpLn3Ya7NwJixcz+mc/KyY9eu5zi5aGp5/e/9fbky1b4BOfgBe/GM44o9rRHLgPfQguvxz+4R/gc5+rdjS909nKdxD80JHUt1b8eAU/uOgHnM7pHDrvUI446wgaR9TQeMmDRMuxLbzjtnfw/bd/n59/6OcsunwRz/ur53HsHxzLiIkj6Njdwarfr+LGv7uR+6+7nxPfeCKvufw1gyKBpac0Dm9k7KyxjJ019hnrXvGZV3DxBRc/+To7kp2P72THxh3s3LiTbeu3sfXRrZzMyXzvgu8BMHr6aGa+cCazXzmb2S+fzbCxw55x3FpgklPSgFS3rY7TZ5zO86Y/j9VbVrNo7SLuWncXd667k9HNozlx8ol0jO3Y94EkqTs33lgkFI89Fn7wAxg5stoRPSUCTjmleOzFPx51FK/vYf1eDRsGp57Ka5ct49YPfaiY2f2MM4oWnf/6r3D44QcReB+65JKi9el3v1vtSA7OYYfBn/4pXHZZ0arz2c+udkRPWbeOF27bVrQgXrWqGP5g69YimV5XB8OHc8Xu3cUYsS94QdHaedKkakctqQq2rt3KT977E+76xl1MPGYil3M5V7zmimqHNaQNGzuMP7rqj1jx4xVc/8HrufbCa7n2wmtpHtNMe2s7u3fsZvj44Zz96bN5zp8/p6aGEQjChGwfi7oouqqPGw5HPlX+ko++hDWL1/Dwrx7moV88xH0/vY87v3YndQ11zHzBTOa8Zg5Hv+ZoTnr+STyy6pF9nmcgzP5uklPSgBYRTBs9jWmjp3H2kWezbMMyFq1dxK8f/jX51qT+HfU03t1I47JGYlf3laFjd0p6mu9/H173OjjySPjJT2Ds2GpH1O8eWr2aef/4jwxrbuaN48fzJ9/7HnXf+x5fGjuWL48dy666uupNOnPDDUWrx/e+t2hpWuv+4R+Kz9yb3lRMBjViRPViefRR+N//hW9+E266iX/LLIYEmDwZZs4sJqdqaCgSndu3s3XRIrZ84Qscctll7AZ+M2IE3z/kEH4xYgSt1fyMSOoXmcntl9/OdR+4jrZtbbzwIy/kjA+ewbuGvavaoYnid9Lsl8/mqHOOYu0da1n+o+VsXbOVqA+mPXsas185m2Fjaq81XpLc8Hc37HO7F3/0xf0QzeCWJJNPmMzkEybz7D97Nh3tHay6ZRXLrlnGvdfcy0/e8xN+8p6f8DJexotf/mJajmuhaWTTXo83EP4mJjkl1YyGugaOm3Qcx006ji27tvDJv/8kE14zgfVT17P7rN3MmTCHEyefyOzxs582O7tjd0p60v/8TzHr9SmnwI9+VHTlroKVq1Yx76ij9rq+0smj3L376RPOPPEE/PSnXLRkCRdlwjnnMO+WWyp2/r267z44/3w46qhipvnBYOxY+PKXiwmU/vRP4atf7d+xX9etK8Zf/eY34Re/KLqjH388fOQjvOW//5svv+Ut0Nh9d9PX3Hknj116KTz6KA1Ll/KCxYt5wdq1MHw4POc5PP/BB/vvOiT1qw3LNnDtO67loV88xMwXzORV//0qJh4zsdphqRsRwaHzDnVSIR20uvo6Zpw2gxmnzeCsfzyLjSs2svR/l/L1D36dFT9awX0/uY9xR45j8omTmXD0BOobqzSWfQ9MckqqSYc0HwI3w0Ufu4hHtz7KHWvv4K51d3H3hrsZ3jCc4ycdz0mTT2LqIVOrHaqkgSATPvUpeP/7i3Eer74aDjmkeuHsmWTcQ7/Paj16dDG7/LOeVSR/r7yS/xgxApYvh9mz+yeGlSvh7LOLVoTXXlvdFo997cwziwmlPvjBIsH5xS9C095bQhy0Rx8tWo9edVUxpmtHRzG51d/8DfzxHxeTWQGLvvKVvSY4n1RXB1OnFo+XvAQeeABuuQVuvJEfRxRDC/zlX0JLS+WuR6px7W3tNNPM7l27qWuoG9CT9LS3tnPTP93Er/7+VzSOaOTVn381J//JyRXt7mz3ZGlgGn/UeM645Aye/8Hn8/13fp91i9ex7q513P2/d1PfXM+k4yYxed5kRk8fPWD+HzbJKanfbd2+ldFjR/e4zbZt23p1rIhgyiFTmHLIFF56xEu5f9P93LH2Dm5bcxu/X/17JgyfwK5n7+Lhxx/msDGH9UX4kmrNtm3wzncWrTj/8A+L5bDa677VLw4/vBiD8ZZbmHfddUWLv3e+Ez7wgWK28Eq56aYiybptWzEh1NFHV+5c1XLJJcVs93/913DnnUWi81nP6ptj79gBt95adPW/9toiCQlFi9hLLy0SmyeccPCTCdXVFcM8HHkkrF3LTy67jHM/8Ql2/fM/87UxY/jK2LFs6dJK1e7sUuHe79/LpVzKrz/+awDqm+sZ0TKCQw49hFFTRzHmsDGMmFD9GzvLf7Scn77vp2y4ZwPHvf44zvn0OYw6dFTFz2v3ZGngGzV5FKNeOorDzzqczQ9uZu0da1l751rW3LaG4eOHF8lOev6N3x9Mckrqd9mRvO977+txm4+e9dH9Pm59XT2zJ8xm9oTZ7Ny9k6Xrl7J47WIeO+MxZn56JqfPOJ3XHP0aXj3n1Rwz8ZgBc7dJUgUtXAj/9/8WLRI/9jH48Iehro6XnnEG6x99dK+7rV61qh+DHGDq6+G00zhv2TJ+9pKXwH/+ZzFG5lveUrTYmzOn7861ahV85CNFwu/II4tWh3Pn9t3xD0JFhhT48IeLxPE73gHz58OLXlSMD/v85xctZntKvre3F5MDrVsH999ffKaXLy/G+bz9dmhrK5KYp55adPV/1at46Z/9GeuvvBKuvLLbQx7U53zyZN5eV8drL7qIETfeyNuXLOHtO3fCaafBc54Dzc393yJZGqAmnTCJn/ATLnrZRXS0ddC6tZVt67axdvFaVi9cDcCIiSOYcPSEqnQJX7dkHT99/0+f7Ir6hmvfwJxX9uG/9ZL6RF+3ej6Q40UE4w4fx7jDx3HUy49iw90beHTRozz48wd5L+/lqy/9KiddcBLHvvZYGkfso7dIBZjklDQoDWsYxilTTuGUKafwL2/+Fy756iV8957vcsnPLuGSn13CUeOP4tVzXs3ZR57N82Y8r+j+LmnweOKJInn2b/8GU6YUM0i/+KkWIOsffbTH7uITFizohyAHtg0NDXD55cUM7J/4RPH8858vZmP/4z+GV7wCjjhi/1sHrl9ftNb89rfhmmuK/d/zHvi7v4MxYypyLQeiYkMKnHtuMVv5F74A//VfcPHFRXlEMX7nyJFFV/2GBti1q3hs3w6bNhXDLnTxREMD9zY0sHjkSBYPG8Ydw4axacMG+NKX4EtfYvWqVay75JK9htInn/OJE4tWuGecATfeWLQm/d3v4PTTae7oOPjjS4PAhNkTuJmb+YfT/uFp5ZnJjsd2sOm+TWxYtoGVN6/kkV8/wnt4D9ddch3Hn388h847tGI35tcuXstNH7+JJd9cQvPoZl72yZdx6sWnUt808MbZk9T3rZ4P9ngNzQ1Pjge7Y9MO/ukz/8S4+8bx3Td9lx/82Q+Y+7q5zHvLPA4747B+a2BkklPSoFf3RB1/88K/4W9e+Dc88vgjXHvvtVxz7zX85+//k0/99lPURR2nTDmF501/HidPOZmTDz2ZY1uOpam+guOlSaqMbdvgssuKGa03bCi6Wv/jPw7JGdT7zKxZ8NnPFsnOK64oHn/xF8Vj/PhiEqeTT4ZDDy1ejxtXJOx27iy6Ua9fX4zj+MADcM89xRKKGb3f977ib3TEEc847b5a29Z0V+hx4+ADH+Cl3/sezbt3c+LOncxoa2NsezvDHn+cYZs305jJE7t2EcOH0xrB5rFj2Vhfz6b6elY3NPBIYyN3P/oo6y65hPl7OU2/JusPPbSYNGrVqiLRed11fL++vvjsvO1t0Nzcf7FINSIiGDFxBCMmjmDac6axe+duHlv2GNd87xp++8nf8ptP/IYJcyZw3PnHcfzrj6dl7sGPfduxu4P7rruP3//n71n+g+U0jWritPefxul/dTojJla/y7wOzGHTD+ORVY/sc7sZ02bw8MqH+yEiDTXDxw3nl/ySXz7wSw7jMOZtmceWy7ew6PJFbGQjd5T/bWYzULnPoklOSUPKjDEzuOjZF3HRsy9iW+s2bl55M7986Jf84qFf8IXbv8D2W7YD0FTfxHEtx3H8pOOZM2EOR084mg+8/QM8du9jxO6934WaOnUq9yy9p78uRxIUrdtuvRW+8Y2iBdumTU9N9DJ/b+kf7bdDDy3GlbzkErj33qJr+a23Ft2lP/3porv03owdW4z3OX8+XHQRvPCFvOy972Xdd75TzPzdjX21QqyFrtC9GRZhXy0tH3vf3od3GZAtjqdNgze+ER56iEeuvJJJF19ctKq+8MLibz9tWrUjlAashmENTD5pMl//3tfZ9ug27v7O3Sy5cgm/+vtf8cuP/ZJJJ0xi7uvmMutFs5j27Gk0DOvdz/nWra2sumUV93zvHu668i62r9/OiIkjePH/ezHPvvjZDB83vMJXpgO1P92JHddU1bZny9D21vaiO/sdjzL+gfG8mBczesZoWua28M6fvLMiMZjklDRkjWwayVlHnMVZR5zFMXOPoW5NHSPHjqS9pZ2OSR0sblnMogmLyEPK7oFnF4/RzaOZMHwCE0ZMYPzw8YwfNp5xw8cxbtg4/v0P/72q1yQNGevXw803FxPWfOc7cN99xSzRr3lN0Trwec+rdoQHZV/jQVZ9zNA5c3jpn/zJkwm8mDGDkR0djO7oYEzZRXn1xo2MmjiRJ+rqislonniiSIjedhv8938fdFfqAf8eMcSHRZg5k7dNncqiz3++GDbiH/4B/umf4FWvKlp8vupVRdd8Sd0aMWEEz3r7s3jW25/F1ke3svTbS7nryru48W9vBKC+qZ4pp0xhwpwJjD5sNGNmjKF5TDMRUYz5uX4bm+7fxOrfr2bt4rVke9IwrIE5r57DCf/3BI465ygamp+eDuhta0D1HydlUi2rb6pn8kmTmXzSZHY+vpO1d6xl/dL13PeT+5jM5Iqc0ySnJAGrV6/m/d97f7frWttb2bhjI//9of/mxe9/MY9tf4zHdjzGnWvvZFf7rqdtG28Pnv+l53PkuCM5YtwRHDnuSI4cfyRHjjuSiSMmOtmR1JPdu4vuzdu3F4/HHy+6nG/YAGvWFInM++4rWhHef3+xT2NjMXnLhz8M550H48bts/UcDIwEWE/2NR5kfyTHepNE3GcrxLe+tcf1B2MgvEfahwh4yUuKx/33F13Xv/51+N73inFHX/EKOOusYv1RRx387O/SIDXq0FGc+q5TOfVdp7J9w3Ye+c0jPPzrh1n121U8cMMDbFm9hWzPZ+w3fPxwDp13KGdcegYznjeDw04/jObRex864pFVj5hQ05NMeqsvDRszjJkvmMnMF8xk+2Pb+dh/fKwi5xlwSc6IOAf4N6Ae+EJmfrzKIUka4prqmzh01KGwFF4w8wVPlmcm29u2s2nnJjbt2MSmnZu44eobuHnzzfx67K/JUXt82dwFdY/XUfdEHaNyFB94xweYdsg0po2e9uTykKZDTIRqv1Wt7mxvLxKRmzY99di48emvN28uEpZdk5edz/dc9tTdGWD0aDjqKG58/HFuHz+eO4YN4+7mZnbdfz8sWFA82HfyDUyA9YZJxJ7tKwkMAz+Z3q+OOAL+5V+K1py/+lUxvMS11xYTUEHRjf2UU+Ckk+DEE4vZ5mfNqvp4uoN6bNghrlZ/d46YOIKjX3M0R7/m6CfLOnZ3sGXNFtq2tdHR3kHTqCZGTBhB0yjHl9eBM+mtShkxYQQdVGZywgGV5IyIeuA/gZcCK4HfR8Q1mbm0upFJqmVbt29l9NjRPW6zbdu2/T5uRDCyaSQjm0YyffR0AG645gb++md/DUBbexubd25m446NRSK0TIZu3rmZ9RvX8+Gff/gZx2yqbyq6wJePCcOLLvFjh41lZONIRjSOKM7Z5XlTfRMNdQ17fdRF3dPG8+l8vueyZUSLs8zXoH6vO9/4RtZ8+9uMbGtjVEcHdT1suiuCLXV17IhgZ10duyLYGUHH8OGc+uIXFy25hg8vll2ef+azn2XDli1sq6tjUznRysb6eh6vq4PHH2f1tm2VnzFa2od9JYHBz+K+EsEts2Zx3Q03FOO7/upXcMcd8MMfFjdQOo0ZA1OmwIQJT38cckjxb8aej2HDoK7uqUfEM1+3tUFr696XXR5/uHQp7zzuuCKm9vaixXlHx5MxfnHJkkq/jaqAwfa7s66hjjEzxlQ7DEmqugGV5AROBVZk5v0AEXElcC5Qk5WNpIEhO5L3fW/vEzcAfPSsj/b5eRvrG2kZ2ULLyGfOhPnJ8z7Jo+sfZfWW1ax6YlWx3LLqya7wG3ds5Ic3/pBddbvIYUk2JzQCFWzkeejvDmXND9dU7gSqlP6tO2fO5LbGRl554olPTyp0WR532WUsueQSmhsb6a5T3MR/+iem33HHXk+xevVqk5jSILCvRPDEf/on5r3iFU8razrsMA5va2N6WxtTd+/myKYmzjv+eHjsMXjwwWKyq8ceg507Kxx94Z0Av/kN1Nc/8wEc3draL3Gozw3o3529nWymsa6Rto599ILYj+00+O3PREZSLYrMZ47dUS0R8UfAOZn5p+XrNwHPycx3ddnmQuDC8uXRwLKDPO1EYMNBHmMg8rpqi9dVW7yu7s3MzGdmdFVRvak7y/K+rj8HksH6/2Rf8f3pme9Pz3x/embdWYMGYN05lP8/G8rXDkP7+ofytYPXX5H6c6C15OzulsLTsrCZeRlwWZ+dMGJhZs7vq+MNFF5XbfG6aovXpQFmn3Un9H39OZD42e2Z70/PfH965vvTM9+fmjWg6s6h/DkaytcOQ/v6h/K1g9dfqevvaSitalgJzOjyejqwukqxSJJUC6w7JUnaP9adkjQIDbQk5++B2RFxeEQ0AecD11Q5JkmSBjLrTkmS9o91pyQNQgOqu3pm7o6IdwE/AeqByzOz0lMWDsque3hdtcbrqi1elwaMKtWdA42f3Z75/vTM96dnvj898/2pQQOw7hzKn6OhfO0wtK9/KF87eP0Vuf4BNfGQJEmSJEmSJO2vgdZdXZIkSZIkSZL2i0lOSZIkSZIkSTVtyCQ5I+LyiFgXEXd1KRsfEddFxPJyOa6aMR6IiJgRETdExN0RsSQi3l2W1/S1RcSwiLglIu4or+ujZXlNX1eniKiPiNsj4trydc1fV0Q8GBF3RsSiiFhYlg2G6xobEd+OiHvK/89Oq/Xrioijy79T5+OJiHhPrV+XhoaIeG9ZL9wVEd8o64sh/dnd3+84EXFpRKyIiGURcXZ1ou4/e3l//rn8d31xRHw3IsZ2WTfk358u6/4yIjIiJnYp8/0pyv+8fA+WRMQnupQPqfdH+2+wfmfurcH43bo3/P49tL/DRcS7y+teEhHvKcsG7bVX87vpkElyAl8Gztmj7IPA9Zk5G7i+fF1rdgPvz8xjgecCF0fEXGr/2nYBL8nMk4B5wDkR8Vxq/7o6vRu4u8vrwXJdL87MeZk5v3w9GK7r34AfZ+YxwEkUf7eavq7MXFb+neYBzwK2A9+lxq9Lg19ETAP+ApifmcdTTBZxPn52v0wvv+OU3xHOB44r9/lsRNT3X6hV8WWe+f5cBxyfmScC9wKXgu9PVxExA3gp8HCXMt8fICJeDJwLnJiZxwH/UpYPxfdHB2YwfmfurUH33bo3hvr376H8HS4ijgfeDpxK8Zl/VUTMZnBf+5ep0nfTIZPkzMxfAhv3KD4XuKJ8fgVwXn/G1Bcyc01m3lY+30JRSUyjxq8tC1vLl43lI6nx6wKIiOnAK4EvdCmu+evai5q+rogYDbwA+CJAZrZm5mZq/Lr2cCZwX2Y+xOC6Lg1eDcDwiGgARgCrGeKf3f38jnMucGVm7srMB4AVFF+6B63u3p/M/Glm7i5f/haYXj73/XnKp4C/ovj+1cn3p3AR8PHM3FVus64sH3Lvj/rMkKjHhsh3694Yqt+/h+p3uGOB32bm9vK7xy+AP2AQX3s1v5sOmSTnXkzOzDVQJAuBSVWO56BExCzgZOB3DIJri6JL9yJgHXBdZg6K6wI+TfGjoaNL2WC4rgR+GhG3RsSFZVmtX9cRwHrgS1EML/CFiBhJ7V9XV+cD3yifD6br0iCUmasoWkw9DKwBHs/Mn+Jntzt7e0+mAY902W5lWTaU/Qnwo/K57w8QEa8BVmXmHXus8v0pzAGeHxG/i4hfRMSzy3LfH/XGYPzO3FtD4bt1bwy5799D/DvcXcALImJCRIwAXgHMYGhce1f98t10qCc5B42IGAX8L/CezHyi2vH0hcxsL5vzTwdOLZt517SIeBWwLjNvrXYsFXB6Zp4CvJxi2IQXVDugPtAAnAJ8LjNPBrYxiLoRREQT8BrgW9WOReqNcuyec4HDganAyIh4Y3WjqjnRTVl2UzYkRMSHKYb++VpnUTebDan3p/wB9mHgb7tb3U3ZkHp/Sg3AOIqhoj4AXBURge+PemcwfmfurUH93bo3hur376H8HS4z7wb+iWKonB8Dd1B891ChT+vOoZ7kXBsRUwDK5bp9bD8gRUQjRYLza5n5nbJ4UFwbQNmF4UaK8Rlq/bpOB14TEQ8CVwIviYj/ofavi8xcXS7XUYwvcyq1f10rgZVlK2KAb1N8Mav16+r0cuC2zFxbvh4s16XB6yzggcxcn5ltwHeA5+Fntzt7e09WUrQe6DSdorvYkBMRFwCvAv5vZnZ+mfb9gSMpfoTeUX5fmQ7cFhGH4vvTaSXwnXJ4pVsoeudMxPdHvTBIvzP31mD/bt0bQ/X795D+DpeZX8zMUzLzBRTduJczRK69i375bjrUk5zXABeUzy8Arq5iLAekvGv8ReDuzPxkl1U1fW0R0RLlTKcRMZziH8V7qPHrysxLM3N6Zs6i6Kbw88x8IzV+XRExMiIO6XwOvIyiWX5NX1dmPgo8EhFHl0VnAkup8evq4g081VUGBs91afB6GHhuRIwo678zKcai9rP7THt7T64Bzo+I5og4HJgN3FKF+KoqIs4BLgFek5nbu6wa8u9PZt6ZmZMyc1b5fWUlcEpZJw7596f0PeAlABExB2gCNuD7o30YrN+Ze2sIfLfujaH6/XtIf4eLiEnl8jDgtRSfgSFx7V30y3fTeOrG9eAWEd8AXkRxl3Ut8HcUX1CuAg6j+J/udZnZ3cDrA1ZEnAH8CriTp8Z4/BDFuJw1e20RcSLFYLT1FMn4qzLzYxExgRq+rq4i4kXAX2bmq2r9uiLiCIo70VB0Q/l6Zi6o9esCiIh5FJNENQH3A2+l/ExS29c1gmLskyMy8/GyrOb/Xhr8IuKjwOspuvncDvwpMIoh/Nnd3+84ZRftP6F4D9+TmT965lEHj728P5cCzcBj5Wa/zcx3ltsP+fcnM7/YZf2DFLPhbihfD/n3B/gqcDkwD2il+D7383L7IfX+aP8M5u/MvTVYv1v3xlD//j2Uv8NFxK+ACUAb8L7MvH4w/+2r+d10yCQ5JUmSJEmSJA1OQ727uiRJkiRJkqQaZ5JTkiRJkiRJUk0zySlJkiRJkiSpppnklCRJkiRJklTTTHJKkiRJkiRJqmkmOaV+EBF/EBEZEcdUOxZJkvpDRHw4IpZExOKIWBQRz9nP/d8SEVN7sd2NETG/fP7DiBjbw7YfiYhVZTz3RMTnIqKuXPfliHigXHdbRJy2P/FKknQgIqK9rHuWRMQdEfG+LnXT/Ij4zAEcc2xE/FkvtpsVEXf19lwR8WBE3FnGe2dEnNvNddwVEd+KiBH7G7d0sExySv3jDcBNwPnVDkSSpEorE4SvAk7JzBOBs4BH9vMwbwH2meTsKjNfkZmb97HZpzJzHjAXOAF4YZd1HyjXfRD47/05tyRJB2hHZs7LzOOAlwKvAP4OIDMXZuZfHMAxxwL7THJ2tR/nenFZV/4R0DUp2nkdxwOtwDv35/xSXzDJKVVYRIwCTgfeRpnkjIi6iPhsebfu2rLlyR+V654VEb+IiFsj4icRMaWK4UuSdCCmABsycxdAZm4Ajo2I73ZuEBEvjYjvRER92YryrrJVyHvLOnE+8LWyVcjwiDgzIm4vt7k8Ipr3PGnZwmRi+fzNZSvSOyLiq93E2AQMAzZ1s+6XwFEH/S5IkrQfMnMdcCHwrii8KCKuBYiIUyPiN2Vd+JuIOLosPy4ibinry8URMRv4OHBkWfbP5bH+uUtd+/o9z73HuUZFxJfKbRdHxB92E+5ouq9DAX6F9aiqoKHaAUhDwHnAjzPz3ojYGBGnAEcAsyhakEwC7gYuj4hG4N+BczNzfVn5LAD+pCqRS5J0YH4K/G1E3Av8DPgm8HPgPyOiJTPXA28FvgTMA6aVLT+IiLGZuTki3gX8ZWYujIhhwJeBM8v69CvARcCnuzt5RBwHfBg4PTM3RMT4LqvfGxFvBGYCP8rMRd0c4tXAnQf1DkiSdAAy8/6yu/qkPVbdA7wgM3dHxFnAPwB/SNFi8t8y82sR0QTUU/RIOL5scUmZpJwHnARMBH4fEb/sIYy/AR7PzBPK/cd1WXdDRATFb9o/3nPHiGgAXg78eL8uXOoDtuSUKu8NwJXl8yvL12cA38rMjsx8FLihXH80cDxwXUQsAv4amN6/4UqSdHAycyvwLIrWKOspkpwXAF8F3hjFuJmnAT8C7geOiIh/j4hzgCe6OeTRwAOZeW/5+grgBT2E8BLg22ULUjJzY5d1nd3VJwEjI6LrUDL/XNa/F1L0wJAkqRqim7IxwLfKMTQ/BRxXlt8MfCgiLgFmZuaObvY9A/hGZrZn5lrgF8Czezj/WcB/dr7IzK4tNl9c3pg8AfiPsuciwPCyDl0IPAx8cR/XKPU5W3JKFRQREyh+aB0fEUlxVy2B7+5tF2BJZjrZgSSppmVmO3AjcGNE3EmR5HwH8H1gJ8XNvt3Apog4CTgbuJiiVciePRi6+7HXk6Cob3uKry0ifkyRLO28GfmBzPz2fp5LkqQ+ExFHAO3AOuDYLqv+H3BDZv5BRMyiqGPJzK9HxO+AVwI/iYg/pbiB+LTD7m8Y7LsevS8i1lKMcX0L5Zic+3keqU/ZklOqrD8CvpKZMzNzVmbOAB4ANgB/WI7NORl4Ubn9MqClnLCBiGgsu9xJklQzIuLockywTvOAhzJzNbCaoqfCl8ttJwJ1mfm/FN3jTin32QIcUj6/B5gVEZ3je72JohXK3lwP/HF5s5E9uqt3xhjA84D79vf6JEmqhIhoAf4L+I/M3DPJOAZYVT5/S5d9jgDuz8zPANcAJ/L0OhSKsaZfX46D3UJxg++WHkL5KfCuLucYt+cGETEJOBx4qFcXJ/UDW3JKlfUGikGfu/pfijtyK4G7gHuB31GMedJaTrbwmYgYQ/H/6KeBJf0WsSRJB28U8O9lt/TdwAqKLuAAXwNaMnNp+Xoa8KVy/DGAS8vll4H/iogdFF3b30rRTa8B+D3Fj8BuZeaSiFgA/CIi2oHbeeoHYeeYnI3AYuCzB3epkiQdlM5u3o0UdeZXgU92s90ngCsi4n0U41x3ej3FUDBtwKPAxzJzY0T8uuza/iPgryjq0jsoWmj+VWY+WrYI7c7fU4yjfRdFq9KPAt8p191Q1q2NwAfL7u/SgBDPvDkgqT9ExKjM3Fq2MrmFYnKER6sdlyRJlRQR/wHcnpmO1SVJkqQ+Y0tOqXquLVu4NAH/zwSnJGmwi4hbgW3A+6sdiyRJkgYXW3JKkiRJkiRJqmlOPCRJkiRJkiSpppnklCRJkiRJklTTTHJKkiRJkiRJqmkmOSVJkiRJkiTVNJOckiRJkiRJkmqaSU5JkiRJkiRJNc0kpyRJkiRJkqSaZpJTkiRJkiRJUk0zySlJkiRJkiSpppnklCRJkiRJklTTTHJKkiRJkiRJqmkmOSVJkiRJkiTVNJOckiRJkiRJkmqaSU5JkiRJkiRJNc0kpyRJkiRJkqSaZpJTkiRJkiRJUk0zySlJkiRJkiSpppnklCRJkiRJklTTTHJKkiRJkiRJqmkmOSVJkiRJkiTVNJOckiRJkiRJkmqaSU5JkiRJkiRJNc0kpyRJkiRJkqSaZpJTkiRJkiRJUk0zySlJkiRJkiSpppnklCRJkiRJklTTTHJKkiRJkiRJqmkmOSVJkiRJkiTVNJOckiRJkiRJkmqaSU5JkiRJkiRJNc0kpyRJkiRJkqSaZpJTkiRJkiRJUk0zySlJkiRJkiSpppnklCRJkiRJklTTTHJKkiRJkiRJqmkmOSVJkiRJkiTVNJOckiRJkiRJkmqaSU5JkiRJkiRJNc0kpyRJkiRJkqSaZpJTkiRJkiRJUk0zySlJkiRJkiSpppnklCRJkiRJklTTTHJKkiRJkiRJqmkmOSVJkiRJkiTVNJOckiRJkiRJkmqaSU5JkiRJkiRJNc0kpyRJkiRJkqSaZpJTkiRJkiRJUk0zySlJkiRJkiSpppnklCRJkiRJklTTTHJKkiRJkiRJqmkmOSVJkiRJkiTVNJOckiRJkiRJkmqaSU5JkiRJkiRJNc0kpyRJkiRJkqSaZpJTkiRJkiRJUk0zySlJkiRJkiSpppnklCRJkiRJklTTTHJq0IqI/4qIv+mjYx0WEVsjor58fWNE/GlfHLs83o8i4oK+Ot5+nPfvI2JDRDza3+eWJB0Y67denbff6reI+EhE/E+lzyNJOjjWn706r78PVdNMcqomRcSDEbEjIrZExOaI+E1EvDMinvxMZ+Y7M/P/9fJYZ/W0TWY+nJmjMrO9D2J/xo+hzHx5Zl5xsMfezzhmAO8H5mbmod2sf1FEdJSV99aIWBURH91jmw9FxAPl+pUR8c3+il+SBiPrt4PXF/VbBWI6rMv5tkZERsS2Lq+fX8nzS9JgZ/158HpZf67sprxPE7x7HPstEXHTHmVfjojWsv7cGBHXRcQxvTzerLIObqhEvKo+k5yqZa/OzEOAmcDHgUuAL/b1SQbxP4Azgccyc10P26wuK+9RwBnA2yLiPIDyzuKbgLPK9fOB6yscsyQNBdZvB+eg6rdK6PJjuPOcACd1KftVpc4tSUOI9efB6U392W/28T5/oqxPpwGrqMDfWbXJJKdqXmY+npnXAK8HLoiI4+HJOzx/Xz6fGBHXlnf1NkbEryKiLiK+ChwGfL+8E/RXXe7uvC0iHgZ+vpc7PkdGxC0R8XhEXB0R48tzPeMOV+fdwIg4B/gQ8PryfHeU65+8+1XG9dcR8VBErIuIr0TEmHJdZxwXRMTDUXQl+PDe3puIGFPuv7483l+Xxz8LuA6YWsbx5V68zw8AvwHmlkXPBn6SmfeV6x/NzMv2dRxJUu9Yv1WtfiMinhcRvy/fg99HxPO6rDs8In4RRWuh64CJXdb9ICL+fI9YF0cPCdSIaI6Ifymve20U3SmHl+teFEVPib8q37M1EXFeRLwiIu4t/+Yf6nKsj0TEtyPim2V8t0XESft6DyRpMLH+7J/6s4dzvCoiFsVTLWpP7LLugxFxX1lHLY2IP+iy7i0R8euI+FREbAS+CfwXcFoZ0+Y9z5WZO4CrgHldjvPKiLg9Ip6IiEci4iNddvlludxcHvO0cp8/iYi7I2JTRPwkImYe6PWrukxyatDIzFuAlUB3Xb7eX65rASZTVCSZmW8CHqa46zcqMz/RZZ8XAscCZ+/llG8G/gSYCuwGPtOLGH8M/APwzfJ83f3weEv5eDFwBDAK+I89tjkDOBo4E/jbiDh2L6f8d2BMeZwXljG/NTN/Brycp1qyvGVfsUfEbOB04Ldl0W+BN0fEByJifpTj0UiS+pb1W7cqVr+VP0p/QHHdE4BPAj+IiAnlLl8HbqVIbv4/oOuYaVcAb+xy7JMoWpn8sIcQ/gmYQ/ED7ahy+7/tsv5QYFiX8s+X53gWxWfibyPiiC7bnwt8Cxhfxvq9iGjc1/sgSYON9We3+qz+7E5EnAJcDryDog79b+CaiGguN7mP4u8xBvgo8D8RMaXLIZ4D3A9Moqjr3gncXMY0tpvzjQTeAKzoUrytvK6xwCuBi7rcbHxBuRxbHvPmct2HgNdSfB5+BXzjQK5f1WeSU4PNaoov9XtqA6YAMzOzLTN/lZm5j2N9JDO3lXeHuvPVzLwrM7cBfwP8cR8l+v4v8MnMvD8ztwKXAufvcZfwo5m5IzPvAO4AnlEZlrG8Hrg0M7dk5oPAv1J0Me+tqeUduCeAe4HfATcBZOb/AH9OUcn/AlgXER/cz2uVJPWO9Vup0vUbxQ+i5Zn51czcnZnfAO4BXh0Rh1H0ZPibzNyVmb8Evt/luFcDs8vEKWVM38zM1u6CiIgA3g68NzM3ZuYWih+753fZrA1YkJltwJUUydV/K699CbAEOLHL9rdm5rfL7T9JkSB97n68N5I0mFh/lvq4/nzyQZFg7fR24L8z83eZ2Z7FuKK7KOuhzPxWZq7OzI7M/CawHDi1y/6rM/Pfy/p3b+8zwF+W595Snv/Ja8jMGzPzzvIciykSli/s4VjvAP4xM+/OzN0U9fA8W3PWJpOcGmymARu7Kf9nirs7P42I+3uZjHtkP9Y/BDTSpcvaQZhaHq/rsRso7jB26jrb3XaKu3l7mgg0dXOsafsRy+rMHJuZoynuhO2gaKUCQGZ+LTPPKte9E/hYROztzqYk6cBZvz2l0vXbnnF2Pf5UYFP5A7brOgAycxdFt7k3RjHZxRuAr/YQRwswAri1y4/FH5flnR7Lpya26PzBt7bL+h08/X168u+XmR0ULZWm9hCDJA1m1p9P6cv688kHT90khGJcz/fvkQSdUV4DEfHmLl3ZNwPH8/T3aF/vcad/Kc89i6IePLpzRUQ8JyJuKLvkP07xO7Wnv8NM4N+6xLQRCPbvfdEAYZJTg0ZEPJviH6Kb9lxX3ql6f2YeAbwaeF9EnNm5ei+H3NedvBldnh9GcTdwA0Xz+BFd4qrn6T9W9nXc1RT/0HY99m6e/oOmNzaUMe15rFX7eRygGNuGotvbq7tZ15aZ3wIWU1RUkqQ+Yv32DJWu3/aMs+vx1wDjyu5xXdd1dQVFq5szge2ZeXMPp99A8ePsuC4/GMfkU5MTHYgn/35lonU6xTVJ0pBi/fkMfVp/7sUjFL0PuiZCR2TmN8qWkZ8H3gVMKJOUd1EkFDvt+V70+N5k5sPAuymSlMPL4q8D1wAzMnMMxbienefo7niPAO/YI+bhmfmbXl+1BgyTnKp5ETE6Il5F0YXrfzLzzm62eVVEHFV2C3sCaC8fUFQOR+y5Ty+8MSLmRsQI4GPAt8uWFvcCw8oBjxuBvwaau+y3FphV/vDozjeA90YxscEonhqjZff+BFfGchWwICIOKSuV9wH/sz/H6VTGcj5Ft7jOgaFfWR67LiJeDhxH0eVPknSQrN+6V+n6jWL8zDkR8X8ioiEiXk8xKdG1mfkQsBD4aEQ0RcQZ7HHzr0xqdlB0AeypFWdnS8vPA5+KiEllPNMOslfEsyLitWU3xvdQdBP8bc+7SNLgYf3Zvb6uP/fi88A7y9aUEREjO38zAiMpkozrASLirey7gcxaYHpENO1tg8y8jiIRfGFZdAiwMTN3RsSpwP/psvl6ijq669/3v4BLI+K4Mq4xEfG6Xl6vBhiTnKpl34+ILRR3Xj5MMe7UW/ey7WzgZ8BW4Gbgs5l5Y7nuH4G/Lpun/+V+nP+rwJcpugYMA/4CnmwR8mfAFyjuim2j6CrW6Vvl8rGIuK2b415eHvuXwAPAToqxLw/En5fnv5/iDubXy+P3VufselspujKMp2idAsWXgQ9RDMy9GfgEcFFmPuNOqSRpv1i/7VvF6rfMfAx4FcWkFI8BfwW8KjM3lPv+H4qJETYCfwd8pZvjfwU4gd79cLyEosvkb6MYI/RndOl2dwCuphhzbRPFGGWvLcfnlKTBzvpz3w62/uxRZi6kGJfzPyjqoRUUkyaRmUspbgDeTJG8PAH49T4O+XOKm5CPRsSGHrb7Z+Cvopjg6M8ohlHbQjFh31Vd4tsOLAB+Xf59n5uZ36WYBPDKsh6+i2ISJtWg2PfYupIkSZJ6KyLeDFyYmWfsc+O+Pe9HgKMy84372laSJGmwsSWnJEmS1EfKbop/BlxW7VgkSZKGEpOckiRJUh8ox9JcT9EN7+tVDkeSJGlIsbu6JEmSJEmSpJpmS05JkiRJkiRJNa2h2gEcjIkTJ+asWbOqHYYkCbj11ls3ZGZLtePQvll/StLAYN1ZO6w7JWng2Fv9WdNJzlmzZrFw4cJqhyFJAiLioWrHUCsiYhjwS6CZoi7+dmb+XTkz8tspxvQD+FBm/rDc51LgbUA78BeZ+ZOy/FnAl4HhwA+Bd+c+xqKx/pSkgcG6s3ZYd0rSwLG3+rOmk5ySJNWoXcBLMnNrRDQCN0XEj8p1n8rMf+m6cUTMBc4HjgOmAj+LiDmZ2Q58DrgQ+C1FkvMc4EdIkiRJ0hDimJySJPWzLGwtXzaWj55aX54LXJmZuzLzAWAFcGpETAFGZ+bNZevNrwDnVTB0SZIkSRqQTHJKklQFEVEfEYuAdcB1mfm7ctW7ImJxRFweEePKsmnAI112X1mWTSuf71kuSZIkSUOKSU5JkqogM9szcx4wnaJV5vEUXc+PBOYBa4B/LTeP7g7RQ/kzRMSFEbEwIhauX7++u00kSZIkqWaZ5JQkqYoyczNwI3BOZq4tk58dwOeBU8vNVgIzuuw2HVhdlk/vpry781yWmfMzc35LixP5SpIkSRpcTHJKktTPIqIlIsaWz4cDZwH3lGNsdvoD4K7y+TXA+RHRHBGHA7OBWzJzDbAlIp4bEQG8Gbi6v65DkiRJkgYKZ1eXJKn/TQGuiIh6ihuOV2XmtRHx1YiYR9Hl/EHgHQCZuSQirgKWAruBi8uZ1QEuAr4MDKeYVd2Z1SVJkiQNOSY5JUnqZ5m5GDi5m/I39bDPAmBBN+ULgeP7NEBJkiRJqjF2V5ckSZIkSZJU00xySpIkSZIkSappFU1yRsSDEXFnRCyKiIVl2fiIuC4ilpfLcV22vzQiVkTEsog4u5KxSZIkSZIkSRoc+qMl54szc15mzi9ffxC4PjNnA9eXr4mIucD5wHHAOcBnywkZJEmSJEmSJGmvqtFd/VzgivL5FcB5XcqvzMxdmfkAsAI4tf/DkyRJkiRJklRLKp3kTOCnEXFrRFxYlk3OzDUA5XJSWT4NeKTLvivLsqeJiAsjYmFELFy/fn0FQ5ckSZIkSZJUCxoqfPzTM3N1REwCrouIe3rYNropy2cUZF4GXAYwf/78Z6zfH62trSxevPhpZSeeeCJNTU0Hc1hJkiRJkiRJ/aiiSc7MXF0u10XEdym6n6+NiCmZuSYipgDrys1XAjO67D4dWF3J+BYvXsyCBUtpaZkLwPr1S/nwh2H+/Pn72FOSpKFr5qyZPPzQwxU9x2EzD+OhBx+q6DkkSZL60wnHH8Oq1T2nOaZNncqdd/XUPkzS3lQsyRkRI4G6zNxSPn8Z8DHgGuAC4OPl8upyl2uAr0fEJ4GpwGzglkrF16mlZS5Tp5rUlCSptx5+6GFu3n5zRc9x2ojTKnp8SZKk/rZq9Wo2Lntfj9uMP/qT/RSNNPhUsiXnZOC7EdF5nq9n5o8j4vfAVRHxNuBh4HUAmbkkIq4ClgK7gYszs72C8UmSJEmSJEkaBCqW5MzM+4GTuil/DDhzL/ssABZUKiZJkiRJkiRJg0+lZ1eXJEmSJEmSpIoyySlJkiRJkiSpppnklCRJkiRJklTTTHJKkiRJkmpaRLw3IpZExF0R8Y2IGBYR4yPiuohYXi7Hddn+0ohYERHLIuLsasYuSeoblZxdXZIkSZKkioqIacBfAHMzc0dEXAWcD8wFrs/Mj0fEB4EPApdExNxy/XHAVOBnETEnM9urdAnSk3Zs38r48aP3ud20qVO58657+iEiqXaY5JQkSZIk1boGYHhEtAEjgNXApcCLyvVXADcClwDnAldm5i7ggYhYAZwK3NzPMUvP0N6ebFz2vn1uN/7oT/ZDNFJtsbu6JEmSJKlmZeYq4F+Ah4E1wOOZ+VNgcmauKbdZA0wqd5kGPNLlECvLsqeJiAsjYmFELFy/fn0lL0GS1AdMckqSJEmSalY51ua5wOEU3c9HRsQbe9qlm7J8RkHmZZk5PzPnt7S09E2wkqSKMckpSZIkSaplZwEPZOb6zGwDvgM8D1gbEVMAyuW6cvuVwIwu+0+n6N4uSaphJjklSZIkSbXsYeC5ETEiIgI4E7gbuAa4oNzmAuDq8vk1wPkR0RwRhwOzgVv6OWZJUh9z4iFJkiRJUs3KzN9FxLeB24DdwO3AZcAo4KqIeBtFIvR15fZLyhnYl5bbX+zM6pJU+0xySpIkSZJqWmb+HfB3exTvomjV2d32C4AFlY5LktR/7K4uSZIkSZIkqaaZ5JQkSZIkSZJU00xySpIkSZIkSappJjklSZIkSZIk1TSTnJIkSZIkSZJqmklOSZIkSZIkSTXNJKckSZIkSZKkmmaSU5IkSZIkSVJNM8kpSZIkSZIkqaaZ5JQkSZIkSZJU00xySpIkSZIkSappJjklSZIkSZIk1TSTnJIkSZIkSZJqmklOSZIkSZIkSTXNJKckSZIkSZKkmmaSU5IkSZIkSVJNM8kpSZIkSZIkqaaZ5JQkSZIkSZJU00xySpLUzyJiWETcEhF3RMSSiPhoWT4+Iq6LiOXlclyXfS6NiBURsSwizu5S/qyIuLNc95mIiGpckyRJkiRVk0lOSZL63y7gJZl5EjAPOCcingt8ELg+M2cD15eviYi5wPnAccA5wGcjor481ueAC4HZ5eOcfrwOSZIkSRoQTHJKktTPsrC1fNlYPhI4F7iiLL8COK98fi5wZWbuyswHgBXAqRExBRidmTdnZgJf6bKPJEmSJA0ZJjklSaqCiKiPiEXAOuC6zPwdMDkz1wCUy0nl5tOAR7rsvrIsm1Y+37NckiRJkoYUk5ySJFVBZrZn5jxgOkWrzON72Ly7cTazh/JnHiDiwohYGBEL169fv9/xSpIkSdJAZpJTkqQqyszNwI0UY2muLbugUy7XlZutBGZ02W06sLosn95NeXfnuSwz52fm/JaWlr68BEmSJEmqOpOckiT1s4hoiYix5fPhwFnAPcA1wAXlZhcAV5fPrwHOj4jmiDicYoKhW8ou7Vsi4rnlrOpv7rKPJEmSJA0ZDdUOQJKkIWgKcEU5Q3odcFVmXhsRNwNXRcTbgIeB1wFk5pKIuApYCuwGLs7M9vJYFwFfBoYDPyofkiRJkjSkmOSUJKmfZeZi4ORuyh8DztzLPguABd2ULwR6Gs9TkiRJkgY9u6tLkiRJkiRJqmkmOSVJkiRJkiTVNJOckiRJkiRJkmqaSU5JkiRJkiRJNc0kpyRJkiRJkqSaZpJTkiRJklSzIuLoiFjU5fFERLwnIsZHxHURsbxcjuuyz6URsSIilkXE2dWMX5LUN0xySpIkSZJqVmYuy8x5mTkPeBawHfgu8EHg+sycDVxfviYi5gLnA8cB5wCfjYj6asQuSeo7JjklSZIkSYPFmcB9mfkQcC5wRVl+BXBe+fxc4MrM3JWZDwArgFP7O1BJUt8yySlJkiRJGizOB75RPp+cmWsAyuWksnwa8EiXfVaWZU8TERdGxMKIWLh+/foKhixJ6gsmOSVJkiRJNS8imoDXAN/a16bdlOUzCjIvy8z5mTm/paWlL0KUJFWQSU5JkiRJ0mDwcuC2zFxbvl4bEVMAyuW6snwlMKPLftOB1f0WpSSpIkxySpIkSZIGgzfwVFd1gGuAC8rnFwBXdyk/PyKaI+JwYDZwS79FKUmqiIZqByBJkiRJ0sGIiBHAS4F3dCn+OHBVRLwNeBh4HUBmLomIq4ClwG7g4sxs7+eQJUl9zCSnJEmSJKmmZeZ2YMIeZY9RzLbe3fYLgAX9EJokqZ/YXV2SJEmSJElSTTPJKUmSJEmSJKmmmeSUJEmSJEmSVNNMckqSJEmSJEmqaSY5JUmSJEmSJNU0k5ySJEmSJEmSalrFk5wRUR8Rt0fEteXr8RFxXUQsL5fjumx7aUSsiIhlEXF2pWOTJEmSJEmSVPv6oyXnu4G7u7z+IHB9Zs4Gri9fExFzgfOB44BzgM9GRH0/xCdJkiRJkiSphlU0yRkR04FXAl/oUnwucEX5/ArgvC7lV2bmrsx8AFgBnFrJ+CRJkiRJkiTVvkq35Pw08FdAR5eyyZm5BqBcTirLpwGPdNluZVn2NBFxYUQsjIiF69evr0jQkiRJkiRJkmpHxZKcEfEqYF1m3trbXbopy2cUZF6WmfMzc35LS8tBxShJkiRJkiSp9jVU8NinA6+JiFcAw4DREfE/wNqImJKZayJiCrCu3H4lMKPL/tOB1RWMT5IkSZIkSdIgULGWnJl5aWZOz8xZFBMK/Twz3whcA1xQbnYBcHX5/Brg/IhojojDgdnALZWKT5IkSZIkSdLgUMmWnHvzceCqiHgb8DDwOoDMXBIRVwFLgd3AxZnZXoX4JEmSJEmSJNWQfklyZuaNwI3l88eAM/ey3QJgQX/EJEmSJEmSJGlwqPTs6pIkSZIkSZJUUSY5JUmSJEmSJNU0k5ySJEmSJEmSappJTkmSJEmSJEk1zSSnJEmSJEmSpJpmklOSJEmSJElSTTPJKUmSJEmSJKmmmeSUJEmSJEmSVNMaqh1ALWttbWXx4sVPKzvxxBNpamqqUkSSJEmSJEnS0GOS8yAsXryYBQuW0tIyF4D165fy4Q/D/PnzqxyZJEmSJEmSNHSY5DxILS1zmTrVpKYkSZIkSZJULY7JKUmSJEmSJKmmmeSUJKmfRcSMiLghIu6OiCUR8e6y/CMRsSoiFpWPV3TZ59KIWBERyyLi7C7lz4qIO8t1n4mIqMY1SZIkSVI12V1dkqT+txt4f2beFhGHALdGxHXluk9l5r903Tgi5gLnA8cBU4GfRcSczGwHPgdcCPwW+CFwDvCjfroOSZIkSRoQbMkpSVI/y8w1mXlb+XwLcDcwrYddzgWuzMxdmfkAsAI4NSKmAKMz8+bMTOArwHmVjV6SJEmSBh6TnJIkVVFEzAJOBn5XFr0rIhZHxOURMa4smwY80mW3lWXZtPL5nuWSJEmSNKSY5JQkqUoiYhTwv8B7MvMJiq7nRwLzgDXAv3Zu2s3u2UN5d+e6MCIWRsTC9evXH2zokiRJkjSgmOSUJKkKIqKRIsH5tcz8DkBmrs3M9szsAD4PnFpuvhKY0WX36cDqsnx6N+XPkJmXZeb8zJzf0tLStxcjSVKVRcTYiPh2RNxTTux3WkSMj4jrImJ5uRzXZftuJ/STJNUuk5ySJPWzcgb0LwJ3Z+Ynu5RP6bLZHwB3lc+vAc6PiOaIOByYDdySmWuALRHx3PKYbwau7peLkCRpYPk34MeZeQxwEsV41x8Ers/M2cD15es9J/Q7B/hsRNRXJWpJUp9xdnVJkvrf6cCbgDsjYlFZ9iHgDRExj6LL+YPAOwAyc0lEXAUspZiZ/eJyZnWAi4AvA8MpZlV3ZnVJ0pASEaOBFwBvAcjMVqA1Is4FXlRudgVwI3AJXSb0Ax6IiBUUvSdu7tfAJUl9yiSnJEn9LDNvovvxNH/Ywz4LgAXdlC8Eju+76CRJqjlHAOuBL0XEScCtwLuByWWvBzJzTURMKrefBvy2y/7dTtwXERcCFwIcdthhlYtektQn7K4uSZIkSaplDcApwOcy82RgG2XX9L3o1cR9jmctSbXFJKckSZIkqZatBFZm5u/K19+mSHqu7Rzvulyu67J9dxP6SZJqmElOSZIkSVLNysxHgUci4uiy6EyKcayvAS4oyy7gqcn5up3Qrx9DliRVgGNySpIkSZJq3Z8DX4uIJuB+4K0UjXquioi3AQ8Dr4N9TugnSapRJjklSZIkSTUtMxcB87tZdeZetu92Qj9JUu2yu7okSZIkSZKkmmaSU5IkSZIkSVJNM8kpSZIkSZIkqaaZ5JQkSZIkSZJU00xySpIkSZIkSappJjklSZIkSZIk1TSTnJIkSZIkSZJqmklOSZIkSZIkSTXNJKckSZIkSZKkmmaSU5IkSZIkSVJNM8kpSZIkSZIkqaaZ5JQkSZIkSZJU00xySpIkSZIkSappJjklSZIkSZIk1TSTnJIkSZIkSZJqmklOSZLUa5vaN9F8SHO1w5AkSZKkpzHJKUmSeu2n237KgnsXsKx1GbtyV7XDkSRJkiTAJKckSdoPZ4w4g19+/pc80fEED7c9XO1wJEmSJAkwySlJkvbDtIZpXPO31zClfgobOzayrWNbtUOSJEmSJBqqHcBA1trayuLFi59WduKJJ9LU1FSliCRJGhgObTiUte1reWT3IxzTdEy1w5EkSZI0xJnk7MHixYtZsGApLS1zAVi/fikf/jDMnz+/ypFJklRdDdHAoQ2HsnL3SnblLprDyYgkSZIkVY9Jzn1oaZnL1KkmNSVJ2tO4unGsZCWPtz/OpIZJ1Q5HkiRJ0hDmmJySJOmADI/hNNHEpo5N1Q5FkiRJ0hBnS8790N7extKly598vXTpUtrbj65iRJIkVU9EMLZ+LBvaN9CRHdSF904lSZIkVYdJzv2wceNyLr98E3PmFK/vvfcBxo1rYcaM6sYlSVK1jKsbx7r2dTzR8QRj68dWOxxJkiRJQ5RJzv00btycJ8foXL9+aZWjkSSpukbXjaaOOh7veNwkpyRJkqSqsV+ZJEk6YHVRx8gYyZaOLdUORZIkSdIQZpJTkiQdlFF1o9ie2+nIjmqHIkmSJGmIMskpSZIOysi6kSTJjtxR7VAkSZIkDVEmOSVJ0kEZGSMB2NqxtcqRSJIkSRqqTHJKkqSD0hzNNNDAttxW7VAkSZIkDVEmOSVJ0kGJCEbWjbQlpyRJkqSqaah2AINJe3sbS5cuf1rZiSeeSFNTU5UikiSpf4yKUazqWEV7tlMf9dUOR5I0xETEg8AWoB3YnZnzI2I88E1gFvAg8MeZuanc/lLgbeX2f5GZP6lC2JKkPlSxlpwRMSwibomIOyJiSUR8tCwfHxHXRcTycjmuyz6XRsSKiFgWEWdXKrZK2bhxOZdfvonLLoPLLoMFC5ayePHiaoclSVLFjawrxuXcnturHIkkaQh7cWbOy8z55esPAtdn5mzg+vI1ETEXOB84DjgH+GyEd+gkqdZVsrv6LuAlmXkSMA84JyKeyyCvaMaNm8PUqfOZOnU+LS1zqx2OJEn9YkTdCAB2dDjDuiRpwDgXuKJ8fgVwXpfyKzNzV2Y+AKwATu3/8CRJfaliSc4sdA7O1Vg+EisaSZIGnSaaqKOOHWmSU5JUFQn8NCJujYgLy7LJmbkGoFxOKsunAY902XdlWfY0EXFhRCyMiIXr16+vYOiSpL5Q0YmHIqI+IhYB64DrMvN3WNFIkoa4iJgRETdExN3lkC7vLsv3e0iXiHhWRNxZrvtMRESVronhMdzu6pKkajk9M08BXg5cHBEv6GHb7urKfEZB5mWZOT8z57e0tPRVnJKkCqlokjMz2zNzHjAdODUiju9hcysaSdJQsRt4f2YeCzyX4sfYXA5sSJfPARcCs8vHOf15IV0Nj+F2V5ckVUVmri6X64DvUvQKXBsRUwDK5bpy85XAjC67TwdW91+0kqRKqGiSs1NmbgZupPjhZUUjSRrSMnNNZt5WPt8C3E3Re2G/hnQp69HRmXlzZibwlS779LvhdcNpo43dubtaIUiShqCIGBkRh3Q+B14G3AVcA1xQbnYBcHX5/Brg/IhojojDKW4S3tK/UUuS+lpDpQ4cES1AW2ZujojhwFnAP/FURfNxnlnRfD0iPglMpQoVTXt7G0uXLn/y9dKlS2lvP7o/Q5AkDTERMQs4GXjGkC4R0XVIl9922a1zSJe28vme5VUxPIYDsCN3cEjxW1OSpP4wGfhuOWJLA/D1zPxxRPweuCoi3gY8DLwOIDOXRMRVwFKK3hUXZ2Z7dUKXJPWViiU5gSnAFWV3ujrgqsy8NiJuZoBWNBs3LufyyzcxZ07x+t57H2DcuBZmzOh5P0mSDkREjAL+F3hPZj7Rw3CaexvSpVdDvZTnupCiWzuHHXbY/gfbC08mOTt2cEidSU5JUv/IzPuBk7opfww4cy/7LAAWVDg0SVI/qliSMzMXU7RM2bN8QFc048bNYerU+QCsX7+0mqFIkgaxiGikSHB+LTO/UxavjYgpZSvO3gzpsrJ8vmf5M2TmZcBlAPPnz+82EXqwmqPZGdYlSZIkVUW/jMkpSZKeUs6A/kXg7sz8ZJdV+zV2WNm1fUtEPLc85pu77NPvIoJhMcwkpyRJkqR+V8nu6pIkqXunA28C7oyIRWXZhyjGq97fIV0uAr4MDAd+VD6qZngMZ0vHlmqGIEmSJGkIMskpSVI/y8yb6H48TdjPIV0ycyFwfN9Fd3CG1Q3jsY7H6MgO6sIOI5IkSZL6h78+JElSnxkWwwDYmTurHIkkSZKkocQkpyRJ6jOdSc5duavKkUiSJEkaSkxySpKkPmNLTkmSJEnVYJJTkiT1mYZooIEGk5ySJEmS+pUTD1VQe3sbS5cuf1rZiSeeSFNTU5UikiSp8pqj2SSnJElST9qfAHZD/fhqRyINGr1qyRkRp/emTE+3ceNyLr98E5ddBpddBgsWLGXx4sXVDkuS1IesI59pWAxzTE5J0gGxXtWQ0LEFHv88bP532Pxf0L6h2hFJg0Jvu6v/ey/LtIdx4+Ywdep8pk6dT0vL3GqHI0nqe9aRe+hMcnZkR7VDkSTVHutVDW7ZDlu+DbkLhr8YOh6HbddVOyppUOixu3pEnAY8D2iJiPd1WTUaqK9kYJIkDWTWkXvXXNcM7cUM68NjeLXDkSTVAOtVDRm7boXdD8Oo10LzCUDAjp9D20ponF7t6KSatq+WnE3AKIpk6CFdHk8Af1TZ0CRJGtCsI/fCGdYlSQfAelVDw67FUH9omeAEhj8HYgTsuLGqYUmDQY8tOTPzF8AvIuLLmflQP8UkSdKAZx25dyY5JUn7y3pVQ8Hh0zpg9yoYcdZThdEEw54DO24oJyOSdKB6O7t6c0RcBszquk9mvqQSQdWCXbvgvvuOob5+OIcfDqNHVzsiSVKVWEfuoYEG6qhz8iFJ0oGwXtWg9UcvayueNJ3w9BVNRxdJzrYV/R+UNIj0Nsn5LeC/gC8A7ZULpzYsWwZXXw07dpwKwB13wGtfW+WgJEnVYh25h4igOZpNckqSDoT1qganzCLJ2TAL6vdoJVU/CeoOMckpHaTeJjl3Z+bnKhpJjdiyZSQ/+AFMmADPfvYPaWg4hPvuez7f+Q6ceup0pkzxB50kDTHWkd0wySlJOkDWqxqc2u5n9syE5rnPXBcBjUdB61IaepulkfQM+5p4qNP3I+LPImJKRIzvfFQ0sgGovb2O3//+ZBob4Q1vgPHjNzB69Fbe8AaYMgVuvfUMdu1qqnaYkqT+ZR3Zjc4kZ2ZWOxRJUm2xXtXgtP1XxbJhZvfrG2dD7uK5J/VfSNJg09t7BBeUyw90KUvgiL4NZ2B76KHZPPHEIfyf//P0MTibm+G88+Bzn2vgnnuO4tRTqxaiJKn/WUd2ozma6aCD3eymkcZqhyNJqh3WqxqcdvyKjY/D+PEt3a9vPAKo45wzOvo1LGkw6VWSMzMPr3QgA117Oyxffhzjx2/iqKPGPWN9SwvMmnUvDz44h/Xri9eSpMHPOrJ7zdEMQGu20hgmOSVJvWO9qkFr+6/47eIGXnFEdL++rhkapnDqiav6Ny5pEOlVkjMi3txdeWZ+pW/DGbiWLIEdO0Zx4om3EvGsbrc55pg7ePjho/jNb+o499x+DlCSVBXWkd3rTHLuyl2MZGSVo5Ek1QrrVQ1Kux+FtuX8dlEzrzivh+3qp3LK3FWQWYzTKWm/9La7+rO7PB8GnAncBgyZiubmm+GQQzZx6KHr9rpNc/MuZsxYzV13HcbLXtaPwUmSqmnI15Hd6ZrklCRpP1ivavDZfhMAN99R3/N2DVMYPQroeAzqJ1Y+LmmQ6W139T/v+joixgBfrUhEA9CGDfDoo3DCCcv3eTNl1qyHefDBw1i0CEaM6JfwJElVNNTryL1piAbqqTfJKUnaL9arGpR2/ApiOHcs28fczw1Ti+Xu1SY5pQPQ29nV97QdmN2XgQxkd91VLKdOfWif244du4Xp0+HWW4sW5pKkIWdI1ZE96ZxhXZKkg2C9qtq3cyEMexa72/fRaqq+he07KJKckvZbb8fk/D7FjHYA9cCxwFWVCmogySzG45w5E4YP3wGM2uc+p5wC11wDmzZNZPz4yscoSaqeoVxH7ktzNLMzd1Y7DElSDbFe1aCTHbDzDhj7J8AdPW8bdSy6B5737DX9Epo02PR2TM5/6fJ8N/BQZq6sQDwDzhNPHMKGDfCc5/R+n2OOgWuvhdWrZzJ+/MOVC06SNBAM2TpyX5qjmcc7HiczCQfPlyT1jvWqBpe2+yC3QfO8Xm1+6xJ43slriuRoHGjnW2lo6tX/MZn5C+Ae4BBgHNBayaAGktWrJxMBxx7b+32GD4cjjoDVqw+zy7okDXJDuY7cl+ZopoMOdrO72qFIkmqE9aoGnZ2LiuWweb3a/LYlAG3QvqFCAUmDV6+SnBHxx8AtwOuAPwZ+FxF/VMnABor16ycydSqMHLl/+82dC9u3H8Ljj4+uTGCSpAFhKNeR+9IUTYAzrEuSes96VYPOrkVAAzTN7dXmi+8tn7Svq1RE0qDV2+7qHwaenZnrACKiBfgZ8O1KBTYQtLY2snHjWJ7//P3f95hj4Pvf72DVqkP7PjBJ0kAyJOvI3miOZgBa00Y4kqRes17V4LLzDmg+BuqG9Wrzex8ECGhfX8mopEGptwM81HVWMqXH9mPfmrVhw6FAcOSR+7/v8OEwceJaHn10Up/HJUkaUIZkHdkbnS05TXJKkvaD9aoGl12Lej0eJ8CuVqBunN3VpQPQ25acP46InwDfKF+/HvhhZUIaONatm0pDw26mT+/t2/R0kyatYsmS+TzxBIy217okDVZDso7sjQYaqKPO7uqSpP1hvarBY/d62L1qv5KcANRPtCWndAB6zN5FxFHA5Mz8QES8FjgDCOBm4Gv9EF9VrVs3lYkTH6O+fvIB7T958mqWLIH77oOTT+7j4CRJVTXU68jeiAiaosmWnJKkfbJe1aC0a3GxHHbS/u1X3wJtK5xhXdpP+/q/5dPAFoDM/E5mvi8z30txJ+3TlQ2tujZvLiYOaml57ICPccghmxk2bCcrVvRdXJKkAePTDNE6cn80RZMtOSVJvfFpDrJejYj6iLg9Iq4tX4+PiOsiYnm5HNdl20sjYkVELIuIs/v8aiSA1mXFsunY/duvoQXogI6NfR6SNJjtK8k5KzMX71mYmQuBWRWJaIB45JFiOWHCgf+jEgGTJm3g/vuho6OPApMkDRRDto7cH83RbEtOSVJv9EW9+m7g7i6vPwhcn5mzgevL10TEXOB84DjgHOCzEVF/4KFLe9G6HGIENEzdv/3qJxbL3XZZl/bHvpKcPU3/NbwvAxloHn4YGhraGD1660EdZ9Kk9ezcCatW9VFgkqSBYsjWkfujiSbaaKMjvdsnSerRQdWrETEdeCXwhS7F5wJXlM+vAM7rUn5lZu7KzAeAFcCp+xuwtE+ty6HpqKIF1P7oTHI6+ZC0X/aV5Px9RLx9z8KIeBtwa2VCGhhWroRx49ZTV5cHdZxJk4ru7g8+2AdBSZIGkiFbR+6PzhnW27KtypFIkga4g61XPw38FdD1rtrkzFwDUC4nleXTgEe6bLeyLNvz3BdGxMKIWLh+vS3qdADalkPT7P3fL5qhbrSTD0n7aV/Thr8H+G5E/F+eqljmA03AH1QwrqratQvWroU5cw7+H5SmpjYmTYKHHoIjj+yD4CRJA8V7GIJ15P5qjmYAdrGLZpqrHI0kaQB7DwdYr0bEq4B1mXlrRLyoF+fqrlndM1q3ZOZlwGUA8+fPP7jWLxp6cje03g+jXntg+9e3mOSU9lOPSc7MXAs8LyJeDBxfFv8gM39e8ciqaNUqyIQJE9b1yfFmzoRFi6CjI+im7pQk1aChWkfur86WnI7LKUnqyUHWq6cDr4mIV1B0ex8dEf8DrI2IKZm5JiKmAJ0/8FYCM7rsPx1Y3ScXInVqewjYfWAtOQHqJ0DbI0VyYn+7u0tD1L5acgKQmTcAN1Q4lgHj4YeL5bhxG4CxB328mTPh97+HDRtGANsO+niSpIFjqNWR+6szyekM65Kk3jiQejUzLwUuBShbcv5lZr4xIv4ZuAD4eLm8utzlGuDrEfFJYCowG7ilL+KXntS6vFgeaJKzbjzQCrkNYlSfhSUNZr1Kcg41K1fCpEnQ2Ng344fNnFks16w5BJOckqShpD7qaaDBlpySpGr4OHBVOa7nw8DrADJzSURcBSwFdgMXZ2Z79cLUoHSwSc768cWyfSPUmeSUesMk5x4yYfVqOProvjvmqFEwcSKsWeM/TJKkoacpmkxySpL6RWbeCNxYPn8MOHMv2y0AFvRbYBp62pYXycn6yQe2f9ckZ+NhfReXNIiZ5NzDjh3D2LEDpk7t2+POnAmLF4/irrvuflr5iSeeSFNTU9+eTJKkAcQkpyRJGnJal0Pj7AMfT7NuLBDQsakvo5IGNZOce9i8eQwAU6bAY4/13XFnzIBbb23gP/4jOOWUomz9+qV8+MMwf/78vjuRJEkDTHM0s6VjS7XDkCRJ6j+ty2HYsw58/6iHujFFS05JvWKScw+bN48mAiZP7vskJ8Du3fOYOvX4njeWJGkQaYom2mmnPdupj/pqhyNJklRZ2QZtD8Lo8w/uOPXjTXJK+6Gu2gEMNJs3jyknHerb444bB01NO9i4cWzfHliSpAHOGdYlSdKQ0vYg0H7gkw51qhsPHSY5pd4yydlFZpHknDKl748dAePHb2DjxnF9f3BJUk2JiMsjYl1E3NWl7CMRsSoiFpWPV3RZd2lErIiIZRFxdpfyZ0XEneW6z0Qc6KBPldUczQCOyylJkoaGzpnVG486uOPUj4fcCR07Dj4maQgwydnFjh0jaW1t6vNJhzqNH7+ObdtGsn17ZY4vSaoZXwbO6ab8U5k5r3z8ECAi5gLnA8eV+3w24sk+358DLgRml4/ujll1nS05TXJKkqQhoTPJebAtOTtnWLc1p9QrJjm72Ly5+AekEi05AcaPXw/AI49U5viSpNqQmb8Eevtt9VzgyszclZkPACuAUyNiCjA6M2/OzAS+ApxXkYAPUhN2V5ckSUNI63KoGw31LQd3nLoyyem4nFKvmOTs4oknxgHJ5MmVOf7YsY8R0cHKlZU5viSp5r0rIhaX3dk7xzeZBnS9PbayLJtWPt+zfMCJCJposiWnJEkaGtqWF604D3Ykofry66BJTqlXTHJ28fjj4xg1alufTzrUqaGhndGjt7BqVWWOL0mqaZ8DjgTmAWuAfy3Lu/t2nD2UdysiLoyIhRGxcP369QcZ6v5riiZaMckpSZKGgNbl0HiQXdUBogFiFHRsPvhjSUOASc4unnhiHKNHb6noOcaNe5zVq4tJjiRJ6pSZazOzPTM7gM8Dp5arVgIzumw6HVhdlk/vpnxvx78sM+dn5vyWloPsOnUAmqLJ7uqSJGnwy1Zoe+jgx+PsVD8WOh7vm2NJg5xJzlJrK2zbNpoxYyqb5Bw79nF27YJNmyp6GklSjSnH2Oz0B0DnzOvXAOdHRHNEHE4xwdAtmbkG2BIRzy1nVX8zcHW/Br0fmqOZ1mwlvcsnSZIGs9b7gY6+S3LWjYX2zX1zLGmQa6h2AAPFunXFstItOceOLe7ArF4N48dX9FSSpAEqIr4BvAiYGBErgb8DXhQR8yi6nD8IvAMgM5dExFXAUmA3cHFmtpeHuohipvbhwI/Kx4DUFE0kyW5200iFxoWRJEmqtr6aWb1T3RjoWFp0Bz3YMT6lQc4kZ+nRR4tlpZOco0dvpaEBVq0yySlJQ1VmvqGb4i/2sP0CYEE35QuB4/swtIppiqdmWG8Mk5ySJGmQauvjJGf9WKADOrZA/ei+OaY0SNldvbR2LTQ0tDJixI6KnqeuLjn0UFizpqKnkSRpQGmOZgBnWJckSYNb63KoGwf1E/rmeHVji6WTD0n7ZJKztG4djB69uV9af0+ZUiQ5Ozoqfy5JkgaCzpacJjklSdKg1rq871pxQtmSE5OcUi+Y5KQY2mLtWhg9un9mA5o6tZjo6PHHh/XL+SRJqrYGGgjCGdYlSdLg1tdJzroxxbLdGdalfTHJCWzZArt2FS05+8O0acVy/fqR/XI+SZKqLSKenGFdkiRpUOrYCbsf6dskZzRCjLQlp9QLJjmB9euL5SGHbO6X802YAI2NsGHDiH45nyRJA0FTNJnklCRJg1fbfUBCYx8mOaHosm6SU9onk5x0TXL2T/PvurpiXE5bckqShpImmuyuLkmSBq/WFcWyL1tyQjH5kN3VpX2qWJIzImZExA0RcXdELImId5fl4yPiuohYXi7Hddnn0ohYERHLIuLsSsW2pw0bYNgwaG7e2V+nZOpUeOyxEeze3Q8zHUmSNAA0RRNttJGZ1Q5FkiSp77UuL5ZNR/XtcevGFC05/Q4l9aiSLTl3A+/PzGOB5wIXR8Rc4IPA9Zk5G7i+fE257nzgOOAc4LMRUV/B+J60fj20tNAvM6t3mjoV2tvruP9+Jx+SJA0NzdEMQCt2WZckSYNQ23KonwD14/a97f6oHwu0Q27t2+NKg0zFkpyZuSYzbyufbwHuBqYB5wJXlJtdAZxXPj8XuDIzd2XmA8AK4NRKxddVZ5KzP02dWizvvtsu65KkoaEpmgAcl1OSJA1Orcv7fjxOcIZ1qZf6ZUzOiJgFnAz8DpicmWugSIQCk8rNpgGPdNltZVm257EujIiFEbFwfedgmgdhx44GduyAiRMP+lD7Zfx4aGrazdKlTj4kSRoaTHJKkqRBrXV534/HCcWYnODkQ9I+VDzJGRGjgP8F3pOZT/S0aTdlzxhwIjMvy8z5mTm/pQ+aX27eXHQX7++WnBEwceJ2W3JKkoaMziSnkw9JkqRBp2M77F5ZmSRn/djyHJv7/tjSIFLRJGdENFIkOL+Wmd8pi9dGxJRy/RRgXVm+EpjRZffpwOpKxgewadNwoP+TnAATJ25jxYrhtNqgRZI0BDREA/XU25JTkiQNPq33FctKJDmjCWI4tG/u+2NLg0glZ1cP4IvA3Zn5yS6rrgEuKJ9fAFzdpfz8iGiOiMOB2cAtlYqv0+bNw2hqgtGjK32mZ5o4cTttbXUsXdr/55YkqRqaoskkpyRJGnzaOmdWr0CSE4ou6x2OySn1pJItOU8H3gS8JCIWlY9XAB8HXhoRy4GXlq/JzCXAVcBS4MfAxZnZXsH4gKIl58SJ/TuzeqcJE7YDcPvt/X9uSZKqwSSnJEkalFrLJGclJh6Cosu63dWlHjVU6sCZeRPdj7MJcOZe9lkALKhUTN3ZvHkYsyv0b9C+jBmzixEj2rnttnre+tbqxCBJUn9qiia2dWyrdhiSJEl9q3U51E+C+gp1E60bU5wjszqttKQa0C+zqw9UW7bUs317U1XG44Ti36Wjj97ObbdV5/ySJPW35mhmN7vpyI5qhyJJktR3KjWzeqe6scBuyO2VO4dU44Z0kvOBB4qZ1SdOrF4MRx+9nUWLoL3iHfMlSaq+JooZ1u2yLkmSBpW2Cic5O2dYd/Ihaa+GeJKzejOrdzr66O1s3w7Ll1cvBkmS+ktTFEnOXbmrypFIkiT1kY6tsHtN5cbjhLIlJ47LKfVgiCc5h1Ff38HYsdWL4ZhjiqbmdlmXJA0FnUnOVmzJKUmSBonWFcWyot3VxxRLk5zSXg3xJOdwxozZSV0V34VZs3YwbJhJTknS0PBkktPu6pKkPhIRwyLiloi4IyKWRMRHy/LxEXFdRCwvl+O67HNpRKyIiGURcXb1oteg0DmzekWTnMMghtldXerBEE9yDmPcuB1VjaGhAU44AW6/vaphSJLUL+qjngYaTHJKkvrSLuAlmXkSMA84JyKeC3wQuD4zZwPXl6+JiLnA+cBxwDnAZyOivhqBa5B4Msl5VGXPUzcWOh6v7DmkGjZkk5zbtsGaNc2MHbuz2qFwyilFS87MakciSVLlNUWTSU5JUp/JwtbyZWP5SOBc4Iqy/ArgvPL5ucCVmbkrMx8AVgCn9l/EGnTalkPDFKgbVdnz1I2xu7rUgyGb5LznnmJZ7ZacUCQ5N2+GBx+sdiSSJFVeUzQ58ZAkqU9FRH1ELALWAddl5u+AyZm5BqBcTio3nwY80mX3lWXZnse8MCIWRsTC9evXVzR+1bjWFdBY4VacAPVjoP1xW0hJezFkk5yTJsHFF6+kpWVbtUPh5JOLpeNySpKGguZotiWnJKlPZWZ7Zs4DpgOnRsTxPWwe3R2im2NelpnzM3N+S0tLH0WqQal1eWXH4+xUNxZohax+j1RpIBqySc4ZM+Atb3mUUaPaqhZDe3sbS5cupbX1Vurrkx/+cDWtrf7okyQNbk3RRDvttGd7tUORJA0ymbkZuJFirM21ETEFoFyuKzdbCczostt0YHX/RalBpf0JaF/bT0lOZ1iXejJkk5wDwcaNy7n88k1ccUUyZswOfvCDDhYvXlztsCRJqqjOGdbtsi5J6gsR0RIRY8vnw4GzgHuAa4ALys0uAK4un18DnB8RzRFxODAbuKVfg9bg0baiWDb2Q5KzfmyxdPIhqVsN1Q5gqBs3bg5Tp87nsMNg2bJG4NFqhyRJUkV1Jjlbs5URjKhyNJKkQWAKcEU5Q3odcFVmXhsRNwNXRcTbgIeB1wFk5pKIuApYCuwGLs60e4EO0JMzq/djS872zZU/l1SDTHIOEIceCosWNbJhQ2O1Q5EkqaKaaQZwXE5JUp/IzMXAyd2UPwacuZd9FgALKhyahoInk5z9MPFQjAAabMkp7YXd1QeIKVOK5T332KJFkjS4NUZxQ88kpyRJqnmty6FhGtT1w2/5iKLLuklOqVsmOQeIyZMB0iSnJGnQq4s6GmmkFZOckiSpxrX108zqnerGQLtJTqk7JjkHiOZmGDNmF8uWmeSUJA1+TdHkxEOSJKn2tS7vn0mHOtWNcXZ1aS9Mcg4gEyduM8kpSRoSmqPZ7uqSJKm2tW+G9g393JJzLOR2hjdn/51TqhEmOQeQCRO2s2ZNM489Vu1IJEmqrKZoojVbyfQLuiRJqlH9ObN6p/pihvXph3b03zmlGmGScwCZOHE7ALffXuVAJEmqsKZoooMO2mmvdiiSJEkHphpJzrqxAMw41BvF0p5Mcg4gEyaY5JQkDQ1N0QTguJySJKl2td4LBDQe0X/nrCtacs6wJaf0DCY5B5Bhw9qZMmUXt91W7UgkSaqs5mgGcFxOSZJUu1qXQeNMqBvef+esOwQIptuSU3oGk5wDzNFHbzfJKUka9DpbcprklCRJNav1Xmg6un/PGXVQN9qWnFI3THIOMEcfvZ1774UtW6odiSRJldNII0HYXV2SJNWmTGirQpIToG4sMybbklPak0nOAeaYY4pxOe+4o8qBSJJUQRHx5AzrkiRJNWf3aujYWqUk5xhbckrdMMk5wHQmOe2yLkka7JowySlJkmpU67JiWY0kZ/0YprQkZFv/n1sawExyDjATJ7YxebJJTknS4NcUTbRiklOSJNWgaiY568ZSXw+0rer/c0sDmEnOAeiUU+D226sdhSRJldXZXT3TMaUkSVKNaV0GMRIapvX/uevGFMvdD/X/uaUBzCTnAHTKKbBkCezcWe1IJEmVEBGXR8S6iLirS9n4iLguIpaXy3Fd1l0aESsiYllEnN2l/FkRcWe57jMREf19LQejKZpIkjbsaiVJkmpM6zJomgPV+PpVP7ZYtpnklLoyyTkAnXIKtLfDnXdWOxJJUoV8GThnj7IPAtdn5mzg+vI1ETEXOB84rtznsxFRX+7zOeBCYHb52POYA1pzNAM4LqckSao9rcuq01UdnmrJaZJTehqTnAPQyScXS7usS9LglJm/BDbuUXwucEX5/ArgvC7lV2bmrsx8AFgBnBoRU4DRmXlzFv29v9Jln5rQFE0A7MpdVY5EkiRpP3TshLYHq5fkjAbWPhYmOaU9mOQcgGbNgrFjnXxIkoaYyZm5BqBcTirLpwGPdNluZVk2rXy+Z3m3IuLCiFgYEQvXr1/fp4EfKFtySpKkmtS6DEhoPrZqIax81CSntCeTnANQRNFl3SSnJAnobqCn7KG8W5l5WWbOz8z5LS0tfRbcwWiIBuqpZ2c6CLUkSaohu5YUy+bjqhbCI4/WmeSU9tBQ7QD0lPb2NpYuXQ7AlCnTuemmSWzbtpuRI5uqHJkkqR+sjYgpmbmm7Iq+rixfCczost10YHVZPr2b8prSHM12V5ckSbWl9S6goZh4qEoeeTRg98OQHRC2X9ubE44/hlWre/6KPG3qVO68655+ikiVZJJzANm4cTmXX76JOXNg9erttLbW8f3vL+f886t3d0iS1G+uAS4APl4ur+5S/vWI+CQwlWKCoVsysz0itkTEc4HfAW8G/r3/wz44zdHMjtxR7TAkSZJ6b9eScmb16jVIeuTROshd0L4OGg6tWhwD3arVq9m47H09bjP+6E/2UzSqNNP9A8y4cXOYOnU+c+ceAcA994yockSSpL4WEd8AbgaOjoiVEfE2iuTmSyNiOfDS8jWZuQS4ClgK/Bi4ODPby0NdBHyBYjKi+4Af9euF9IHmaKY1WynmTpIkSaoBu5ZUtas6lElOgLaHqxqHNJDYknOAGj8eGhraTXJK0iCUmW/Yy6oz97L9AmBBN+ULgeP7MLR+1xzNdNDBbnbTSGO1w5EkSepZx3Zoux/GvKmqYTzyaDk8e9tDMPzUqsYiDRQmOQeoujqYMGEH995rklOSNHh1zrC+M3fSGCY5JUlS36jYWIytdwMJTdW9z/xUS04nH5I6meQcwCZM2MayZRPp6CiSnpIkDTadSc7WbK1yJJIkaTCp2FiMA2BmdYAt2wLqxpjklLowdTaATZy4ne3b61mxotqRSJJUGV1bckqSJA14u5YUEw41HVXtSKBxJuw2ySl1siXnADZx4nYAbrsN5sypcjCSJFVAfdTTQIMtOSVJUm3YdSc0HQ0xANIpDYcN2ZacvRmOAGDbtm39EI0GigHwf6X2ZuzYnTQ2dnD77XWcf361o5EkqTKao9mWnJIkqTbsvB1GvqzaURQaZ8KOX1U7iqrozXAEAE1TP9oP0WigsLv6AFZfnxx11A5uu63akUiSVDnN0cyu3FXtMCRJknq2ew20PwrDTql2JIXGmdDxOLQ/Xu1IpAHBJOcAN2fOdm67DTKrHYkkSZXRHM20ZitpZSdJkgaynbcXy2EnVzeOTo0zi+UQ7bIu7ckk5wB3zDHb2bgRHnmk2pFIklQZzdFMkrTiuJySJGkA60xyNs+rahhPMskpPY1JzgHumGOemnxIkqTBqHOGdScfkiRJA9rO26BxNtSPrnYkhc4kpzOsS4BJzgHvqKN2UFdnklOSNHh1JjmdfEiSdCAiYkZE3BARd0fEkoh4d1k+PiKui4jl5XJcl30ujYgVEbEsIs6uXvSqKbtuHzhd1QHqJ0E025JTKpnkHOCGDevg2GNNckqSBi9bckqSDtJu4P2ZeSzwXODiiJgLfBC4PjNnA9eXrynXnQ8cB5wDfDYi6qsSuWpH+yZoe2DgTDoEEHVFa862B6sdiTQgmOSsAaecArffXu0oJEmqjLqoo5FGZ1iXJB2QzFyTmbeVz7cAdwPTgHOBK8rNrgDOK5+fC1yZmbsy8wFgBXBqvwat2rNzUbEcSC05ARqPgNb7qx2FNCCY5KwBp5wCq1fDo49WOxJJkiqjOZpNckqSDlpEzAJOBn4HTM7MNVAkQoFJ5WbTgK5Tu64sy/Y81oURsTAiFq5fv76icasG7Li5WA6bX9049tR4BLTVTpLzhOOPYfz40T0+Tjj+mGqHqRrVUO0AtG8nlzeKbr8dXv7y6sYiSVIlNEczW3NrtcOQJNWwiBgF/C/wnsx8IiL2umk3ZfmMgszLgMsA5s+f/4z1GmJ2/Bqa5kL9+GpH8nSNR0DH5qI7ff24fW5ebatWr2bjsvf1uM34oz/ZT9FosLElZw2YN69Y2mVdkjRYdbbkzPQ3pCRp/0VEI0WC82uZ+Z2yeG1ETCnXTwHWleUrgRlddp8OrO6vWFWDsgN2/AaGn17tSJ6p6YhiWUOtOaVKMclZA8aMgaOOcvIhSdLg5eRDkqQDFUWTzS8Cd2dm1yZg1wAXlM8vAK7uUn5+RDRHxOHAbOCW/opXNah1adFacsQZ1Y7kmRqPLJat91U3DmkAsLt6jTj5ZFi4sNpRSJJUGZ1Jzp25k2aaqxyNJKnGnA68CbgzIhaVZR8CPg5cFRFvAx4GXgeQmUsi4ipgKcXM7BdnZnu/R63asf3XxXIgtuRsPLxYDoCWnCccfwyrVvfcKHrbtm39FI2GIpOcNeKUU+Bb34JNm2DcwB9mQ5Kk/WJLTknSgcrMm+h+nE2AM/eyzwJgQcWC0uCy49dQP7kY/3KgqT8E6lsGxAzrvRlvs2nqR/f/wG0rYfuNsPMWaFsFuZPP/e2OYgiBxqOgYdI+D6GhwSRnjTjllGJ5221wZrfVtCRJtaspmgCcYV2SJA08O24qWnHufTKr6qqxGdZ7pWMnPHElPP6FIskMECOh8TCI4Zw+rx22XwdcV3TZH/ESaJha1ZBVfY7JWSOe/exiefPN1Y1DkqRKqIs6mqOZnbmz2qFIkiQ9pXUFtD0AI15U7Uj2rukIaBskY3JmG392fivcNxMefSu0b4SJC2DWIpjzOByxFA6/lRNfOwrGvgdGnAm715TJ0JvASSyHNFty1ohx42DuXJOckqTByySnJEkacLb+qFiOemV14+hJ45HwxDch2yAaqx3NgWu9F7b9kL//i13QfAJMuLRoobm3FrT1Y2D4GdA8H7ZdC9uvh/YNMPI1ELbpG4r8q9eQ006D3/7WGxOSpMFpWAxjZ+4kregkSdJAse2H0DSnaC05UDUeAXRA28PVjuTAdGyBLd+CLd+AaOTcPx8Oh/0MRp7ZuyEC6obBqD+E4S+CXXfAtu+bOBmiTHLWkNNOg40b4d57qx2JJEl9b1gMo512drO72qFIkiRBx3bYfgOMfEW1I+lZZwK2Frus77obNv9n0Ypz+EtgzDv51a0H0Ok4Aka8EIa/EHYtgp2/7vNQNfBVLMkZEZdHxLqIuKtL2fiIuC4ilpfLcV3WXRoRKyJiWUScXam4atlppxXL3/ymunFIklQJw2IYgF3WJUnSwLD9BshdMGqAJzkbZxfL1uXVjWN/ZAds+ylsvQrqJsDYi2DE8yHqD+64w18ITcfD9p9Daw0mfXVQKtmS88vAOXuUfRC4PjNnA9eXr4mIucD5wHHlPp+NONhP9uBzzDEwdqzjckqSBieTnJIkaUDZeg3ECBj+gmpH0rOGKcXM46010u0z22DLVbDzZmh+Noz5E6gf3zfHjoBRr4b6ibD1e4w5pG8Oq9pQsSRnZv4S2LhH8bnAFeXzK4DzupRfmZm7MvMBYAVwaqViq1V1dfDc55rklCQNTs3RDMDODpOckiSpyjp2FJP5HPJaqGuudjQ9iyjGDa2BlpwjhwNPfB3alsGIc4pWsn3dxi2aYNR5kNv4xF/27aE1sPX3mJyTM3MNQLmcVJZPAx7pst3KsuwZIuLCiFgYEQvXr19f0WAHotNOgyVL4PHHqx2JJEl9qy7qaI5mduWuaociSZKGuq3fg47HYcxbqx1J7zTNHvgtOXM3V38W2P0QjHotDH9O5c7VMBWGPY+3vhZoe6By59GAMlAmHupuuqxup8LKzMsyc35mzm9paalwWNXV3t7G0qVLWbhw4ZOPZz+7jUz43e+qHZ0kSX2vc4Z1SZKkqtr8JWicBSNeVO1IeqdpTpHMy9ZqR9K9TNj6HV4wHxj1B9B8QuXPOeJFPLgK2PaTYgxQDXr9neRcGxFTAMrlurJ8JTCjy3bTgdX9HNuAs3Hjci6/fBOXXQaXXQYLFixl+PA7ibDLuiRpcDLJKUmSqq71Qdj+Mxh9AcRAaRu2D01zgA5oHaCtFrdfD61384F/pn8SnADRwIc/BbSvhV139M85VVX9/X/rNcAF5fMLgKu7lJ8fEc0RcTgwG7iln2MbkMaNm8PUqfOZOnU+LS1zGTWqg+OPN8kpSRqchsUw2mln1MRR1Q5FkiQNVY99rBjXceyfVjuS3mvqnGF9AHZZ33U37Pw1ND+Lf/tK/576Wz8BGqYXs61nW/+eXP2uYknOiPgGcDNwdESsjIi3AR8HXhoRy4GXlq/JzCXAVcBS4MfAxZnZXqnYat1pp8FvfwsdtraWJA0ynTOsTzpq0j62lCRJOjg7tm9l/PjRT3ucdspI2jd+if/8egfjJ89l/PjRnHD8MdUOdd+a5hTLtgE2+VD7Zth2NdRPhZHnVCeGEWdBboWdt1bn/Oo3DZU6cGa+YS+rztzL9guABZWKZzB53vOK7ut33w3HHVftaCRJ6jvD64YDMPnoyVWORJIkDXbt7cnGZe97qiATtlwJux/k4j97Nxe/awQA44/+ZJUi3A/146F+wsBqyZkJW68GEg55HUTFUlA9a5wJDbNgx00w7FkQjdWJQxVXI4NLqKvTTiuWv/lNdeOQJKmvNdFEHXVMnmOSU5Ik9bOdv4a2e2H4i6BuRLWj2X9NcwZWknPnLbD7QRhxNtSPrW4sI14Euc3WnIOcSc4aNHs2TJwIN91U7UgkSepbEcGwGGaSU5Ik9Z9M2Hl7MTlO0/Ew7LnVjujANA6gJGf7E8X72XgUNJ9c7WjK1pyHwc7fOtP6IFaltsI6GBHwwhfCL35R7UgkSep7w2M4k2eb5JQkSQcpW2H3OujYCCTQAHWjikcMZ+okoHVZkeBsW1Z0aR71muJHdy1qPhaeuALaH4f6MdWNZftPgYSRrxg47+fw02DLN6H1bmh27L/ByCRnjXrhC+H/t3ff8XGVV8LHf+dOV5csuciWC8Yl7oAxvYYSSoAQSIAQyhLYkBAggRSSkGw2sJsNycuSsCSBhLIsJRAwJYZQTDUl2MZdgG1csCQXWcXqU5/3jzuSJVmyVWZ0Z0bn6898ZubOnXvPfTwzd+boeZ7z1FOwdStMmOB0NEoppVTiBKwAReOLCJswHp0zSSmllFL9FdrA73/cCrW/AXqvqL1lMfYcnOK1i9P4jwJJ4wGv3hn2dajcTug5JbwZQuvsYf+uQufi6M4zFawiuzenJjkzkiY509QJJ9jXb74Jl13mbCxKKaVUIgXELj5UF61jpFurrCullFKqj4yBut9B9S2ce3LEHibtnWYX5MFl9+yMNduVtmMtfOtHL3HPHZeCZyKIy+noB689cRd0MMlpDDS/DFY+BI5xJobeiAX+I6DlRQhvA0+Z0xGpBEvjP1EMb7NmQVGRDllXSimVefziB6A2WutwJEoppZRKGyYGO6+HXTdC1sksuCjbHnrunQauYrtHoXsUeA8C3xwIHMmfnwS8kzMjwQnxZG0AguuciyG0FqI7IOtk56qp749/Hojf7s2pMo4mOdOUZcFxx2mSUymlVObxi59oJEptTJOcSimllOoDY2DndVB/NxTdDOOeZ8fuYZjuEAu8n7OHqzvA4zbQ8hq4RoN3tiMxHJB4wXeYPS9ntM7paFSCDcN3feY44QT49FOoqHA6EqWUUipxLLGo2VyjPTmVUkop1Tf190D9H6Do+1Dy69QpdOME3wzHenJ+5fQIxOrjvThT+P/AvwAQaPun05GoBNMkZxr7/Oft68WLnY1DKaWUSrQdn+zQJKdSSimlDqzlXdh5I2SfDSW/Su3k2lDwzYRIhV1hfSiZKDd8PQiuMeA5eFCbam1poqgob7+X5ubmge/AlQfemRBcac/TqjJGCk6QoPpq1iwYORJefRUuv9zpaJRSSiWCiGwBGoEoEDHGzBeRIuCvwERgC/AVY0xdfP1bgKvi619vjHnJgbATrqq8ivqz64mYCO5UnM9JKaWUUs6LtcD2y8EzDkr/L70roydKR4X1jyBw5NDtt/FJDh5vIHDsoBPN0aih9pPv7Xcdb+kvBrUP/IdDaA0E1wxuOyql6CdAGrMsuzfnq6/aU5AopZTKGCcZY+YZY+bH7/8IWGyMmQIsjt9HRGYAFwEzgS8A94hkxsz5VeuqMBhqojVOh6KUUkqpVFX9UwhvhNH3gyvf6WhSQ0eF9SEcsm5iUHM7n2yOzwmaDtzjwDUK2pYBmlDJFJrkTHOnnAI7dsA6B4unKaWUSrpzgYfitx8Czuu0/HFjTNAYsxnYCCwY+vASr2pdFQC7o7sdjkQppZRSqWb2rOmccGQ2sZo7+cvTHorKzk3scOZ01lFhfQh7KDY9D8G13PmwN32mCxAB/3yI7uDwWTGno1EJouO/0twpp9jXr75qD19XSimV9gzwsogY4E/GmHuBUcaY7QDGmO0iMjK+7ljg/U7PrYgv24eIXANcAzB+/PhkxZ4wNVtqcOPWJKdSSiml9lFZVcmaD4ohupurrvoOV13t32edQQ9nTlfiAt9caFsxNPszBmpuB88knnqlmj8OzV4TwzcHWl7hX87XeTkzhfbkTHPjx8OUKfDKK05HopRSKkGOMcYcCpwBfFtEjt/Puj39qbzH8TbGmHuNMfONMfNLSkoSEWdSmZhhhGuEJjmVUkoptY/zTo5A5DO7ire1b4Jz2PMfGi+qMwQ9FFteg7alMOJHRKNp0ouznXjBNzf+eqp2OhqVAJrkzACnnw6vvw6trU5HopRSarCMMVXx613AQuzh5ztFZAxA/HpXfPUKoKzT08cBVUMXbXIVu4rZHd2N0YmnlVJKKdXORPnxNUF7PkXfIU5Hk5r8h0KsAcKbkr+v2jvBNRLyLkv+vpLBdzg+L7DnfqcjUQmgSc4McNZZdoLzzTedjkQppdRgiEi2iOS23wZOA9YCzwGXx1e7HHg2fvs54CIR8YnIJGAK8MHQRp08xa5i2kwbzWaYzqmllFJKqX01PhGv4n28VlPvjf9Q+7rtw+TuJ7QemhdBwbXp26PWXcLby11Q/0cwUaejUYOknwgZ4IQTIBCAF15wOhKllFKDNApYIiKrsJOVi4wx/wB+BZwqIhuAU+P3McasA54AyoF/AN82JnO+nRW7igEtPqSUUkqpOBOD3bfz0aY0quLtBN9MwJP8eTlrf2cP+S68Nrn7SbIHFnogvAWaX3I6FDVImuTMAIEAnHwyLFpkz/mrlFIqPRljNhlj5sYvM40xt8eX1xhjPm+MmRK/ru30nNuNMZONMdOMMS86F33itSc5q3WOJKWUUkoBNC6E0Dp++1AaVfF2gnjBNwuCSezJGa2DPQ9A3iXgHpW8/QyBRW+5wTUa6u5xOhQ1SJrkzBBnngmbNsH69U5HopRSSiWG3/KTb+WzM7rT6VCUUkqlMBG5X0R2icjaTsuKROQVEdkQvy7s9NgtIrJRRD4RkdOdiVr1mzFQcxt4p/LMYrfT0aQ+/6H2cPVk9YSq/wuYFii8ITnbH0INDc3ccV8tscZFzJuZQ1FR3j6X2bOmOx2m6gNNcmaIs86yr59/3tk4lFJKqUQa5RrFzogmOZVSSu3Xg8AXui37EbDYGDMFWBy/j4jMAC4CZsafc4+IuIYuVDVgTX+3K4aP+DGxmPbiPCD/oRDdDZFtid+2iUDd7yHrRPDPS/z2h1g0avj+976NZQkrF82j9pPv7XOprMqY2p4ZTZOcGWLCBJg3DxYudDoSpZRSKnFGuUfRZJpojmnxIaWUUj0zxrwF1HZbfC7wUPz2Q8B5nZY/bowJGmM2AxuBBUMRpxoEY6Dml+CZZA+PVgcWOMK+bn0v8dtuXAiRz6DwxsRv2ymuPPBOg+AKO4mr0pImOTPI+efDu+/C9u1OR6KUUkolxiiXPcfTruguhyNRSimVZkYZY7YDxK9HxpePBTp3bauIL9uHiFwjIstEZFl1tc4P7ajml6FtKYy4BcTjdDTpwTcXJBtaliR+23X/DZ6DIOfsxG/bSb7D7SH4oXKnI1EDpEnODHL++fb1s886G4dSSimVKCXuEgTRIetKKaUSpadxzj1OWmiMudcYM98YM7+kpCTJYaletffidI+D/MudjiZ9iBsCR0FrgpOcrR9A67v2XJyZNtODZxJYRXZCXaUlTXKmkWg0THl5OcuWLeu4hEKhjsdnzIApU+Dppx0MUimllEogr3gpsoo0yamUUqq/dorIGID4dfuQgAqgrNN64wCdbC+VtbwBre/AiB/aVcNV32UdC8HVEN2TuG3W3QVWHuRfmbhtpgoR8M+HSAVEdjgdjRoATXKmkdraDdx/fx333gv33gu3317O6tWrOx4XsXtzvv467N7tYKBKKaVUAo10j2RndCcmWdVBlVJKZaLngPZuf5cDz3ZafpGI+ERkEjAF+MCB+FRf1fwSXKMh/yqnI0k/gWOBGLS+n5jthSug4Qn7/8KVm5htphrfPMCdFr05Z8+a3mMl+OFcFd7tdACqfwoLp1JaOr/Xxy+6CP7rv+DJJ+Haa4cwMKWUUipJRrtH81HoIxpiDeS78p0ORymlVIoRkceAE4FiEakAfg78CnhCRK4CPgMuBDDGrBORJ4ByIAJ82xgTdSRwdWAt70DL6zDyt2AFnI4m/QSOAFz2kPWc0we/vbr/BgwUXj/4baUqKwC+WRBcA1mnguV3OqJeVVZVUfvJ9/a7TqDs3ykqyjvgtsaWlrJm7ceJCs0xmuTMMHPn2sPWH31Uk5xKKaUyQ6m7FIDKSKUmOZVSSu3DGHNxLw99vpf1bwduT15EKmFqbgNXMRT8q9ORpCcrB/yHQMubg99WtB7q/wR5XwXvxMFvL5X5D4fgSgiu2lulPk1Fo+aAiVCAomn/bwiiST4drp5hROBrX4MlS2DrVqejUUoppQZvhDUCn/iojFQ6HYpSSimlhkrrUmj+BxTdBFa209Gkr+xT7UJB0frBbaf+jxBrgqLvJySslOYuBfdYCC6zC1+ptKFJzgx0cfzvmI8+6mwcSimlVCKICKXuUqoiWhdCKaWUGjZqbgOrEAq+7XQk6S37LCAKzS8PfBuxNqj9b8g+HfzzEhRYivMvgOhuCG9wOhLVD5rkzECTJsGxx8L99+sfHZRSSmWGse6x1MfqaY41Ox2KUkoppZKtbRU0PQdFN2ZugZuhEjgSrCJo+vvAt9HwMER3QtEPEhdXqvPOtKvIt77ndCSqHzTJmaGuuQY2boQ33nA6EqWUUmrwxrrHAmhvTqWUUqoP0r7qcs0v7QRTJhe4GSrigpwzoPlFGEiNLROFmjvAfxhknZT4+FKVuMB/BES2QDp8/zRRiOyC0EYIrYfwFnt6gWFGCw9lqAsugOuvh/vug5OG0eeQUkqpzFTiKsGNm8pIJVO8U5wORymllEppfam6nLKFRtpWQONTMOJWcBU4HU1myDkbGh6Btg8gcFT/ntu40B6yXfKEXQRkOPEdBq1v2dXpU1B2wEDbSgitgfBnQGSfdTa+DDS9YE8zEC/mmck0yZmhAgG47DL44x9h924oLnY6IqWUUmrgXOKi1F3KtvA2p0NRSimlVDJV/9Sei7PoJqcjyRzZp4N4oeHx/iU5TRR2/wy80yH3/OTFl6osnz03Z+vbfO6gLKej2SvWDHW/Y9XTTdD8rD0dgf8wu1iSlQ+4wLRBtJoV5S8xfsxKCC4F93jI+jx4xjt9BEmjw9Uz2DXXQCgE997rdCRKKaXU4E3wTKA2VktDtMHpUJRSSimVDC3vQPMLMOKH4Mp3OprM4SqEnPNhz8N2EaG+2vMwhD6Cktvt4dvDkf8owMtNV4ScjsTWtAg2zYTqH7N0rQvyroSC6yD7C+CbbScwPWPBOxkCR3LhjUDhTZB1OkTroOEBu6d0t3nuW1ua0nuKizjtyZnBZs6E00+H3/8ebroJfD6nI1JKKaUGbqJnIm+3vs3WyFZmu2Y7HY5SSimlEskYqP4JuEZB4XVOR5N5Cq6GxsftBFf+1w68fqwFdv8c/IdDzpeSH1+qsgIQWMB5Jy+B4FrwzXImjlgz7LwR9vzZLoo0/k0uPvpsas/pQ69My2cXoPIfCq3vQuvbEN5kJ769kwGIRk36TnHRifbkzHA33QQ7dsCjjzodiVJKKTU4hVYhuVYuW8JbnA5FKaWUUonW8iq0vgnFPwUr2+loMk/WieA5yE6S9UXNbRD5DEbeMfzm4uzOfxSNzcCuW5zZf3grbD0S9vwFRtwCkz6ErOP7vx3x2q+D/GvAyoHGR6D1HfsPDBlCk5xpLBoNU15ezrJlyzouoVDXLtSnnAJz5sAdd0B0AIXUlFJKqVQhIkxwT2BbeBvRgVQHVUoppVRqau/F6R4P+Vc7HU1mEgsKroGWN+xpAfYnuNauqJ5/BWSdMBTRpTYrizsf9kLz36HlzaHdd+tS2HIEhLdB2UtQ8h92snIw3KMg/yrwzrD/uND0FNmBxITrNE1yprHa2g3cf38d995rz7t5++3lrF69uss6InDLLfDRR/DEEw4FqpRSSiXIRM9EwoSpilQ5HYpSSinliNmzph9w7rzm5uYDbyiVNPwftC2F4l/YQ2tVchReZxen2XUDmFjP68RaoOoye07UkjuGNr4Udu8TXnCPg1032QWZhkLjM/DZCfaQ+QnvQvapidu2eCHny5B1CoTKeeV+7P/7NKdzcqa5wsKplJbO3+86X/kK/Md/wM9/DhdeCO4M+l8PhUL7JHbnzJmD1zuwv2wkentKKaUSa7xnPG7cbAhvoMxT5nQ4Siml1JCrrKrqee48YyBSCeHNLHzuNaj/o11h2URBfODKA1cJuMvAM2noA+9NtAF2fd+uYp1/mdPRZDYrG0p+Ddu/Zg99LujWa9YY2PENCK6Ecc+Du9iRMFNRW0ig5L/stqv/ExR+K3k7M4Zf3zKKmy+r5sNyi6/9sJrquiP3WW3Qf8wQgcAx4Cpm5sGP20WJci9N66JfGZTuUr2xLPjlL+G88+DBB+Eb33A6osRZvXo1t99eTknJDACqq8v5yU9g/vz9J36HantKKaUSyyMeJnkmsTG0kRMDJ2KJDkpRSik1zMWa7V6QwZUQ2wPAzIMBKx+sMYCACdqPta0APgCEv/7Ggoa/Qs65YPmdi3/3zyG6y06q6Xk9+fIuhj33wY5vg2sk5J5rL4+1wo5roeExe0h0zlnOxpmK8i6GPfdD9S2Q+yVwj0n8PkwEdt7AD66oBu8M5h9/Hp+87+lxVW/pLxKzT+80zr4WFj/YYCc6874OrhGJ2fYQ0yTnMHHOOXD00fDjH8MFF0BBgdMR9U33npXhcBgAj8d+k5eXl1NUNO2AvVn7o6RkRkK3p5RSKrGmeqeyIbyBikgF4z19qCiplFJKZaJYm10lue0DIAKeyZB1MngmM2v2bwhVXbzvc0wMotsh9DHTJy2Bqouob4A/P+XlD3/1Utewb4GZsaWlrFn7cXKOoeUdqLsLCr4JgcOTsw/VlQiMfQa2nQ6VF0DueeCZCI3PQngDjPg5FP3I4SBTlAiM9AKptAAALIxJREFUvgc2z4HtV8cT8wksyhRthKqvQvOL3PV/Xm64/oIhK/r09jIg7wp76og9D0DeZeAeOST7TiRNcmYQuxDRhi7L2odai8Ddd8P8+XDrrfD73zsUZD9171m5fv3LQAFTpx4Tv7+ZwsISynTEolJKDRsTPRPx4GFDaIMmOZVSSg1PwY+geRGYZvDOgcCx4C458PPEsudkdI/l4NOXENzydQq8y7j5yo+4+UrAfzgEjgYrq+MpgbJ/p6gob7+bHVAiNNYC268EzwQY+ev+PVcNjisfyl6G6h9D498g+ow9bHnUndqD80C8U+0h/7tugLq7oeg7idluuAIqzoLgOhj9J35xz83ccMMQV7V3j4H8K2HPQ9DwoN2jMxm9VZNIk5wZpL0Q0dSp9v3uQ60POQS+9S245x742tfgyH2ndEi4/s5x2X397j01q6rW09paRlvbfEIhaGpqZc+eAowBlwvq63P529+2snHjWoqKIuTnRzjkkL370zk3lVIq/bnFzUHeg9gY3sgJ5gTcol9nlFJKDRPReu65tRWangDXGMi5BNylA9qUMYDnIPsS2RXvFfoOBJdB4DjwHwHiJho1Pc8B2knRtP/X/53vuBbCG6FsMVg5AzoGNQiuPBh9N4z6HZiQs1MWpJvC70DzS1D9ffAfBllHD257Le/YvWpNM5S9ANmnATcnJNR+cxXbic6Gh6DhfyHvUvsPI2lCfxVkmAMVIrrtNnj+ebj0UlixAnJzkxtPf+e4bF+/uHgGtbUB1q4tJBQaQzgMNTXQ1nZJt2ccB8DKle33p/Haa9M6HrWsKBMmhJgzB6ZOBY+niiVLdjF58ijcbqNzbiqlVJqa4Z3BJ6FP2BDawOd8n3M6HKWUUir5Wt6Bqou44NQIBI63L+JKzLbdIyH3yxA5DlpetS9tSyHr5OSMlq3/o51AKf4FZJ+UhB2oPhMLRBOc/SICYx6CrUdB5bkw4T3wHtz/7RgD9ffAzhvtKQPGvQK+WYmOtv9cRZDXKdGZeymkScFPTXIOM/n58PDDcOKJcN11diGiZE/x0HmOS3tIfXmXx9t7Uu7YAQsXFrNq1dns2FFEayvATNzuMOPGwaxZ0Nq6nEDAxcyZ8/D54NNPn8Hlymf69JOIRqG8/HlCoZGMGXMEzc1QUbEDjyfK6tUlvPiij1BoIjCRJUtg5EgoKBjPs8+2kJcHU6Yktx2UUkolTpm7jAKrgDXBNZrkVEoplfnq/2L3fPRM4PR/zWLxM0lKDLpHQt4lEN4Mza9A00Leexz7fqIqsjc+Bzu/A9lnwoifJmabSg01dzGUvQhbj4TPToKyl8A3o+/Pjzba74OGhyD7bCh9GFwFSQu331wF8Tk6/xcaHrY/F9KAJjmHoeOOg5/9DP7t32D2bLh5CHtBdx9Sv3XrBoqLDeXl01m1KgdjJpKVFWLqVJg0CZqbnyYrK8C8eWcAsGrVOqCEiRPnAbBrVwPgo7DQ3l5+fh3gZuZM+77Pt5i6ujoOO+wYYjFYu3YJxhyH13sYVVWwaVMRt902kttug7IymDt3Is3NDeTlQU4PIyZ0uLtSSqUGEWG2bzZvt75NdaSakr7MQ6aUUkqlGxOBXTdB3e/sIaylj7PiownJ369nEuRfDaE1jChYaCc6PFMg69S+zf3Zm6Z/QNVX7CG+pY9rNXWV3rwHQ9mrsO0M2Hqsnag80Jymxtjz6e74NkS22YWein+Wmu8FVz7kXxFPdD7CCfN7rvKeSjTJOUzdeiuUl8MPfgDjxsFFFw3dvvPyplNXN5+VK2HjxkMBi6KiFg45pAqR5xg3bmKnpGYTEBjU/joP4a+pKQd2MXeu/Vhl5UpOP93H7t2zWbwYXnmlgD17inn9dRgzBkpLx7BxYx2HHWb3eO3v8HullFLJM8M7g/da32NFcAWnuU9zOhyllFIqsaK1UPlVe+h44Xft4jxDOQ+1CPjmMOuLC2n86BR7zs49fwDfIZB1Ilj9mPusY1juDfZw3LIXwZXkudMSqLWlKTnFl1T688+DCe/aw9Yrzobci2DEj8A/t+t6JgRNf4faO6F1CXinw4R3IHCUI2H3mZXb0aPzsTt2QdMLkHOm01H1SpOcw5Rl2UPVd+ywixCFQnDZZcnbnzFQVQWrVi2gouIgwmHIy4OpU9dSVlbPscceD2SxalV28oLoQSwWpqWlnPnzg8yfD2edVc7ChYfQ3DybTz6B5cvHcvHFY7n1VjjvPJgxI5vi4hn7nfdUKaXU0PBbfmb5ZrEquIoF/gUUpNIQHzUsTZg4gc+2fpbUfYyfMJ6tW7YmdR9KqRQQ/AgqzoHIZzD6fii40rlQQtiVt32HQOtb9lydwTV2cse/wC5Usj+hjfaw3OZ/QM4XYcwjaZXgBJJTfEllDu8kmLgMdt8Gtb+BxsftKuy+OSBeiFRB23KINdpFfEbdAwVX2Y+lAysb8i7n43W/ZZ7vPBj7BOSe53RUPdIk5zAWCMALL8A558Dll8P69fCLX9hVyhNl504PK1eO4JlnoLoaLOtgSkt3ceKJpUyaBGvWrAScG2LYffj8+vWbKSws4dhjZ3PssbBx4yrGj89nxYqJ3HUXhMOfIzs7yOzZMHNm8uczHQ50CgCl1GDM989nbXAtH7R9wGnZ2ptTOeuzrZ/xdvPbREyEMGHCptOFMFETJUq04zpGjKixrw2mYzsGgyBY7f/EvnaJi7eefovXW14nIAECEiDbyibPyiPPysMnPkS/nCiV/poWQdXFIFlQ9vrgKzcnipUF2V+wE5utb0Hbh3bC0zWaH18TtHupuSeAFYBoPQQ/hMbn7aG5Vg6M/G8ovC5xxZKUGkJ97s27qgL2/C+0vAXB1WBi8UI+l0LO2fa0E0PZIztRrCzOuz6LLW/NhMoLofQRyPuK01HtIw1bViVSdjYsWgTf+Q7cfju88Qb84Q/2XJ0D1dgITz1lFzh6/fU5GCOUlcHZZ0Ms9iRebwGTJ5cm7BgGq/Nw9urqrkWRfL4Wpk9fxfnn7+aHP3Tx2GPNvPjiTJYu9fH++5CdPZuWljq+8x044ghNeg6ETgGglBqMbCubOb45rAiu4FD/oRQfqDeJUgNkjCFkQjTEGmgyTTTGGjsuTTH7/q8rf83y4PIen+/GjUtctP/zitdOXFouLCwE+0tE+7XBEGv/Z2IdCdHSGaWsD62nzbTtsw8vXvJceeRaueRZeRRahRS5iih0FZIt2ZoAVSrVGQO1d0D1j+xek+OeSc2Kxq4iyDkPsk6B4FoIrePGS0NQ8cV913WPgRE/gYJrwZM6vwGV6q8+9+Z1FUHRjfYlwzQ0CZS9DBVn2X+IiTU72su8J5rkVPj9cN99cPzx8N3vwiGHwFe+Atdf37fEnTGwcSO8+KKdMH3jDXv4++TJcPXVVezZU8v06XbWdNWqcPIPKIG69vSMsn79Yg47rJFLLjmDTz6BDz9s5cknR/Loo3bhogsugAsvtNvNSsF5g3uSCj0pS0p0CgCl1MDN98+nPFTOa82vcWHuhZrIUT3qy1Byj99D0YQiiicWUzypmBETR1A8qZjCskIKxxbiz/V3WT8ajlJfVU99ZT11lXU07Gzg8hsvxyMePHjs6/jtRL0urzryKowxxEyMVtNKc6yZhlhDx6Ux1khDrIGKcAVh9n7v8uKl0FVoXzolPwusAlzaq0op58WaYcfV0PAY5H4Fxjxg95xMZVYOBI6EwJFMPP63VGx8CSIVYNrAygPfTPAcrD1BlMoQrS1NFJWMI8tv+L9fCScu+Bfu+s03+eUfvcRi9vvc6blpNcmpOnz963DmmfCf/wn33guPPWYXJTrhBLtn55gxdsXxSAR274YtW+DDD+1LXZ29jWnT7F6h558PRx0Fy5dv5957HT2sQeupp6ffD3PnQlHRRxx++BZ27TqCV18t4u6787jzTotx4+xk54UXwoIFiZ0CYLC6JzXLy8t56qkYo0bNApLfk7Kn/Uej05Kyr75KhUSvUmrgAlaA4wPH83LLy6wOrmZu94nelcIeSv5ey3tETIQ200bQBPdex9poM21dkoIALlz4xNdx8Yq34+ITHx6fB5kmED+NHZV1FLfcfMuQHI8lFtmSTbaVzUhG7vO4MYZm00xdtI7aaC11sTrqonVUhCv42Oz98SEI+Va+nfS07CRokauIIqsIn+UbkmNRatgLbYDK8yG4DopvhxG3pF1isKVNUmdYvVIqKbr0ZjVRaH6RGy5dzg1XToLcL4H4HJ+bVpOcqosRI+A3v7Grrz/7rH154w145JF91/V67eTnBRfAoYfCqafavTeHk9raDTz+eB1Tp9YyfXoteXkbWLDgCJYtO4j/+R+4804oLIQTT4STT4ajj4ZZs+y2c0r34eH2PKQLhqwnZc/7L6HMwZE4OmReqfQ33Tudj0IfsaR1CaXuUkrczs33rJxljKHJNLEnuof6WD17YnvYE93D9xZ/j2Vty4gS7bK+Bw9+8ZNv5eO3/PjEh1/sazfutO0ZLCLkSA45Vg5l3Ya7hkyI+mg9tbHavUnQaB1bw1u7tE+WZHUkP9t7fha6CsmV3LRtF6VSTuOzsP0yEA+U/cOer08ppVKduOw5Rt0j7aJie/4COV92OipNcmayaDRMefmGLsv21zute2+2GTPgoovs9RsaYNcuaG4Gj8dOhhYX79tDMRV76SVb556eAGeeWcvPfnYQe/bYhZ0WL4bXXoOFC+3H25PDc+faSeHJk2HSJBg50m5XrzfEmjW99yoMBkMsXbqGYNAiGLRoaorR2moRDvtobbVobbUoKZlIMOimuRkaGiJs2VJNJCIYI9TUZFFRcRpVVaMxBmpqsqms9FFTA243NDUV87vf7WTChC14vTF8vhhTp04gO9uD203HxeOxr10uu3dvOGxPUxAK7b0dDEJra9fLp5+WsmnTOCorRxOJQHV1EdFoFmvX2s9rbZ3Km2+2kpPTiGUZLAvy83PweCwCAcjKsueSzc7ee9vni1Bbu43s7Bg5OVH8/jZycqIUFAi5uVG8XnPAnpmJHDKfDj1D0yFGpfpDRDg9+3Qea3iMRc2LuCj3IvyW/8BPVGnJGEOLaaEuWkd9rL7juj5qJzU7J+osLHKtXJprmxnhGtGRwGy/Treh2pbLSlqC0XJZFI0vonRGKSMOGsGoKaMYNdW+ZBXsHTYbbAqya+Mudm7Yya4Nu9i9eTc1W2uo2VJD0+6mPu1Lq8SrYS/aALu+ZycG/IfB2KfAM8HpqFQa6XMhHAeHDqthwL8AXMXQuBD23Mc3v+K2iy2JM/P3aZIzg3WvHN69d1p/hi3n5UFe3t7ntLTAtm328zonRlKxl55T8vPh4ovtC9jD+//5T1i+3L4sWgQ7d+77PLfbDczFsgTLMhgTJi8PotH2RKEXOKwfkbixrJEdCelYLB8RF+74uz8aPYhYzM3Gje3rT2Tp0okDOOK+KsXliuHx2InSWKwYl0sQse8b08yuXREaGrIwRgiFWigsDOLzZdHWZtHWZidy7dvtP0zdwKRe92hZUQoKYhQX2/8vubkxROrJyYmSnx8hFILKykJaWuzEaVOTh2AwMuAjTIeeoekQo1L9lW1lc3bO2fyt8W8sbFrIl3K+pInONNcWa9sniVkXq6M+Wt9laLkLFwVWAYWuQiZ6JpLvyiffyqfAKiDXysUSiysvvJIrWq5w7mASJBaN8V7Le0ndx1FZR3XZhzGGCBFaTSutsVba8tsYeehIJs+bTIhQl+daWB3D+9sTyZ2H+7twISIclXVUUo9BqZTW8iZUXQ6RbfbQ9BE/B50eQvVTnwvhKJVsnoOg4JvQ9Dz/ceMnsO0LMPoe8B485KFokjPDde9l2NlAhi33JTHSuUdc92rlma5779lw2P4B5vF4gL09N2+7zU4MNzXBpk2wdas9z+nu3bB27U4+/FDIyhpNLAYNDbWMHt3AyJH5+P0xGht3UlFRSHHxeDwe2L79bVyuLKZOPQyvF2pqVnHMMZuYPfsg/P4oW7as4+23p1JWdgQAq1Y9ApQwd+4Z8ft/BUqYM+cMYjFYseIxYrGRTJv2eSIR2L59HV/8ojB58gyiUVi79hMeeWQbubkTMEaorPwQkQDjxk3H5YrR0LCFK68cz9y5n8PrhY0b1/CnP33MyJEH43bH+PTTv1NUtKDT/p/pFs8r3e4vpK6ujqlTj+lo1/XrFwEFTJlyDNGoxccfLyYn53AmTz6Rtjb4+OPFhMPFjBw5l2AQdu+uZvJkF15vCXv2QGVlC1u2WESjObS1uYnFxnT7n5zLY49Bbq7dw7akBEaPtuelHT0aSkoitLZuprg4THFxmKKiCIceOrtLL8h0KKaUDjEq1V+j3aM5K+csFjUt4qmmp/hi9hfJc+2/l4NyVtiEqY/W95jM7FxBXBDyrDwKrALG+sZSYBVQ4Cqg0Cokx8rBcqjHwHAgIh2FlPKsru+nqIkSNMF9Lm2mjYZYAzFiXda3sPCKl2ufvpaXm18m18olx7KH1edIDrlWLj7x6XB4lZnCW6H6Fru4kOdgmLAEApmR8E9kr8LZs6ZTWVW133Wam5v7FZ9SKsmsbMj9Kt/94X9x5y3vwaYZdoX5ET+FIfwurknOYW4gCcnOz7GTenufNxyGp+9P996z69e/DBR0SdB1Tgzn5MCcOfal3bJlldx7L5SWjgZg1aqXqKuro7DQ3sa2bYsoK1vA3Lnj449vBko65kOtrV3FokV1bNhQFo9hE4WFxQfsTStiDz33eMJAiPx8e3kw2MrMmdCex87ObmTVqgJKS6fE9/8ukMvcuVPi8dXidi/FmGaCQWhsLGfs2GmUlR0CQF3duv41Kvsm6+3Xagljx86Pb3Mt0MqoUfbj9fWVQIi5c+fGY9rMCSdsYMYMOzlfXl7Om29Oo6zsCIyB5csfIxgsZfz4E2huhoqKTxkzZg9u91jq6tzU1nrYsCGHt9+2qKkB+6NzSqcIDYWFEcaNsxOhHs9EKirCjB5tF+sKBnPYujXMtGl24lQplVyTPJP4Ys4XeaH5BR5tfJSTs05mimeKJk0cFDERGmINPSYzm0zX4c31VfXs2riL3Zt2s+vTXVRvrKb602pqttYQDUd72YNyiktcZEkWWexbBbq9B2h74jNkQh0XX46PbeFtNJtmDKbL89y49yY+rZy9iVDZe9svfn1Pq/QRbYDaX0Ht/wMsGHErjPihnRTIEInsVVhZVXXAbXlLf9Hn2NTg9SXxDJp87quMTeSL8NCzXu68bz1U/wRqfwN7HoKim6HganAVJD0ETXKqXvU0p2f3JOa+Sb3hOzy93b7V2Eu6JOi6J4a79/bsKVHcU4X3/sUwdFLxNbG/mOxh8mE8npaOGIPBd6iutnuP5uaCz7eaL3/ZzYwZMwiHhfff38zrr08nO3sWjY1QVVVBQUELsdhIKis9bN8eoL6+iFWr2iOYzt//bt/Kzu7aK7T9urjYnhIiNxf8/jA7dqwnOztGVpY9p+ghh8wkN9eLZQ1sPs3hOF+uGt4meCZwSe4lvND8Ai82v8hq92oW+BdQ5i7TxEiSREyko8hPewKzvfBPY6yxSyLLL34KrALKPGUdw8xPOuwk/vrPv+I6yAUHJT4+HR499Dr3AM0hp8tjV5xxBbFoDMtlkTsql4LSAvsytmCf23mj83C5u86dGmoNsadqD/VV9dRX1tvX3W6PyBmh836q1ND0PNT8J+R9HUpuB88w/rGk0lJfEs+gyee+yvhEvns0jPkLFH4Ldv0Aqn8ANf8O+VdB4bfBO+XA2xjorpO2ZZX2uieGoOeElZMJtXR0oN6eqZAU7Kx7srsvybFUfE0MNlG89//MsH79OgoLs5k2zZ6/dtWq1zuG1E+dag+nLyhYwNSpZ9DUBFu3fsIRR3gIBA5i+3aoqoqycWMzS5d6qKnx0NTU/aPYA8zsMS67t62LaHQ2breFZcUwJkhBQQu5uWG8XoPHE40XjQKv1+D1xmhpqWHbNh8FBYX4fFFqarIpKHBhDAQC0NbmJhod+DykSqWifFc+X839KutC63iv9T0WNi2kwCpgincK493jKXGX4BOdA60vJkycQHVdNQXjCigcV2hfxhZ23C8qKyK/NB/L2jtkvLmumd2bdlO9qZrdm3dT/ene65a6lh73k25FgNTA9WduUWMMYcJdeoIGc4KEpoQIHWzfDxPep0douC3Mg3se7OgNmi3ZXXqIZlvZZEu2TnWgki/vYvDNAv/cA66asT286NuQdkjf41NKdeM/DMYvhrYVdk/2uv+BurvsYkWj7oLAkQnfZcolOUXkC8BdgAv4szHmVw6HlDEGm6yC1ElYpbv99fZMtTZOxZ6ZTjhQkrSnx7Oy7EswWMvEiRuYMaMW2Fvk69BD7SRpZeU6Tj01m7Fjp9PS4qK8fBvLl08kN3cqoRDs3r2FiRNrKCgYTSQibN9ex9atIwgERhONwu7dlbS1RWltLaGpSWhqqicW8+Hx5BGNCtGoRTDoJxoNEIu1JxDs6p3vv99+BPMYP34LRxyRnPZTyaXnzt5ZYjHbN5vPeT/H+tB6Pgp9xLK2ZSxlKQCFViHFruIuSY/2Aile8eLFi0c8uMSFCxcWyatsPZSMMYSIJ4tMkGAsSItpoSXWQotpoTXW2uX+t976Fv7crkWcBOloI5/48Fl2oZn2i3uMG8YAx/QcQ3fa01L1RkTwYr8ne9NTIvSB+x7gm9/7Jk2micpIJc2x5n3mCBWELMki28ruMjdotpVNwAoQkAB+8ROwAnjxZsT7X9mG9NwpVp8SnJDZPbz6MqQd0vf4lNJE/v7bYHSxjwtOdXHh6cu45feX8PdXNiV8/ymV5BQRF/A/wKlABbBURJ4zxqRW1idNabJKDVQq9sxMJz2/9xZ0adNnnqlk6tSJ8cffo7Awyty59hNWrXqLnTvryM8/BpcLWloWMXVq5+JNS7CLNbXPk/osnYs32cvsAlMzZ55BW5td0CkcHkVZ2dG0tkJV1WfMndt1XjyVHvTc2TducTPDN4MZvhm0xdrYEd3BzshOdkZ3Uh2tZnN4MxH61pvZ1f5PDnxttf8Tiy7/5MC3BcESC4PBGLuHmun0r/P9mIkRIULURIkQIWIiRIkSMfbt9uRP+7yIQRPc7zEGJECWZBGwAoyyRvHcI8/x9eu+jle8HUlgDx5N+KiU0VMi9LmfP8ezP3u2474xhhbTQnOsmaZYE02mae/tWBN7onuojFT2+v6wsOyEpwTwW3bl+EKrkGOzjk368anE0nOnSoa+JLgyObmlNJEPfW+Dd6/o2xy9/ZVSSU5gAbDRGLMJQEQeB84Fknay6ZywqavbDNRRVVWSwfcLuhx/Xd36Pj8/dY4hfe+nQgzpfj8VYkjOe2+wj/etzXbtspeFw6uBAgIBL4EARKPlTJo0A5WWhvzcORQsV/J7THq8HsKhcMf9QH6AvNF5+HP9XS6+bB8unwu3143b58btiV/H77u8ri733V774vK68Pg8iCW4PC4st4Xlsjpuu9zxa49rn/kGByIWixFuDRNuCxMJRgi3xW+3RQi1hGhtaKWtoY3WPa20Nna63dBKa30rjdWNNFY30lLbQiwa22f7P7jxB4OOUamhNNDPEW+Wl9yRueSMyCG7KNu+jOh6nTMiB3+en7aaNo49T5OcaWjIz51auCXz9SW5k8nJLaVSgbT3DEgFInIB8AVjzDfi978OHGGMua7TOtcA18TvTgM+GeRui4Hdg9yG0zLhGECPI9XocaSWdDiOCcaYkgOvphKpL+fO+PJEnj/T4fU4VLQtutL26ErbYy9ti67a20PPnQ7Qc2e/pWvsGvfQS9fYNe6hN9jYezx/plpPzp7+1NolC2uMuRe4N2E7FFlmjJl/4DVTVyYcA+hxpBo9jtSSKcehkuKA505I7PlTX497aVt0pe3RlbbHXtoWXWl7OE7Pnf2QrrFr3EMvXWPXuIdesmJPtVKCFUDnGSLHAQfu06+UUkoNX3ruVEoppfpHz51KKZWBUi3JuRSYIiKTRMQLXAQ853BMSimlVCrTc6dSSinVP3ruVEqpDJRSw9WNMRERuQ54CXAB9xtj1iV5twkb+u6gTDgG0ONINXocqSVTjkMlmJ47Hadt0ZW2R1faHntpW3Sl7eEgPXf2W7rGrnEPvXSNXeMeekmJPaUKDymllFJKKaWUUkoppVR/pdpwdaWUUkoppZRSSimllOoXTXIqpZRSSimllFJKKaXS2rBNcopIgYj8TUQ+FpGPROQop2MaCBH5roisE5G1IvKYiPidjqkvROR+EdklIms7LSsSkVdEZEP8utDJGPuil+O4I/66Wi0iC0WkwMEQ+6Sn4+j02M0iYkSk2InY+qO34xCR74jIJ/H3yq+diq8venlNzROR90VkpYgsE5EFTsaohhcRuSF+jlknIjfGlw3b12Qv7TFXRN4TkTUi8ryI5DkcZtL09/wtIreIyMb4Z/DpzkSdHP1pCxEZISKvi0iTiNztXNTJ08/2OFVElsffM8tF5GTnIk+8frbFgvhn6UoRWSUiX3IucpVIIrIl/hpfKSLL4sv+TUQqO/2fn+l0nN319Ds5HX6n9RJ3OrT3tE7xrRSRBhG5MdXbfD9xp0Obf1e65VBSvb2h17hTvr2h1+/PSWnzYZvkBO4C/mGMmQ7MBT5yOJ5+E5GxwPXAfGPMLOxJsy9yNqo+exD4QrdlPwIWG2OmAIvj91Pdg+x7HK8As4wxc4D1wC1DHdQAPMi+x4GIlAGnAp8NdUAD9CDdjkNETgLOBeYYY2YCv3Egrv54kH3/L34N/MIYMw/4Wfy+UkknIrOAq4EF2OfKs0VkCsP0Nbmf9vgz8CNjzGxgIfB956JMugfp4/lbRGZgfy+ZGX/OPSLiGrpQk+5B+v5dpg24Fbh5yKIbeg/S9/bYDXwx/p65HHh4qIIcIg/S97ZYi/1dfl78OX8SkZQqDqsG5SRjzDxjzPxOy+6ML5tnjHnBsch619Pv5HT4ndbb7/uUbm9jzCft8QGHAS3Y3yVSus33EzekcJvvJ4eS0u19gNxPyrY37Pf7c1LafFgmOcXuYXE88BcAY0zIGFPvaFAD5wYC8S9DWUCVw/H0iTHmLaC22+JzgYfitx8CzhvKmAaip+MwxrxsjInE774PjBvywPqpl/8PgDuBHwBpUaGsl+O4FviVMSYYX2fXkAfWD70cgwHae4blkybvc5URPge8b4xpiX+uvQl8ieH7muytPaYBb8XXeQX4skPxJV0/z9/nAo8bY4LGmM3ARuwvuBmhP21hjGk2xizBTnZmpH62xwpjTPvnxjrALyK+oYhzKPSzLVo6fW/0kybfuVRm2s/v5JT+nZZBv+8/D3xqjNlKird5N53jTgc95VDSob3TMvdD79+fk9LmwzLJCRwEVAMPiMgKEfmziGQ7HVR/GWMqsXulfQZsB/YYY152NqpBGWWM2Q4Qvx7pcDyJ8C/Ai04HMRAicg5QaYxZ5XQsgzQVOE5E/ikib4rI4U4HNAA3AneIyDbs93w69A5WmWEtcLzYQ22zgDOBMobva7K39lgLnBNf58L4suGkt/P3WGBbp/Uq4ssyWSZ+lxmMvrTHl4EV7X+MzGC9toWIHCEi64A1wDc7JT1VejPAy2JPyXBNp+XXiT2t1f0pOCS2t9/Jqf7Ztr/f96nc3t1dBDwWv53qbd5Z57ghhdt8PzmUlG7vA+R+Ura943r7/pyUNh+uSU43cCjwB2PMIUAzKdYduS/iL+BzgUlAKZAtIpc6G5VqJyI/ASLAI07H0l/xD5+fYA9DTXduoBA4EnsI6RMiIs6G1G/XAt81xpQB3yX+V2qlks0Y8xHwX9i9E/8BrML+XBuWr8n9tMe/AN8WkeVALhByLMjU0tNnrfZSUx1EZCb2e+pfnY7FScaYf8an1DkcuEXSZI59dUDHGGMOBc7APkccD/wBmAzMw05U/Na58HqUrr+Te4s71du7g4h4sf9g+qTTsfRHD3GndJunaw5lP3GndHvDfr8/J8VwTXJWABXGmH/G7/8N+0Mx3ZwCbDbGVBtjwsDTwNEOxzQYO0VkDED8OqWHFe+PiFwOnA18zRiTjj/oJmN/gK4SkS3YQ+4/FJHRjkY1MBXA08b2ARADUr6IUjeXY7+/wf4CkTHDPVXqM8b8xRhzqDHmeOzhlxsYxq/JntrDGPOxMeY0Y8xh2D0ZPnU2yiHX2/m7gq69WseRPkOrBipjvsskSK/tISLjsOdvu8wYMxzeMwd8bcR/CDYDs4Y4NpUE7VMyxKdKWggsMMbsNMZEjTEx4D5S7/zZ2+/kVP9s6zHuNGjvzs4APjTG7IzfT/U2b9cl7jRo895yKKne3j3GnQbtDfT6eyIpbT4sk5zGmB3ANhGZFl/0eaDcwZAG6jPgSBHJivdM+zxpWECpk+ewfzgTv37WwVgGTES+APwQOMcY0+J0PANhjFljjBlpjJlojJmI/cXh0Ph7J908A5wMICJTAS92wYN0UgWcEL99MvZJQakhISIj49fjgfOxk3jD9jXZU3t0WmYBPwX+6FyEjujt/P0ccJGI+ERkEjAF+MCB+IZSRnyXSaAe20NECoBFwC3GmHecCW3I9dYWk9oLDYnIBOw5frc4EaBKHBHJFpHc9tvAacDa9h/0cV/CHsaZMvbzOzmlP9t6izvV27ubi+k65Dul27yTLnGnQZv3lkNJ9fbuMe40aG+g198TSWlzSc9OZoMnIvOwq6F6gU3AlcaYOkeDGgAR+QXwVezuviuAb6TDnEYi8hhwInaPup3Az7GTUU8A47HfxBcaY3oqhpMyejmOWwAfUBNf7X1jzDcdCbCPejoOY8xfOj2+BbuSW0onB3v5/3gYuB+7C38IuNkY85pDIR5QL8fwCXbFSDd20YpvGWOWOxWjGl5E5G1gBBAGvmeMWSwixzJMX5O9tMcNwLfjqzyNnbjJyC9Y/T1/x6du+Rfs7yk3GmPScp7qngygLbZgF+zyAvXAacaYdPwje4/60x4i8lPs70ud/0Bymknx4oB91c+2+Dr2sNow9miTfzfGPDP0UatEEpGD2Ftp2g08aoy5XUQexv5OarCT2f/aPiddqujpdzJ256iU/p3WS9y/I8XbGzqmCtsGHGSM2RNfNoLUb/Oe4k6H1/g+ORQgh9Rv757i/jMp3t7Q6/fnpLzGh22SUymllFJKKaWUUkoplRmG5XB1pZRSSimllFJKKaVU5tAkp1JKKaWUUkoppZRSKq1pklMppZRSSimllFJKKZXWNMmplFJKKaWUUkoppZRKa5rkVEoppZRSSimllFJKpTVNcio1hEQkKiIrRWSViHwoIkfHl2eJyCMiskZE1orIEhHJcTpepZRSaiB6O9/14/kPisgF+3n8n/HtfyYi1fHbK0Vk4qCDV0oppRwiIk3d7l8hIncnaNsTReSSTvdPFJE9IrJCRD4Wkd/0YRvniciMRMSjVDK4nQ5AqWGm1RgzD0BETgf+EzgBuAHYaYyZHX9sGhB2KkillFJqkHo73yWEMeaI+LavAOYbY65L1LaVUkqpTCMibmAicAnwaKeH3jbGnC0iAWCFiCw0xryzn02dB/wdKE9WrEoNhvbkVMo5eUBd/PYYoLL9AWPMJ8aYoCNRKaWUUonVcb4T2x3xUQtrROSrnZbfLSLlIrIIGBlf/nkRWdi+IRE5VUSe7mknIjJZRP4hIstF5G0RmR5f/qCI/EFEXheRTSJygojcLyIficiDnZ7fJCK/jfc8XSwiJUlrEaWUUqqfRKRERJ4SkaXxyzHx5QtE5N14j8x34x1m2nuBPikizwMvA78CjouPfPhu520bY1qBlcDY+HOvju9jVXyfWfFRGecAd8S3Mbm3c69STtGenEoNrYCIrAT82InNk+PL7wdejg/NWww8ZIzZ4EyISiml1KD1dr47H5gHzAWKgaUi8hZwFDANmA2Mwu4hcj/wGvA/IlJijKkGrgQe6GWf9wLfNMZsEJEjgHs67bcwfvsc4HngGOAb8f3PM8asBLKBD40xN4nIz4CfA9pDVCml1FBqP3+2KwKei9++C7jTGLNERMYDLwGfAz4GjjfGRETkFOA/gC/Hn3MUMMcYUysiJwI3G2POBnu4evtORKQQmAK8FV/0tDHmvvhjtwFXGWN+LyLPAX83xvwt/thiej/3KjXkNMmp1NDqPHzvKOB/RWSWMWaliBwEnAacgv2j6yhjzEcOxqqUUkoNVI/nO+BY4DFjTBTYKSJvAocDx3daXiUirwEYY4yIPAxcKiIPYP9Yu6z7zsSex/po4EkRaV/s67TK8/FtrcGeHmZN/HnrsIfvrQRiwF/j6/8f0GOPUaWUUiqJOs6fsHdalvjdU4AZnc5zeSKSC+QDD4nIFMAAnk7be8UYU7uf/R0nIqux/9D4K2PMjvjyWfHkZgGQg51Q7aIP516lhpwmOZVyiDHmPREpBkqAXcaYJuwfVE+LSAw4E9Akp1JKqbTW7Xwn+1u1l+UPYPe+bAOeNMZEeljHAuo7/zDspn0KmFin2+33e/s+3Fs8SimllBMs4Kj40PIOIvJ74HVjzJfELsD3RqeHmw+wzfY5OacCS+Jzcq4EHgTOM8asiidaT+wlnv2de5Uacjonp1IOic9X4gJqROSY+BABRMQLzAC2OhmfUkoplQidz3fYw+C+KiKu+JyXxwMfxJdfFF8+Bjip/fnGmCqgCvgp9o+ufRhjGoDNInJhfJ8iInP7GaoFtFd0vwRY0s/nK6WUUsn0Mp2mURGRefGb+eyt73DFfp7fCOT29IAxZj12kcAfxhflAttFxAN8radtJOjcq1RCaZJTqaEViE/SvBJ7SNzl8aF5k4E348PoVgDLgKecC1MppZQalN7OdwuB1cAq7Pk2fxAfGrcQ2ACsAf4AvNlte48A24wx+6vm+jXgKhFZBawDzu1nzM3ATBFZjj2f2L/38/lKKaVUMl0PzBeR1SJSDnwzvvzXwH+KyDvYf1TszWogEi8m9N0eHv8jcLyITAJuBf4JvII952e7x4Hvx4scTWbw516lEkqM0ZE4SimllFIqdYnI3cAKY8xfkriPJmNMTrK2r5RSSimlkkuTnEoppZRSKmXFe1Y2A6caY4IHWn8Q+9Ekp1JKKaVUGtMkp1JKKaWUUkoppZRSKq3pnJxKKaWUUkoppZRSSqm0pklOpZRSSimllFJKKaVUWtMkp1JKKaWUUkoppZRSKq1pklMppZRSSimllFJKKZXWNMmplFJKKaWUUkoppZRKa/8f4Q48YxUW0NQAAAAASUVORK5CYII=\n",
      "text/plain": [
       "<Figure size 1656x1080 with 6 Axes>"
      ]
     },
     "metadata": {
      "needs_background": "light"
     },
     "output_type": "display_data"
    }
   ],
   "source": [
    "#Check for normality of the data set \n",
    "#Distribution of continuous variables in one plot\n",
    "plt.figure(figsize=(23,15))\n",
    "plt.subplots_adjust(wspace=0.3, hspace=0.3)\n",
    "\n",
    "plt.subplot(2, 3, 1)\n",
    "sns.histplot(data_train['Age'], color='g', kde=True)\n",
    "plt.title('Distribution of Age')\n",
    "\n",
    "plt.subplot(2, 3, 2)\n",
    "sns.histplot(data_train['SystolicBP'], color='r', kde=True)\n",
    "plt.title('Distribution of SystolicBP')\n",
    "\n",
    "plt.subplot(2, 3, 3)\n",
    "sns.histplot(data_train['DiastolicBP'], color='purple', kde=True)\n",
    "plt.title('Distribution of DiastolicBP')\n",
    "\n",
    "plt.subplot(2, 3, 4)\n",
    "sns.histplot(data_train['BS'], color='blue', kde=True)\n",
    "plt.title('Distribution of BS')\n",
    "\n",
    "plt.subplot(2, 3, 5)\n",
    "sns.histplot(data_train['BodyTemp'], color='lightgreen', kde=True)\n",
    "plt.title('Distribution of BodyTemp')\n",
    "\n",
    "plt.subplot(2, 3, 6)\n",
    "sns.histplot(data_train['HeartRate'], color='gold', kde=True)\n",
    "plt.title('Distribution of HeartRate')"
   ]
  },
  {
   "cell_type": "markdown",
   "id": "550d5a88",
   "metadata": {},
   "source": [
    "##### By visual inspection the variables are not normally distributed "
   ]
  },
  {
   "cell_type": "code",
   "execution_count": 9,
   "id": "c61ee86e",
   "metadata": {},
   "outputs": [
    {
     "data": {
      "image/png": "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\n",
      "text/plain": [
       "<Figure size 1080x360 with 6 Axes>"
      ]
     },
     "metadata": {
      "needs_background": "light"
     },
     "output_type": "display_data"
    }
   ],
   "source": [
    "#Using Q-Q plot to determine normal distribution of the variables\n",
    "fig, axs = plt.subplots(1, 6, figsize=(15, 5))\n",
    "variables = ['Age', 'SystolicBP', 'DiastolicBP', 'BS', 'BodyTemp', 'HeartRate']\n",
    "for i, col in enumerate(variables):\n",
    "    stats.probplot(data_train[col], dist= \"norm\", plot=axs[i])\n",
    "    axs[i].set_title(f\"Q-Q Plot for {col}\")\n",
    "    axs[i].set_xlabel('Theoretical Quantiles')\n",
    "    axs[i].set_ylabel('Ordered Values')\n",
    "plt.tight_layout()\n",
    "plt.show()\n",
    "#plt.figure(figsize=(6, 6))\n",
    "#stats.probplot(data_train, dist= \"norm\", plot=plt)"
   ]
  },
  {
   "cell_type": "markdown",
   "id": "0d3e00e2",
   "metadata": {},
   "source": [
    "#### The Q-Q plots confirms that the continuous variables are not normally distributed "
   ]
  },
  {
   "cell_type": "markdown",
   "id": "ca94ffb9",
   "metadata": {},
   "source": [
    "### #Using Shapiro Wilt test to confirm normality of the variables \n",
    "#### #Null Hypothesis: Age is normally distributed\n",
    "#### #Alternative Hypothesis: Age is not normally distributed"
   ]
  },
  {
   "cell_type": "code",
   "execution_count": 10,
   "id": "232fa02a",
   "metadata": {},
   "outputs": [],
   "source": [
    "#Import shapiro from scipy_stats\n",
    "from scipy.stats import shapiro"
   ]
  },
  {
   "cell_type": "code",
   "execution_count": 11,
   "id": "aa0198a2",
   "metadata": {},
   "outputs": [
    {
     "name": "stdout",
     "output_type": "stream",
     "text": [
      "The data does not look Gaussian (reject H0)\n"
     ]
    }
   ],
   "source": [
    "statistic, p_value = shapiro(data_train['Age'])\n",
    "statistic, p_value\n",
    "# Interpret the results\n",
    "alpha = 0.05 # Significance level\n",
    "if p_value > alpha:\n",
    "    print(\"The data looks Gaussian (fail to reject H0)\")\n",
    "else:\n",
    "    print(\"The data does not look Gaussian (reject H0)\")"
   ]
  },
  {
   "cell_type": "code",
   "execution_count": 12,
   "id": "f2047af3",
   "metadata": {},
   "outputs": [
    {
     "name": "stdout",
     "output_type": "stream",
     "text": [
      "The data does not look Gaussian (reject H0)\n"
     ]
    }
   ],
   "source": [
    "statistic, p_value = shapiro(data_train['SystolicBP'])\n",
    "statistic, p_value\n",
    "# Interpret the results\n",
    "alpha = 0.05 # Significance level\n",
    "if p_value > alpha:\n",
    "    print(\"The data looks Gaussian (fail to reject H0)\")\n",
    "else:\n",
    "    print(\"The data does not look Gaussian (reject H0)\")"
   ]
  },
  {
   "cell_type": "code",
   "execution_count": 13,
   "id": "96c01aeb",
   "metadata": {},
   "outputs": [
    {
     "name": "stdout",
     "output_type": "stream",
     "text": [
      "The data does not look Gaussian (reject H0)\n"
     ]
    }
   ],
   "source": [
    "statistic, p_value = shapiro(data_train['DiastolicBP'])\n",
    "statistic, p_value\n",
    "# Interpret the results\n",
    "alpha = 0.05 # Significance level\n",
    "if p_value > alpha:\n",
    "    print(\"The data looks Gaussian (fail to reject H0)\")\n",
    "else:\n",
    "    print(\"The data does not look Gaussian (reject H0)\")"
   ]
  },
  {
   "cell_type": "code",
   "execution_count": 14,
   "id": "1ec80825",
   "metadata": {},
   "outputs": [
    {
     "name": "stdout",
     "output_type": "stream",
     "text": [
      "The data does not look Gaussian (reject H0)\n"
     ]
    }
   ],
   "source": [
    "statistic, p_value = shapiro(data_train['BS'])\n",
    "statistic, p_value\n",
    "# Interpret the results\n",
    "alpha = 0.05 # Significance level\n",
    "if p_value > alpha:\n",
    "    print(\"The data looks Gaussian (fail to reject H0)\")\n",
    "else:\n",
    "    print(\"The data does not look Gaussian (reject H0)\")"
   ]
  },
  {
   "cell_type": "code",
   "execution_count": 15,
   "id": "e7d2c4d2",
   "metadata": {},
   "outputs": [
    {
     "name": "stdout",
     "output_type": "stream",
     "text": [
      "The data does not look Gaussian (reject H0)\n"
     ]
    }
   ],
   "source": [
    "statistic, p_value = shapiro(data_train['BodyTemp'])\n",
    "statistic, p_value\n",
    "# Interpret the results\n",
    "alpha = 0.05 # Significance level\n",
    "if p_value > alpha:\n",
    "    print(\"The data looks Gaussian (fail to reject H0)\")\n",
    "else:\n",
    "    print(\"The data does not look Gaussian (reject H0)\")"
   ]
  },
  {
   "cell_type": "code",
   "execution_count": 16,
   "id": "8bf8312c",
   "metadata": {},
   "outputs": [
    {
     "name": "stdout",
     "output_type": "stream",
     "text": [
      "The data does not look Gaussian (reject H0)\n"
     ]
    }
   ],
   "source": [
    "statistic, p_value = shapiro(data_train['HeartRate'])\n",
    "statistic, p_value\n",
    "# Interpret the results\n",
    "alpha = 0.05 # Significance level\n",
    "if p_value > alpha:\n",
    "    print(\"The data looks Gaussian (fail to reject H0)\")\n",
    "else:\n",
    "    print(\"The data does not look Gaussian (reject H0)\")"
   ]
  },
  {
   "cell_type": "markdown",
   "id": "3d46ba00",
   "metadata": {},
   "source": [
    "#### The histogram, Q-Q and the Shapiro Wilt test all have show that the continuous variables train the data set are not normally distributed. Thus we need to log transform the variables"
   ]
  },
  {
   "cell_type": "markdown",
   "id": "d2efa5bf",
   "metadata": {},
   "source": [
    "### Data Preprocessing "
   ]
  },
  {
   "cell_type": "code",
   "execution_count": 17,
   "id": "411c6b8d",
   "metadata": {
    "scrolled": true
   },
   "outputs": [
    {
     "data": {
      "image/png": "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\n",
      "text/plain": [
       "<Figure size 720x360 with 2 Axes>"
      ]
     },
     "metadata": {
      "needs_background": "light"
     },
     "output_type": "display_data"
    }
   ],
   "source": [
    "# Convert categorical target column into numeric\n",
    "\n",
    "from sklearn.preprocessing import LabelEncoder\n",
    "\n",
    "# Initialize LabelEncoder\n",
    "label_encoder = LabelEncoder()\n",
    "\n",
    "# Encode the 'RiskLevel' column\n",
    "data_train['EncodedRiskLevel'] = label_encoder.fit_transform(data_train['RiskLevel'])\n",
    "\n",
    "# Count the occurrences of each label before encoding\n",
    "before_encode_counts = data_train['RiskLevel'].value_counts().sort_index()\n",
    "\n",
    "# Count the occurrences of each label after encoding\n",
    "after_encode_counts = data_train['EncodedRiskLevel'].value_counts().sort_index()\n",
    "\n",
    "# Plotting\n",
    "plt.figure(figsize=(10, 5))\n",
    "\n",
    "plt.subplot(1, 2, 1)\n",
    "before_encode_counts.plot(kind='bar', color='skyblue')\n",
    "plt.title('Before Encoding')\n",
    "plt.xlabel('Risk Level')\n",
    "plt.ylabel('Count')\n",
    "plt.xticks(rotation=45)\n",
    "\n",
    "plt.subplot(1, 2, 2)\n",
    "after_encode_counts.plot(kind='bar', color='lightgreen')\n",
    "plt.title('After Encoding')\n",
    "plt.xlabel('Encoded Risk Level')\n",
    "plt.ylabel('Count')\n",
    "plt.xticks(rotation=0)\n",
    "\n",
    "plt.tight_layout()\n",
    "plt.show()"
   ]
  },
  {
   "cell_type": "markdown",
   "id": "b0738df2",
   "metadata": {},
   "source": [
    "- As you can see here the categories of the risk level is not balanced, this will affect the performance of the model  \n",
    "- you will need to balance the data. that is the three categories most be the same (Use SMOTE library for this)"
   ]
  },
  {
   "cell_type": "markdown",
   "id": "4f7ab53c",
   "metadata": {},
   "source": [
    "### SMOTE\n",
    "The plots above shows that the RiskLevel are not balanced, \n",
    "the bar plot demonstrated that the data among the three classes of interest was not balanced, \n",
    "with the 'low risk' class having the greatest data values when compared to the other classes. \n",
    "The data need to be balanced data improve the model performance. Balancing a dataset facilitates model training by preventing \n",
    "the model from becoming biased towards one class. There are several ways to resolve the problems of imbalanced data such as \n",
    "undersampling, oversampling or using the Synthetic Minority Oversampling Technique (SMOTE) method. \n",
    "SMOTE is a statistical technique for increasing the number of cases in your dataset in a balanced way. It is one of the most \n",
    "commonly used oversampling methods to solve the imbalance problem. It aims to balance class distribution by randomly increasing minority class examples by replicating them. \n",
    "SMOTE synthesises new minority instances between existing minority instances. This balancing technique was utilized in this project."
   ]
  },
  {
   "cell_type": "code",
   "execution_count": 18,
   "id": "0f2148e2",
   "metadata": {
    "scrolled": true
   },
   "outputs": [
    {
     "name": "stdout",
     "output_type": "stream",
     "text": [
      "Requirement already satisfied: imbalanced-learn in c:\\users\\ayembilla\\anaconda3\\lib\\site-packages (0.12.0)\n",
      "Requirement already satisfied: joblib>=1.1.1 in c:\\users\\ayembilla\\anaconda3\\lib\\site-packages (from imbalanced-learn) (1.3.2)\n",
      "Requirement already satisfied: scipy>=1.5.0 in c:\\users\\ayembilla\\anaconda3\\lib\\site-packages (from imbalanced-learn) (1.7.3)\n",
      "Requirement already satisfied: numpy>=1.17.3 in c:\\users\\ayembilla\\anaconda3\\lib\\site-packages (from imbalanced-learn) (1.21.5)\n",
      "Requirement already satisfied: scikit-learn>=1.0.2 in c:\\users\\ayembilla\\anaconda3\\lib\\site-packages (from imbalanced-learn) (1.0.2)\n",
      "Requirement already satisfied: threadpoolctl>=2.0.0 in c:\\users\\ayembilla\\anaconda3\\lib\\site-packages (from imbalanced-learn) (2.2.0)\n",
      "Note: you may need to restart the kernel to use updated packages.\n"
     ]
    }
   ],
   "source": [
    "pip install imbalanced-learn"
   ]
  },
  {
   "cell_type": "code",
   "execution_count": 19,
   "id": "e37727a9",
   "metadata": {
    "scrolled": true
   },
   "outputs": [
    {
     "name": "stdout",
     "output_type": "stream",
     "text": [
      "(4788, 6)\n",
      "(4788,)\n"
     ]
    }
   ],
   "source": [
    "# Drop the target column from the training set to create X_train\n",
    "X_train = data_train.drop(['EncodedRiskLevel', 'RiskLevel'], axis=1)\n",
    "# Set y_train as the target variable\n",
    "y_train = data_train['EncodedRiskLevel']\n",
    "\n",
    "# Apply SMOTE to the training data\n",
    "smote = SMOTE()\n",
    "X_train_smote, y_train_smote = smote.fit_resample(X_train, y_train)\n",
    "\n",
    "print(X_train_smote.shape)\n",
    "print(y_train_smote.shape)"
   ]
  },
  {
   "cell_type": "code",
<<<<<<< Updated upstream
   "execution_count": 20,
   "id": "c692e287",
=======
   "execution_count": 24,
   "id": "719cf502",
>>>>>>> Stashed changes
   "metadata": {
    "scrolled": true
   },
   "outputs": [
    {
     "data": {
      "image/png": "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\n",
      "text/plain": [
       "<Figure size 576x360 with 1 Axes>"
      ]
     },
     "metadata": {
      "needs_background": "light"
     },
     "output_type": "display_data"
    }
   ],
   "source": [
    "# Assuming y_train_smote is your pandas Series\n",
    "plt.figure(figsize=(8, 5))\n",
    "y_train_smote.value_counts().plot(kind='bar', color='skyblue')\n",
    "plt.title('Distribution of y_train_smote')\n",
    "plt.xlabel('Class')\n",
    "plt.ylabel('Count')\n",
    "plt.xticks(rotation=0)\n",
    "plt.show()"
   ]
  },
  {
   "cell_type": "markdown",
   "id": "4527ffd7",
   "metadata": {},
   "source": [
    "## Data split x and y"
   ]
  },
  {
   "cell_type": "code",
<<<<<<< Updated upstream
   "execution_count": 21,
   "id": "a24c1042",
=======
   "execution_count": 25,
   "id": "59ae7afa",
>>>>>>> Stashed changes
   "metadata": {
    "scrolled": true
   },
   "outputs": [],
   "source": [
    "# Split the dataset into training and testing sets\n",
    "X_train, X_val, y_train, y_val = train_test_split(X_train_smote, y_train_smote, test_size=0.2, random_state=42)"
   ]
  },
  {
   "cell_type": "markdown",
   "id": "6ab5a340",
   "metadata": {},
   "source": [
    "## Training models to determine the best performing model "
   ]
  },
  {
   "cell_type": "markdown",
   "id": "03f0e3d6",
   "metadata": {},
   "source": [
    "### Training a Logistic Regression Model"
   ]
  },
  {
   "cell_type": "code",
   "execution_count": 22,
   "id": "786fb232",
   "metadata": {},
   "outputs": [
    {
     "name": "stdout",
     "output_type": "stream",
     "text": [
      "Accuracy:  0.5271398747390397\n",
      "Precision:  0.5278145058591532\n"
     ]
    },
    {
     "name": "stderr",
     "output_type": "stream",
     "text": [
      "C:\\Users\\Ayembilla\\anaconda3\\lib\\site-packages\\sklearn\\linear_model\\_logistic.py:814: ConvergenceWarning: lbfgs failed to converge (status=1):\n",
      "STOP: TOTAL NO. of ITERATIONS REACHED LIMIT.\n",
      "\n",
      "Increase the number of iterations (max_iter) or scale the data as shown in:\n",
      "    https://scikit-learn.org/stable/modules/preprocessing.html\n",
      "Please also refer to the documentation for alternative solver options:\n",
      "    https://scikit-learn.org/stable/modules/linear_model.html#logistic-regression\n",
      "  n_iter_i = _check_optimize_result(\n"
     ]
    }
   ],
   "source": [
    "# Step 1: Import Libraries\n",
    "from sklearn.linear_model import LogisticRegression\n",
    "from sklearn.metrics import accuracy_score, confusion_matrix, classification_report\n",
    "from sklearn.metrics import precision_score\n",
    "\n",
    "# Step 2: Train logistic regression model\n",
    "log_model = LogisticRegression()\n",
    "log_model.fit(X_train, y_train)\n",
    "\n",
    "# Step 3: Make predictions\n",
    "y_pred = log_model.predict(X_val)\n",
    "\n",
    "# Step 4: Evaluating the model's performance using accuracy as the metric\n",
    "accuracy = accuracy_score(y_val, y_pred)\n",
    "print(\"Accuracy: \", accuracy)\n",
    "\n",
    "# Step 5: Evaluating the model's performance using precision as the metric\n",
    "precision = precision_score(y_val, y_pred, average = 'weighted')\n",
    "print(\"Precision: \", precision)"
   ]
  },
  {
   "cell_type": "markdown",
   "id": "2e63b07f",
   "metadata": {},
   "source": [
    "### Training k-Nearest Neighbors (k-NN)"
   ]
  },
  {
   "cell_type": "code",
   "execution_count": 23,
   "id": "cbbf7896",
   "metadata": {},
   "outputs": [
    {
     "name": "stdout",
     "output_type": "stream",
     "text": [
      "Accuracy:  0.5887265135699373\n",
      "Precision:  0.5807551808773818\n"
     ]
    }
   ],
   "source": [
    "#Step 1: Importing relevant libraries\n",
    "from sklearn.neighbors import KNeighborsClassifier\n",
    "from sklearn.metrics import accuracy_score, confusion_matrix, classification_report\n",
    "from sklearn.metrics import precision_score\n",
    "\n",
    "# Step 2: Train KNeighborsClassifier model\n",
    "KNN_model = KNeighborsClassifier()\n",
    "KNN_model.fit(X_train, y_train)\n",
    "\n",
    "# Step 3: Make predictions\n",
    "y_pred = KNN_model.predict(X_val)\n",
    "\n",
    "# Step 4: Evaluating the model's performance using accuracy as the metric\n",
    "accuracy = accuracy_score(y_val, y_pred)\n",
    "print(\"Accuracy: \", accuracy)\n",
    "\n",
    "# Step 5: Evaluating the model's performance using precision as the metric\n",
    "precision = precision_score(y_val, y_pred, average = 'weighted')\n",
    "print(\"Precision: \", precision)"
   ]
  },
  {
   "cell_type": "markdown",
   "id": "a363ec2c",
   "metadata": {},
   "source": [
    "### Training Random Forest Model"
   ]
  },
  {
   "cell_type": "code",
   "execution_count": 24,
   "id": "2656f6cb",
   "metadata": {},
   "outputs": [
    {
     "name": "stdout",
     "output_type": "stream",
     "text": [
      "Accuracy:  0.6315240083507306\n",
      "Precision:  0.6241160141795717\n"
     ]
    }
   ],
   "source": [
    "# Step 1: Importing relevant libraries\n",
    "from sklearn.ensemble import RandomForestClassifier\n",
    "from sklearn.metrics import accuracy_score, confusion_matrix, classification_report\n",
    "from sklearn.metrics import precision_score\n",
    "\n",
    "# Step 2: Train Random Forest Classifier model\n",
    "RF_model = RandomForestClassifier() \n",
    "RF_model.fit(X_train, y_train)\n",
    "\n",
    "# Step 3: Make predictions\n",
    "y_pred = RF_model.predict(X_val)\n",
    "\n",
    "# Step 4:  Evaluating the model's performance using accuracy as the metric\n",
    "from sklearn.metrics import accuracy_score\n",
    "accuracy = accuracy_score(y_val, y_pred)\n",
    "print(\"Accuracy: \", accuracy)\n",
    "\n",
    "# Step 5: Evaluating the model's performance using precision as the metric\n",
    "precision = precision_score(y_val, y_pred, average = 'weighted')\n",
    "print(\"Precision: \", precision)"
   ]
  },
  {
   "cell_type": "markdown",
   "id": "ef1c0e7c",
   "metadata": {},
   "source": [
    "### Training Support Vector Machine Model"
   ]
  },
  {
   "cell_type": "code",
   "execution_count": 25,
   "id": "f93afb7f",
   "metadata": {},
   "outputs": [
    {
     "name": "stdout",
     "output_type": "stream",
     "text": [
      "Accuracy:  0.5313152400835073\n",
      "Precision:  0.533253284973527\n"
     ]
    }
   ],
   "source": [
    "import numpy as np\n",
    "import pandas as pd\n",
    "import imblearn\n",
    "from imblearn.over_sampling import SMOTE\n",
    "from sklearn.datasets import make_classification\n",
    "from sklearn.model_selection import train_test_split\n",
    "from sklearn.ensemble import RandomForestClassifier\n",
    "from sklearn.metrics import classification_report, accuracy_score\n",
    "# Step 1: Trying Support Vector Machine Classifier\n",
    "from sklearn.svm import SVC\n",
    "\n",
    "# Step 4: Train Random Forest Classifier model\n",
    "SVC_model = SVC()\n",
    "# Trained the model\n",
    "SVC_model.fit(X_train, y_train)\n",
    "\n",
    "# Step 5: Make predictions\n",
    "y_pred = SVC_model.predict(X_val)\n",
    "\n",
    "# Step 6: Evaluating the model's performance using accuracy as the metric\n",
    "from sklearn.metrics import accuracy_score\n",
    "accuracy = accuracy_score(y_val, y_pred)\n",
    "print(\"Accuracy: \", accuracy)\n",
    "\n",
    "# Step 5: Evaluating the model's performance using precision as the metric\n",
    "precision = precision_score(y_val, y_pred, average = 'weighted')\n",
    "print(\"Precision: \", precision)"
   ]
  },
  {
   "cell_type": "markdown",
   "id": "b0d1f44a",
   "metadata": {},
   "source": [
    "#### Since all the models are performing between 52% and 55.5%. Normalize the data "
   ]
  },
  {
   "cell_type": "markdown",
   "id": "1a9f2444",
   "metadata": {},
   "source": [
    "## Performing normalization"
   ]
  },
  {
   "cell_type": "code",
   "execution_count": 26,
   "id": "46e6f142",
   "metadata": {},
   "outputs": [
    {
     "name": "stdout",
     "output_type": "stream",
     "text": [
      "Original Data:\n",
      "      Age  SystolicBP  DiastolicBP         BS  BodyTemp  HeartRate\n",
      "708    27         111           98   6.510000      98.0         79\n",
      "2649   23          91           80   7.010000      98.0         69\n",
      "1451   32         119           87   6.690000      98.0         70\n",
      "4511   15         120           64   6.541582      98.0         76\n",
      "1691   14         120           79   7.450000     101.1         70\n",
      "...   ...         ...          ...        ...       ...        ...\n",
      "4426   30         119           66   7.089469      98.0         79\n",
      "466    31         119           78   8.710000      98.0         75\n",
      "3092   33          99           58   6.610000     100.7         69\n",
      "3772   19         120           79   6.630000      98.1         76\n",
      "860    27         139           53  16.040000      98.1         65\n",
      "\n",
      "[3830 rows x 6 columns]\n",
      "\n",
      "Normalized Data:\n",
      "[[0.26666667 0.55555556 0.19607843 0.08461538 0.         0.28571429]\n",
      " [0.06666667 0.67777778 0.58823529 0.06461538 0.         0.42857143]\n",
      " [0.3        0.56666667 0.78431373 0.00307692 0.         0.62857143]\n",
      " ...\n",
      " [0.16666667 0.55555556 0.60784314 0.0471361  0.68878084 0.42857143]\n",
      " [0.25       0.32222222 0.2745098  0.01146872 0.         0.57142857]\n",
      " [0.31666667 0.54444444 0.70588235 0.02531967 0.         0.4       ]]\n"
     ]
    }
   ],
   "source": [
    "#Importing relevant library\n",
    "from sklearn.preprocessing import MinMaxScaler\n",
    "\n",
    "# Initializing MinMaxScaler\n",
    "scaler = MinMaxScaler()\n",
    "\n",
    "# Fit the scaler to the data and transform the data\n",
    "normalized_data = scaler.fit_transform(X_train_smote)\n",
    "\n",
    "print(\"Original Data:\")\n",
    "print(X_train)\n",
    "print(\"\\nNormalized Data:\")\n",
    "print(normalized_data)"
   ]
  },
  {
   "cell_type": "code",
<<<<<<< Updated upstream
   "execution_count": 27,
   "id": "92e19dc4",
=======
   "execution_count": 31,
   "id": "2d4eabff",
>>>>>>> Stashed changes
   "metadata": {},
   "outputs": [],
   "source": [
    "# Split the dataset into training and testing sets\n",
    "X_train2, X_val2, y_train2, y_val2 = train_test_split(normalized_data, y_train_smote, test_size=0.2, random_state=42)"
   ]
  },
  {
   "cell_type": "code",
<<<<<<< Updated upstream
   "execution_count": 28,
   "id": "624f9435",
=======
   "execution_count": 32,
   "id": "987d4a69",
>>>>>>> Stashed changes
   "metadata": {},
   "outputs": [
    {
     "data": {
      "text/plain": [
       "(4788, 6)"
      ]
     },
     "execution_count": 28,
     "metadata": {},
     "output_type": "execute_result"
    }
   ],
   "source": [
    "normalized_data.shape"
   ]
  },
  {
   "cell_type": "markdown",
   "id": "f43c3aea",
   "metadata": {},
   "source": [
    "### Training logistic model on normalized data"
   ]
  },
  {
   "cell_type": "code",
   "execution_count": 29,
   "id": "acb6bcda",
   "metadata": {},
   "outputs": [
    {
     "name": "stdout",
     "output_type": "stream",
     "text": [
      "Accuracy:  0.5386221294363257\n",
      "Precision:  0.539049945835688\n"
     ]
    }
   ],
   "source": [
    "# Step 1: Import Libraries\n",
    "from sklearn.linear_model import LogisticRegression\n",
    "from sklearn.metrics import accuracy_score, confusion_matrix, classification_report\n",
    "from sklearn.metrics import precision_score\n",
    "\n",
    "# Step 2: Train logistic regression model\n",
    "log_model_nor = LogisticRegression()\n",
    "log_model_nor.fit(X_train2, y_train2)\n",
    "\n",
    "# Step 3: Make predictions\n",
    "y_pred2 = log_model_nor.predict(X_val2)\n",
    "\n",
    "# Step 4: Evaluating the model's performance using accuracy as the metric\n",
    "accuracy = accuracy_score(y_val2, y_pred2)\n",
    "print(\"Accuracy: \", accuracy)\n",
    "\n",
    "# Step 5: Evaluating the model's performance using precision as the metric\n",
    "precision = precision_score(y_val2, y_pred2, average = 'weighted')\n",
    "print(\"Precision: \", precision)"
   ]
  },
  {
   "cell_type": "markdown",
   "id": "86201ca1",
   "metadata": {},
   "source": [
    "### Training K-Nearest Neighbor model on the normalized data"
   ]
  },
  {
   "cell_type": "code",
   "execution_count": 30,
   "id": "ecb553da",
   "metadata": {},
   "outputs": [
    {
     "name": "stdout",
     "output_type": "stream",
     "text": [
      "Accuracy:  0.6002087682672234\n",
      "Precision:  0.5911859517744094\n"
     ]
    }
   ],
   "source": [
    "#Step 1: Importing relevant libraries\n",
    "from sklearn.neighbors import KNeighborsClassifier\n",
    "from sklearn.metrics import accuracy_score, confusion_matrix, classification_report\n",
    "from sklearn.metrics import precision_score\n",
    "\n",
    "# Step 2: Train KNeighborsClassifier model\n",
    "KNN_model_nor = KNeighborsClassifier()\n",
    "KNN_model_nor.fit(X_train2, y_train2)\n",
    "\n",
    "# Step 3: Make predictions\n",
    "y_pred2 = KNN_model_nor.predict(X_val2)\n",
    "\n",
    "# Step 4: Evaluating the model's performance using accuracy as the metric\n",
    "accuracy = accuracy_score(y_val2, y_pred2)\n",
    "print(\"Accuracy: \", accuracy)\n",
    "\n",
    "# Step 5: Evaluating the model's performance using precision as the metric\n",
    "precision = precision_score(y_val2, y_pred2, average = 'weighted')\n",
    "print(\"Precision: \", precision)"
   ]
  },
  {
   "cell_type": "markdown",
   "id": "c77a3b5e",
   "metadata": {},
   "source": [
    "### Training Random Forest Classifier on the normalized data set"
   ]
  },
  {
   "cell_type": "code",
   "execution_count": 31,
   "id": "ccfac28a",
   "metadata": {},
   "outputs": [
    {
     "name": "stdout",
     "output_type": "stream",
     "text": [
      "Accuracy:  0.6482254697286013\n",
      "Precision:  0.6412510741080023\n"
     ]
    }
   ],
   "source": [
    "# Step 1: Importing relevant libraries\n",
    "from sklearn.ensemble import RandomForestClassifier\n",
    "from sklearn.metrics import accuracy_score, confusion_matrix, classification_report\n",
    "from sklearn.metrics import precision_score\n",
    "\n",
    "# Step 2: Train Random Forest Classifier model\n",
    "RF_model_nor = RandomForestClassifier() \n",
    "RF_model_nor.fit(X_train2, y_train2)\n",
    "\n",
    "# Step 3: Make predictions\n",
    "y_pred2 = RF_model_nor.predict(X_val2)\n",
    "\n",
    "# Step 4:  Evaluating the model's performance using accuracy as the metric\n",
    "from sklearn.metrics import accuracy_score\n",
    "accuracy = accuracy_score(y_val2, y_pred2)\n",
    "print(\"Accuracy: \", accuracy)\n",
    "\n",
    "# Step 5: Evaluating the model's performance using precision as the metric\n",
    "precision = precision_score(y_val2, y_pred2, average = 'weighted')\n",
    "print(\"Precision: \", precision)"
   ]
  },
  {
   "cell_type": "code",
   "execution_count": null,
   "id": "15b26b9e",
   "metadata": {},
   "outputs": [],
   "source": []
  },
  {
   "cell_type": "markdown",
   "id": "e8f1ab02",
   "metadata": {},
   "source": [
    "## Predicting the target value of the test set for submission in kaggle "
   ]
  },
  {
   "cell_type": "markdown",
   "id": "a39280c7",
   "metadata": {},
   "source": [
    "#### Normalizing the test data"
   ]
  },
  {
   "cell_type": "code",
   "execution_count": 32,
   "id": "40f624f7",
   "metadata": {},
   "outputs": [
    {
     "name": "stdout",
     "output_type": "stream",
     "text": [
      "Original Data:\n",
      "     Age  SystolicBP  DiastolicBP     BS  BodyTemp  HeartRate\n",
      "0     30          87           81   7.13      98.0         78\n",
      "1     33         119           89   7.01      98.0         65\n",
      "2     35         128           84   6.69      98.0         56\n",
      "3     36         119           62   6.25     100.7         64\n",
      "4     23         150           69   7.21      98.0         86\n",
      "..   ...         ...          ...    ...       ...        ...\n",
      "995   29         121           68   7.53      98.0         86\n",
      "996   25         119           79   6.28      98.0         70\n",
      "997   15         120           79   6.50      98.0         78\n",
      "998   35          93           68  10.96      98.0         70\n",
      "999   54          99           79   9.86      98.0         80\n",
      "\n",
      "[1000 rows x 6 columns]\n",
      "\n",
      "Normalized Data:\n",
      "[[0.40816327 0.17977528 0.62745098 0.08692308 0.         0.67647059]\n",
      " [0.46938776 0.53932584 0.78431373 0.07769231 0.         0.29411765]\n",
      " [0.51020408 0.64044944 0.68627451 0.05307692 0.         0.02941176]\n",
      " ...\n",
      " [0.10204082 0.5505618  0.58823529 0.03846154 0.         0.67647059]\n",
      " [0.51020408 0.24719101 0.37254902 0.38153846 0.         0.44117647]\n",
      " [0.89795918 0.31460674 0.58823529 0.29692308 0.         0.73529412]]\n"
     ]
    },
    {
     "data": {
      "text/plain": [
       "(1000, 6)"
      ]
     },
     "execution_count": 32,
     "metadata": {},
     "output_type": "execute_result"
    }
   ],
   "source": [
    "#Importing relevant library\n",
    "from sklearn.preprocessing import MinMaxScaler\n",
    "\n",
    "# Initializing MinMaxScaler\n",
    "scaler = MinMaxScaler()\n",
    "\n",
    "# Fit the scaler to the data and transform the data\n",
    "X_test = scaler.fit_transform(data_test)\n",
    "\n",
    "print(\"Original Data:\")\n",
    "print(data_test)\n",
    "print(\"\\nNormalized Data:\")\n",
    "print(X_test)\n",
    "X_test.shape"
   ]
  },
  {
   "cell_type": "code",
   "execution_count": 33,
   "id": "325ebec1",
   "metadata": {},
   "outputs": [
    {
     "name": "stdout",
     "output_type": "stream",
     "text": [
      "     Predicted_Risk\n",
      "0                 0\n",
      "1                 1\n",
      "2                 2\n",
      "3                 2\n",
      "4                 0\n",
      "..              ...\n",
      "995               0\n",
      "996               1\n",
      "997               1\n",
      "998               0\n",
      "999               0\n",
      "\n",
      "[1000 rows x 1 columns]\n"
     ]
    }
   ],
   "source": [
    "# Make predictions on the test data\n",
    "test_data_pred = RF_model_nor.predict(X_test)\n",
    "\n",
    "# Convert y_pred to a DataFrame\n",
    "test_data_pred = pd.DataFrame({'Predicted_Risk': test_data_pred})\n",
    "\n",
    "# Print the predictions\n",
    "print(test_data_pred)\n",
    "test_data_pred.to_csv(\"Random_forest_pred2.csv\")"
   ]
  },
  {
   "cell_type": "code",
   "execution_count": 34,
   "id": "78ed7b40",
   "metadata": {},
   "outputs": [],
   "source": [
    "## predicting the Test Data \n",
    "  # logistic \n",
    "    # other models "
   ]
  },
  {
   "cell_type": "markdown",
<<<<<<< HEAD
   "id": "33bfa011",
=======
   "id": "02764280",
   "metadata": {},
   "source": [
    "#### Implementation of the Oputuna for Hyperparamiter tuning "
   ]
  },
  {
   "cell_type": "code",
   "execution_count": null,
   "id": "840f820d",
>>>>>>> 5d3ba71cd710a5ca63445aa350ff30d5be438ca2
   "metadata": {},
   "source": [
<<<<<<< HEAD
    "## Random Search Hyperparameter tuning\n"
=======
    "import optuna\n",
    "\n",
    "# Define objective function for Optuna\n",
    "def objective(trial):\n",
    "    # Define parameters to optimize\n",
    "    n_estimators = trial.suggest_int('n_estimators', 50, 500)\n",
    "    max_depth = trial.suggest_int('max_depth', 2, 32, log=True)\n",
    "    min_samples_split = trial.suggest_float('min_samples_split', 0.1, 1.0)\n",
    "    min_samples_leaf = trial.suggest_float('min_samples_leaf', 0.1, 0.5)\n",
    "    \n",
    "    # Train Random Forest Classifier model with optimized parameters\n",
    "    RF_model = RandomForestClassifier(\n",
    "        n_estimators=n_estimators,\n",
    "        max_depth=max_depth,\n",
    "        min_samples_split=min_samples_split,\n",
    "        min_samples_leaf=min_samples_leaf,\n",
    "        random_state=42\n",
    "    )\n",
    "    RF_model.fit(normalized_data, y_train)\n",
    "\n",
    "    # Make predictions\n",
    "    y_pred = RF_model.predict(X_val)\n",
    "\n",
    "    # Evaluate the model's performance using accuracy as the metric\n",
    "    accuracy = accuracy_score(y_val, y_pred)\n",
    "    \n",
    "    return accuracy\n",
    "\n",
    "\n",
    "\n"
>>>>>>> 5d3ba71cd710a5ca63445aa350ff30d5be438ca2
   ]
  },
  {
   "cell_type": "code",
   "execution_count": 35,
   "id": "5b27e0c0",
   "metadata": {},
   "outputs": [],
   "source": [
<<<<<<< HEAD
    "#Importing relevant libraries\n",
    "from sklearn.datasets import load_iris\n",
    "from sklearn.model_selection import train_test_split, RandomizedSearchCV\n",
    "from sklearn.ensemble import RandomForestClassifier\n",
    "from scipy.stats import randint"
=======
    "# Split the dataset into training and validation sets\n",
    "normalized_data, X_val, y_train, y_val = train_test_split(X_train, y_train, test_size=0.2, random_state=42)\n",
    "\n",
    "# Define Optuna study\n",
    "study = optuna.create_study(direction='maximize')\n",
    "study.optimize(objective, n_trials=15)\n",
    "\n",
    "# Get the best hyperparameters\n",
    "best_params = study.best_params\n",
    "print(\"Best Hyperparameters:\", best_params)\n",
    "\n",
    "# Train Random Forest Classifier model with the best hyperparameters\n",
    "RF_model = RandomForestClassifier(**best_params, random_state=42)\n",
    "RF_model.fit(normalized_data, y_train)\n",
    "\n",
    "# Make predictions on validation set\n",
    "y_pred = RF_model.predict(X_val)\n",
    "\n",
    "# Evaluate the model's performance using accuracy as the metric\n",
    "accuracy = accuracy_score(y_val, y_pred)\n",
    "print(\"Accuracy:\", accuracy)\n",
    "\n",
    "# Evaluate the model's performance using precision as the metric\n",
    "precision = precision_score(y_val, y_pred, average='weighted')\n",
    "print(\"Precision:\", precision)"
>>>>>>> 5d3ba71cd710a5ca63445aa350ff30d5be438ca2
   ]
  },
  {
   "cell_type": "code",
   "execution_count": 36,
   "id": "5eef1a2e",
   "metadata": {},
   "outputs": [
    {
     "name": "stdout",
     "output_type": "stream",
     "text": [
      "Best Parameters: {'max_depth': 19, 'min_samples_leaf': 2, 'min_samples_split': 11, 'n_estimators': 54}\n",
      "Accuracy:  0.6085594989561587\n",
      "Precision:  0.6011591178193749\n"
     ]
    }
   ],
   "source": [
    "# Step 1: Defining the parameter distribution\n",
    "param_dist = {\n",
    "    'n_estimators': randint(10, 100),\n",
    "    'max_depth': randint(1, 20),\n",
    "    'min_samples_split': randint(2, 20),\n",
    "    'min_samples_leaf': randint(1, 20),\n",
    "}\n",
    "\n",
    "# Step 2: Instantiating the Random Forest classifier\n",
    "rf_classifier = RandomForestClassifier()\n",
    "\n",
    "# Step 3: Instantiating the RandomizedSearchCV object\n",
    "random_search = RandomizedSearchCV(rf_classifier, param_distributions=param_dist, n_iter=100, cv=5, random_state=42)\n",
    "\n",
    "# Step 3: Performing random search\n",
    "random_search.fit(X_train2, y_train2)\n",
    "\n",
    "# Get the best parameters\n",
    "best_params = random_search.best_params_\n",
    "print(\"Best Parameters:\", best_params)\n",
    "\n",
    "# Retrain the model with best parameters on the full training set\n",
    "best_rf = RandomForestClassifier(**best_params, random_state=42)\n",
    "best_rf.fit(X_train2, y_train2)\n",
    "\n",
    "# Step 5: Make predictions\n",
    "y_pred3 = best_rf.predict(X_val2)\n",
    "\n",
    "# Step 6:  Evaluating the model's performance using accuracy as the metric\n",
    "from sklearn.metrics import accuracy_score\n",
    "accuracy = accuracy_score(y_val2, y_pred3)\n",
    "print(\"Accuracy: \", accuracy)\n",
    "\n",
    "# Step 7: Evaluating the model's performance using precision as the metric\n",
    "precision = precision_score(y_val2, y_pred3, average = 'weighted')\n",
    "print(\"Precision: \", precision)"
   ]
  },
  {
   "cell_type": "markdown",
   "id": "aa26840d",
   "metadata": {},
   "source": [
    "## Predicting the target risk after Random Search hyperparameter tuning"
   ]
  },
  {
   "cell_type": "code",
   "execution_count": 37,
   "id": "60d3430b",
   "metadata": {},
   "outputs": [
    {
     "name": "stdout",
     "output_type": "stream",
     "text": [
      "     Predicted_Risk\n",
      "0                 0\n",
      "1                 1\n",
      "2                 2\n",
      "3                 2\n",
      "4                 0\n",
      "..              ...\n",
      "995               0\n",
      "996               1\n",
      "997               1\n",
      "998               0\n",
      "999               0\n",
      "\n",
      "[1000 rows x 1 columns]\n"
     ]
    }
   ],
   "source": [
    "# Make predictions on the test data after Random Search Hyperparameter Tuning\n",
    "test_data_pred2 = random_search.predict(X_test)\n",
    "\n",
    "# Convert y_pred to a DataFrame\n",
    "test_data_pred2 = pd.DataFrame({'Predicted_Risk': test_data_pred2})\n",
    "\n",
    "# Print the predictions\n",
    "print(test_data_pred)\n",
    "test_data_pred.to_csv(\"Random_search_pred.csv\")"
   ]
  },
  {
   "cell_type": "markdown",
   "id": "2d8a2a4b",
   "metadata": {
    "scrolled": true
   },
   "source": [
    "## Grid Search Hyperparameter tuning"
   ]
  },
  {
   "cell_type": "code",
   "execution_count": 38,
   "id": "86b6d591",
   "metadata": {
    "scrolled": true
   },
   "outputs": [],
   "source": [
    "#Importing the relevant library\n",
    "from sklearn.model_selection import GridSearchCV"
   ]
  },
  {
   "cell_type": "code",
   "execution_count": 39,
   "id": "30c84b0d",
   "metadata": {},
   "outputs": [],
   "source": [
    "# Create the Random Forest classifier\n",
    "rf = RandomForestClassifier(random_state=42)\n",
    "\n",
    "# Define the parameter grid for GridSearchCV\n",
    "param_grid = {\n",
    "    'n_estimators': [100, 200, 300],\n",
    "    'max_depth': [10, 20, 30],\n",
    "    'min_samples_split': [2, 5, 10],\n",
    "    'min_samples_leaf': [1, 2, 4],\n",
    "    'bootstrap': [True, False]\n",
    "}"
   ]
  },
  {
   "cell_type": "code",
   "execution_count": 40,
   "id": "52b49588",
   "metadata": {},
   "outputs": [
    {
     "data": {
      "text/plain": [
       "GridSearchCV(cv=5, estimator=RandomForestClassifier(),\n",
       "             param_grid={'bootstrap': [True, False], 'max_depth': [10, 20, 30],\n",
       "                         'min_samples_leaf': [1, 2, 4],\n",
       "                         'min_samples_split': [2, 5, 10],\n",
       "                         'n_estimators': [100, 200, 300]},\n",
       "             scoring='accuracy')"
      ]
     },
     "execution_count": 40,
     "metadata": {},
     "output_type": "execute_result"
    }
   ],
   "source": [
    "# Create GridSearchCV\n",
    "grid_search = GridSearchCV(rf_classifier, param_grid=param_grid, cv=5, scoring='accuracy')\n",
    "\n",
    "# Step 3: Performing random search\n",
    "grid_search.fit(X_train2, y_train2)"
   ]
  },
  {
   "cell_type": "code",
   "execution_count": 41,
   "id": "a2405af9",
   "metadata": {},
   "outputs": [
    {
     "name": "stdout",
     "output_type": "stream",
     "text": [
      "Fitting 5 folds for each of 162 candidates, totalling 810 fits\n",
      "Best Parameters: {'bootstrap': True, 'max_depth': 20, 'min_samples_leaf': 1, 'min_samples_split': 2, 'n_estimators': 300}\n",
      "Accuracy:  0.6346555323590815\n",
      "Precision:  0.62746277538125\n"
     ]
    }
   ],
   "source": [
    "# Create GridSearchCV\n",
    "grid_search = GridSearchCV(rf, param_grid=param_grid, cv=5, verbose=1, n_jobs=-1)\n",
    "\n",
    "# Fit GridSearchCV on the training data\n",
    "grid_search.fit(X_train2, y_train2)\n",
    "\n",
    "# Get the best parameters\n",
    "best_params = grid_search.best_params_\n",
    "print(\"Best Parameters:\", best_params)\n",
    "\n",
    "# Retrain the model with best parameters on the full training set\n",
    "best_rf = RandomForestClassifier(**best_params, random_state=42)\n",
    "best_rf.fit(X_train2, y_train2)\n",
    "\n",
    "# Evaluate the final model on the testing set\n",
    "#test_score = best_rf.score(X_test, y_test)\n",
    "#print(\"Testing Accuracy:\", test_score)\n",
    "\n",
    "# Step 5: Make predictions\n",
    "y_pred4 = best_rf.predict(X_val2)\n",
    "\n",
    "# Step 6:  Evaluating the model's performance using accuracy as the metric\n",
    "from sklearn.metrics import accuracy_score\n",
    "accuracy = accuracy_score(y_val2, y_pred4)\n",
    "print(\"Accuracy: \", accuracy)\n",
    "\n",
    "# Step 7: Evaluating the model's performance using precision as the metric\n",
    "precision = precision_score(y_val2, y_pred4, average = 'weighted')\n",
    "print(\"Precision: \", precision)"
   ]
  },
  {
   "cell_type": "code",
   "execution_count": 42,
   "id": "7ecca786",
   "metadata": {},
   "outputs": [
    {
     "name": "stdout",
     "output_type": "stream",
     "text": [
      "Best Parameters: {'bootstrap': True, 'max_depth': 20, 'min_samples_leaf': 1, 'min_samples_split': 2, 'n_estimators': 300}\n",
      "Accuracy:  0.6346555323590815\n",
      "Precision:  0.62746277538125\n"
     ]
    }
   ],
   "source": [
    "# Get the best parameters\n",
    "best_params = grid_search.best_params_\n",
    "print(\"Best Parameters:\", best_params)\n",
    "\n",
    "# Retrain the model with best parameters on the full training set\n",
    "best_rf = RandomForestClassifier(**best_params, random_state=42)\n",
    "best_rf.fit(X_train2, y_train2)\n",
    "\n",
    "# Step 5: Make predictions\n",
    "y_pred4 = best_rf.predict(X_val2)\n",
    "\n",
    "# Step 6:  Evaluating the model's performance using accuracy as the metric\n",
    "from sklearn.metrics import accuracy_score\n",
    "accuracy = accuracy_score(y_val2, y_pred4)\n",
    "print(\"Accuracy: \", accuracy)\n",
    "\n",
    "# Step 7: Evaluating the model's performance using precision as the metric\n",
    "precision = precision_score(y_val2, y_pred4, average = 'weighted')\n",
    "print(\"Precision: \", precision)"
   ]
  },
  {
   "cell_type": "code",
   "execution_count": 43,
   "id": "443ce5b2",
   "metadata": {},
   "outputs": [
    {
     "name": "stdout",
     "output_type": "stream",
     "text": [
      "Best hyperparameters: {'bootstrap': True, 'max_depth': 20, 'min_samples_leaf': 1, 'min_samples_split': 2, 'n_estimators': 300}\n"
     ]
    }
   ],
   "source": [
    "# Printing the best hyperparameters found\n",
    "print(\"Best hyperparameters:\", grid_search.best_params_)"
   ]
  },
  {
   "cell_type": "code",
   "execution_count": 44,
   "id": "f9647caf",
   "metadata": {},
   "outputs": [
    {
     "name": "stdout",
     "output_type": "stream",
     "text": [
      "Accuracy:  0.6346555323590815\n"
     ]
    }
   ],
   "source": [
    "# Step 5: Make predictions\n",
    "y_pred4 = grid_search.predict(X_val2)\n",
    "\n",
    "# Step 6:  Evaluating the model's performance using accuracy as the metric\n",
    "from sklearn.metrics import accuracy_score\n",
    "accuracy = accuracy_score(y_val2, y_pred4)\n",
    "print(\"Accuracy: \", accuracy)"
   ]
  },
  {
   "cell_type": "markdown",
   "id": "0446c9db",
   "metadata": {},
   "source": [
    "## Preddicting target risk level after Grid search hyperparameter tuning"
   ]
  },
  {
   "cell_type": "code",
   "execution_count": 46,
   "id": "19f72293",
   "metadata": {},
   "outputs": [
    {
     "name": "stdout",
     "output_type": "stream",
     "text": [
      "     Predicted_Risk\n",
      "0                 0\n",
      "1                 1\n",
      "2                 2\n",
      "3                 2\n",
      "4                 0\n",
      "..              ...\n",
      "995               0\n",
      "996               1\n",
      "997               1\n",
      "998               0\n",
      "999               0\n",
      "\n",
      "[1000 rows x 1 columns]\n"
     ]
    }
   ],
   "source": [
    "# Make predictions on the test data after Random Search Hyperparameter Tuning\n",
    "test_data_pred3 = grid_search.predict(X_test)\n",
    "\n",
    "# Convert y_pred to a DataFrame\n",
    "test_data_pred3 = pd.DataFrame({'Predicted_Risk': test_data_pred3})\n",
    "\n",
    "# Print the predictions\n",
    "print(test_data_pred)\n",
    "test_data_pred.to_csv(\"Grid_search_pred.csv\")"
   ]
  }
 ],
 "metadata": {
  "kernelspec": {
   "display_name": "Python 3 (ipykernel)",
   "language": "python",
   "name": "python3"
  },
  "language_info": {
   "codemirror_mode": {
    "name": "ipython",
    "version": 3
   },
   "file_extension": ".py",
   "mimetype": "text/x-python",
   "name": "python",
   "nbconvert_exporter": "python",
   "pygments_lexer": "ipython3",
   "version": "3.9.12"
  }
 },
 "nbformat": 4,
 "nbformat_minor": 5
}
